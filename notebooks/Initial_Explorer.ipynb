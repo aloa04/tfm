{
 "cells": [
  {
   "cell_type": "markdown",
   "metadata": {
    "id": "zlltMc6jlCo9"
   },
   "source": [
    "# SET UP DATA"
   ]
  },
  {
   "cell_type": "code",
   "execution_count": 1,
   "metadata": {
    "id": "Butd3SRw6YtH"
   },
   "outputs": [],
   "source": [
    "import pandas as pd                 # For dataframe handling\n",
    "import numpy as np                  # For matrix and list computations\n",
    "import matplotlib.pyplot as plt     # For advanced graphse\n",
    "import seaborn as sns  # For hi level, Pandas oriented, graphics\n",
    "import scipy.stats as stats  # For statistical inference \n",
    "from pandas.api.types import CategoricalDtype"
   ]
  },
  {
   "cell_type": "code",
   "execution_count": 17,
   "metadata": {
    "colab": {
     "base_uri": "https://localhost:8080/"
    },
    "id": "eDhsEyXaDCbF",
    "outputId": "448d1d18-a86e-4dfd-e4e3-ef039db96531"
   },
   "outputs": [
    {
     "data": {
      "text/html": [
       "<div>\n",
       "<style scoped>\n",
       "    .dataframe tbody tr th:only-of-type {\n",
       "        vertical-align: middle;\n",
       "    }\n",
       "\n",
       "    .dataframe tbody tr th {\n",
       "        vertical-align: top;\n",
       "    }\n",
       "\n",
       "    .dataframe thead th {\n",
       "        text-align: right;\n",
       "    }\n",
       "</style>\n",
       "<table border=\"1\" class=\"dataframe\">\n",
       "  <thead>\n",
       "    <tr style=\"text-align: right;\">\n",
       "      <th></th>\n",
       "      <th>NM_ORGANIZATIONESP</th>\n",
       "      <th>STD_N_HR_TYPEESP</th>\n",
       "      <th>Año</th>\n",
       "      <th>AñoMes</th>\n",
       "      <th>STD_ID_PERSON</th>\n",
       "      <th>STD_N_GENDERESP</th>\n",
       "      <th>Núm. Periodo</th>\n",
       "      <th>SSP_ID_CONT_INTERN</th>\n",
       "      <th>SSP_NM_CONT_INESP</th>\n",
       "      <th>Fecha Inicio</th>\n",
       "      <th>...</th>\n",
       "      <th>STD_N_WL_TYPEESP</th>\n",
       "      <th>STD_WORK_LOCESP</th>\n",
       "      <th>CSP_N_COLECTIVO</th>\n",
       "      <th>STD_DT_BIRTH</th>\n",
       "      <th>Edad</th>\n",
       "      <th>RangoEdad</th>\n",
       "      <th>Nacionalidad</th>\n",
       "      <th>SSP_ID_MINUSVALIA</th>\n",
       "      <th>Nombre de la minusvalia : Span</th>\n",
       "      <th>Activos</th>\n",
       "    </tr>\n",
       "  </thead>\n",
       "  <tbody>\n",
       "    <tr>\n",
       "      <th>0</th>\n",
       "      <td>Hospital de TORREJON</td>\n",
       "      <td>Empleado</td>\n",
       "      <td>2018</td>\n",
       "      <td>201801</td>\n",
       "      <td>1000148</td>\n",
       "      <td>Mujer</td>\n",
       "      <td>2</td>\n",
       "      <td>189</td>\n",
       "      <td>INDEFINIDO TP COMPL TRANSF DE TEMPO</td>\n",
       "      <td>03/05/2010</td>\n",
       "      <td>...</td>\n",
       "      <td>Atención Especializada</td>\n",
       "      <td>HospitalA</td>\n",
       "      <td>Estructura</td>\n",
       "      <td>17/04/1982</td>\n",
       "      <td>41</td>\n",
       "      <td>41-50</td>\n",
       "      <td>Española</td>\n",
       "      <td>-2</td>\n",
       "      <td>Sin Valor</td>\n",
       "      <td>1</td>\n",
       "    </tr>\n",
       "    <tr>\n",
       "      <th>1</th>\n",
       "      <td>Hospital de TORREJON</td>\n",
       "      <td>Empleado</td>\n",
       "      <td>2018</td>\n",
       "      <td>201801</td>\n",
       "      <td>1001312</td>\n",
       "      <td>Varón</td>\n",
       "      <td>2</td>\n",
       "      <td>100</td>\n",
       "      <td>ORDINARIO INDEFINIDO TP COMPLETO</td>\n",
       "      <td>04/11/2010</td>\n",
       "      <td>...</td>\n",
       "      <td>Atención Especializada</td>\n",
       "      <td>HospitalA</td>\n",
       "      <td>Estructura</td>\n",
       "      <td>15/08/1966</td>\n",
       "      <td>57</td>\n",
       "      <td>Más de 50</td>\n",
       "      <td>Española</td>\n",
       "      <td>-2</td>\n",
       "      <td>Sin Valor</td>\n",
       "      <td>1</td>\n",
       "    </tr>\n",
       "    <tr>\n",
       "      <th>2</th>\n",
       "      <td>Hospital de TORREJON</td>\n",
       "      <td>Empleado</td>\n",
       "      <td>2018</td>\n",
       "      <td>201801</td>\n",
       "      <td>1002094</td>\n",
       "      <td>Varón</td>\n",
       "      <td>2</td>\n",
       "      <td>100</td>\n",
       "      <td>ORDINARIO INDEFINIDO TP COMPLETO</td>\n",
       "      <td>16/05/2011</td>\n",
       "      <td>...</td>\n",
       "      <td>Atención Especializada</td>\n",
       "      <td>HospitalA</td>\n",
       "      <td>Estructura</td>\n",
       "      <td>20/02/1983</td>\n",
       "      <td>40</td>\n",
       "      <td>25-40</td>\n",
       "      <td>Española</td>\n",
       "      <td>-2</td>\n",
       "      <td>Sin Valor</td>\n",
       "      <td>1</td>\n",
       "    </tr>\n",
       "    <tr>\n",
       "      <th>3</th>\n",
       "      <td>Hospital de TORREJON</td>\n",
       "      <td>Empleado</td>\n",
       "      <td>2018</td>\n",
       "      <td>201801</td>\n",
       "      <td>1002518</td>\n",
       "      <td>Mujer</td>\n",
       "      <td>2</td>\n",
       "      <td>189</td>\n",
       "      <td>INDEFINIDO TP COMPL TRANSF DE TEMPO</td>\n",
       "      <td>03/10/2011</td>\n",
       "      <td>...</td>\n",
       "      <td>Atención Especializada</td>\n",
       "      <td>HospitalA</td>\n",
       "      <td>Estructura</td>\n",
       "      <td>12/10/1983</td>\n",
       "      <td>40</td>\n",
       "      <td>25-40</td>\n",
       "      <td>Española</td>\n",
       "      <td>-2</td>\n",
       "      <td>Sin Valor</td>\n",
       "      <td>1</td>\n",
       "    </tr>\n",
       "    <tr>\n",
       "      <th>4</th>\n",
       "      <td>Hospital de TORREJON</td>\n",
       "      <td>Empleado</td>\n",
       "      <td>2018</td>\n",
       "      <td>201801</td>\n",
       "      <td>1003521</td>\n",
       "      <td>Varón</td>\n",
       "      <td>2</td>\n",
       "      <td>100</td>\n",
       "      <td>ORDINARIO INDEFINIDO TP COMPLETO</td>\n",
       "      <td>27/06/2011</td>\n",
       "      <td>...</td>\n",
       "      <td>Atención Especializada</td>\n",
       "      <td>HospitalA</td>\n",
       "      <td>Estructura</td>\n",
       "      <td>09/07/1966</td>\n",
       "      <td>57</td>\n",
       "      <td>Más de 50</td>\n",
       "      <td>Española</td>\n",
       "      <td>-2</td>\n",
       "      <td>Sin Valor</td>\n",
       "      <td>1</td>\n",
       "    </tr>\n",
       "    <tr>\n",
       "      <th>...</th>\n",
       "      <td>...</td>\n",
       "      <td>...</td>\n",
       "      <td>...</td>\n",
       "      <td>...</td>\n",
       "      <td>...</td>\n",
       "      <td>...</td>\n",
       "      <td>...</td>\n",
       "      <td>...</td>\n",
       "      <td>...</td>\n",
       "      <td>...</td>\n",
       "      <td>...</td>\n",
       "      <td>...</td>\n",
       "      <td>...</td>\n",
       "      <td>...</td>\n",
       "      <td>...</td>\n",
       "      <td>...</td>\n",
       "      <td>...</td>\n",
       "      <td>...</td>\n",
       "      <td>...</td>\n",
       "      <td>...</td>\n",
       "      <td>...</td>\n",
       "    </tr>\n",
       "    <tr>\n",
       "      <th>61104</th>\n",
       "      <td>Hospital de TORREJON</td>\n",
       "      <td>Empleado</td>\n",
       "      <td>2022</td>\n",
       "      <td>202207</td>\n",
       "      <td>1030771</td>\n",
       "      <td>Mujer</td>\n",
       "      <td>1</td>\n",
       "      <td>402R</td>\n",
       "      <td>EVENTUAL (REFUERZO)</td>\n",
       "      <td>05/07/2022</td>\n",
       "      <td>...</td>\n",
       "      <td>Atención Especializada</td>\n",
       "      <td>HospitalA</td>\n",
       "      <td>Refuerzos</td>\n",
       "      <td>23/07/1990</td>\n",
       "      <td>33</td>\n",
       "      <td>25-40</td>\n",
       "      <td>Española</td>\n",
       "      <td>-2</td>\n",
       "      <td>Sin Valor</td>\n",
       "      <td>1</td>\n",
       "    </tr>\n",
       "    <tr>\n",
       "      <th>61105</th>\n",
       "      <td>Hospital de TORREJON</td>\n",
       "      <td>Empleado</td>\n",
       "      <td>2022</td>\n",
       "      <td>202207</td>\n",
       "      <td>1030772</td>\n",
       "      <td>Mujer</td>\n",
       "      <td>1</td>\n",
       "      <td>402R</td>\n",
       "      <td>EVENTUAL (REFUERZO)</td>\n",
       "      <td>08/07/2022</td>\n",
       "      <td>...</td>\n",
       "      <td>Atención Especializada</td>\n",
       "      <td>HospitalA</td>\n",
       "      <td>Refuerzos</td>\n",
       "      <td>22/10/1995</td>\n",
       "      <td>28</td>\n",
       "      <td>25-40</td>\n",
       "      <td>Española</td>\n",
       "      <td>-2</td>\n",
       "      <td>Sin Valor</td>\n",
       "      <td>1</td>\n",
       "    </tr>\n",
       "    <tr>\n",
       "      <th>61106</th>\n",
       "      <td>Hospital de TORREJON</td>\n",
       "      <td>Empleado</td>\n",
       "      <td>2022</td>\n",
       "      <td>202207</td>\n",
       "      <td>1030777</td>\n",
       "      <td>Varón</td>\n",
       "      <td>1</td>\n",
       "      <td>402V</td>\n",
       "      <td>EVENTUAL (SUST. VACACIONES)</td>\n",
       "      <td>06/07/2022</td>\n",
       "      <td>...</td>\n",
       "      <td>Atención Especializada</td>\n",
       "      <td>HospitalA</td>\n",
       "      <td>Sustituciones</td>\n",
       "      <td>16/06/1981</td>\n",
       "      <td>42</td>\n",
       "      <td>41-50</td>\n",
       "      <td>Española</td>\n",
       "      <td>-2</td>\n",
       "      <td>Sin Valor</td>\n",
       "      <td>1</td>\n",
       "    </tr>\n",
       "    <tr>\n",
       "      <th>61107</th>\n",
       "      <td>Hospital de TORREJON</td>\n",
       "      <td>Empleado</td>\n",
       "      <td>2022</td>\n",
       "      <td>202207</td>\n",
       "      <td>1030782</td>\n",
       "      <td>Mujer</td>\n",
       "      <td>1</td>\n",
       "      <td>402R</td>\n",
       "      <td>EVENTUAL (REFUERZO)</td>\n",
       "      <td>08/07/2022</td>\n",
       "      <td>...</td>\n",
       "      <td>Atención Especializada</td>\n",
       "      <td>HospitalA</td>\n",
       "      <td>Refuerzos</td>\n",
       "      <td>22/05/1976</td>\n",
       "      <td>47</td>\n",
       "      <td>41-50</td>\n",
       "      <td>Española</td>\n",
       "      <td>-2</td>\n",
       "      <td>Sin Valor</td>\n",
       "      <td>1</td>\n",
       "    </tr>\n",
       "    <tr>\n",
       "      <th>61108</th>\n",
       "      <td>Hospital de TORREJON</td>\n",
       "      <td>Empleado</td>\n",
       "      <td>2022</td>\n",
       "      <td>202207</td>\n",
       "      <td>1030783</td>\n",
       "      <td>Mujer</td>\n",
       "      <td>1</td>\n",
       "      <td>402V</td>\n",
       "      <td>EVENTUAL (SUST. VACACIONES)</td>\n",
       "      <td>06/07/2022</td>\n",
       "      <td>...</td>\n",
       "      <td>Atención Especializada</td>\n",
       "      <td>HospitalA</td>\n",
       "      <td>Sustituciones</td>\n",
       "      <td>07/04/2004</td>\n",
       "      <td>19</td>\n",
       "      <td>Menos de 25</td>\n",
       "      <td>Española</td>\n",
       "      <td>-2</td>\n",
       "      <td>Sin Valor</td>\n",
       "      <td>1</td>\n",
       "    </tr>\n",
       "  </tbody>\n",
       "</table>\n",
       "<p>61109 rows × 26 columns</p>\n",
       "</div>"
      ],
      "text/plain": [
       "         NM_ORGANIZATIONESP STD_N_HR_TYPEESP   Año  AñoMes  STD_ID_PERSON  \\\n",
       "0      Hospital de TORREJON         Empleado  2018  201801        1000148   \n",
       "1      Hospital de TORREJON         Empleado  2018  201801        1001312   \n",
       "2      Hospital de TORREJON         Empleado  2018  201801        1002094   \n",
       "3      Hospital de TORREJON         Empleado  2018  201801        1002518   \n",
       "4      Hospital de TORREJON         Empleado  2018  201801        1003521   \n",
       "...                     ...              ...   ...     ...            ...   \n",
       "61104  Hospital de TORREJON         Empleado  2022  202207        1030771   \n",
       "61105  Hospital de TORREJON         Empleado  2022  202207        1030772   \n",
       "61106  Hospital de TORREJON         Empleado  2022  202207        1030777   \n",
       "61107  Hospital de TORREJON         Empleado  2022  202207        1030782   \n",
       "61108  Hospital de TORREJON         Empleado  2022  202207        1030783   \n",
       "\n",
       "      STD_N_GENDERESP  Núm. Periodo SSP_ID_CONT_INTERN  \\\n",
       "0               Mujer             2                189   \n",
       "1               Varón             2                100   \n",
       "2               Varón             2                100   \n",
       "3               Mujer             2                189   \n",
       "4               Varón             2                100   \n",
       "...               ...           ...                ...   \n",
       "61104           Mujer             1               402R   \n",
       "61105           Mujer             1               402R   \n",
       "61106           Varón             1               402V   \n",
       "61107           Mujer             1               402R   \n",
       "61108           Mujer             1               402V   \n",
       "\n",
       "                         SSP_NM_CONT_INESP Fecha Inicio  ...  \\\n",
       "0      INDEFINIDO TP COMPL TRANSF DE TEMPO   03/05/2010  ...   \n",
       "1         ORDINARIO INDEFINIDO TP COMPLETO   04/11/2010  ...   \n",
       "2         ORDINARIO INDEFINIDO TP COMPLETO   16/05/2011  ...   \n",
       "3      INDEFINIDO TP COMPL TRANSF DE TEMPO   03/10/2011  ...   \n",
       "4         ORDINARIO INDEFINIDO TP COMPLETO   27/06/2011  ...   \n",
       "...                                    ...          ...  ...   \n",
       "61104                  EVENTUAL (REFUERZO)   05/07/2022  ...   \n",
       "61105                  EVENTUAL (REFUERZO)   08/07/2022  ...   \n",
       "61106          EVENTUAL (SUST. VACACIONES)   06/07/2022  ...   \n",
       "61107                  EVENTUAL (REFUERZO)   08/07/2022  ...   \n",
       "61108          EVENTUAL (SUST. VACACIONES)   06/07/2022  ...   \n",
       "\n",
       "             STD_N_WL_TYPEESP STD_WORK_LOCESP CSP_N_COLECTIVO STD_DT_BIRTH  \\\n",
       "0      Atención Especializada       HospitalA      Estructura   17/04/1982   \n",
       "1      Atención Especializada       HospitalA      Estructura   15/08/1966   \n",
       "2      Atención Especializada       HospitalA      Estructura   20/02/1983   \n",
       "3      Atención Especializada       HospitalA      Estructura   12/10/1983   \n",
       "4      Atención Especializada       HospitalA      Estructura   09/07/1966   \n",
       "...                       ...             ...             ...          ...   \n",
       "61104  Atención Especializada       HospitalA       Refuerzos   23/07/1990   \n",
       "61105  Atención Especializada       HospitalA       Refuerzos   22/10/1995   \n",
       "61106  Atención Especializada       HospitalA   Sustituciones   16/06/1981   \n",
       "61107  Atención Especializada       HospitalA       Refuerzos   22/05/1976   \n",
       "61108  Atención Especializada       HospitalA   Sustituciones   07/04/2004   \n",
       "\n",
       "      Edad    RangoEdad Nacionalidad SSP_ID_MINUSVALIA  \\\n",
       "0       41        41-50     Española                -2   \n",
       "1       57    Más de 50     Española                -2   \n",
       "2       40        25-40     Española                -2   \n",
       "3       40        25-40     Española                -2   \n",
       "4       57    Más de 50     Española                -2   \n",
       "...    ...          ...          ...               ...   \n",
       "61104   33        25-40     Española                -2   \n",
       "61105   28        25-40     Española                -2   \n",
       "61106   42        41-50     Española                -2   \n",
       "61107   47        41-50     Española                -2   \n",
       "61108   19  Menos de 25     Española                -2   \n",
       "\n",
       "      Nombre de la minusvalia : Span Activos  \n",
       "0                          Sin Valor       1  \n",
       "1                          Sin Valor       1  \n",
       "2                          Sin Valor       1  \n",
       "3                          Sin Valor       1  \n",
       "4                          Sin Valor       1  \n",
       "...                              ...     ...  \n",
       "61104                      Sin Valor       1  \n",
       "61105                      Sin Valor       1  \n",
       "61106                      Sin Valor       1  \n",
       "61107                      Sin Valor       1  \n",
       "61108                      Sin Valor       1  \n",
       "\n",
       "[61109 rows x 26 columns]"
      ]
     },
     "execution_count": 17,
     "metadata": {},
     "output_type": "execute_result"
    }
   ],
   "source": [
    "# loading the dataset to pandas DataFrame\n",
    "url = 'https://raw.githubusercontent.com/aloa04/tfm/main/data/DATASET_HUTJ.csv'\n",
    "ds = pd.read_csv(url,sep=';', decimal=',', encoding='latin-1')\n",
    "ds"
   ]
  },
  {
   "cell_type": "markdown",
   "metadata": {
    "id": "eZnYZVAJOGeL"
   },
   "source": [
    "## Data Transformation"
   ]
  },
  {
   "cell_type": "code",
   "execution_count": 18,
   "metadata": {
    "colab": {
     "base_uri": "https://localhost:8080/"
    },
    "id": "J0z2OwzdDDaB",
    "outputId": "62be71bf-720d-4fde-a2b2-c10a96cffa2e"
   },
   "outputs": [
    {
     "data": {
      "text/plain": [
       "Index(['NM_ORGANIZATIONESP', 'STD_N_HR_TYPEESP', 'Año', 'AñoMes',\n",
       "       'STD_ID_PERSON', 'STD_N_GENDERESP', 'Núm. Periodo',\n",
       "       'SSP_ID_CONT_INTERN', 'SSP_NM_CONT_INESP', 'Fecha Inicio',\n",
       "       'Fecha_Inicio_contra', 'Fecha_Fin_contra', 'SSP_NO_DEFINIDO',\n",
       "       'CSP_N_AG_CATEGOR', 'CSP_NM_CATEGORESP', 'STD_N_WU_TYPEESP',\n",
       "       'STD_N_WL_TYPEESP', 'STD_WORK_LOCESP', 'CSP_N_COLECTIVO',\n",
       "       'STD_DT_BIRTH', 'Edad', 'RangoEdad', 'Nacionalidad',\n",
       "       'SSP_ID_MINUSVALIA', 'Nombre de la minusvalia : Span', 'Activos'],\n",
       "      dtype='object')"
      ]
     },
     "execution_count": 18,
     "metadata": {},
     "output_type": "execute_result"
    }
   ],
   "source": [
    "ds.columns\n"
   ]
  },
  {
   "cell_type": "code",
   "execution_count": 62,
   "metadata": {
    "id": "Ntne5oESOD-D"
   },
   "outputs": [],
   "source": [
    "ds = ds.rename(columns={'Año':'Anyo', 'AñoMes':'AnyoMes', 'Núm. Periodo':'Num_Periodo'})"
   ]
  },
  {
   "cell_type": "code",
   "execution_count": 20,
   "metadata": {
    "id": "lXIuYKBdORo9"
   },
   "outputs": [
    {
     "data": {
      "text/html": [
       "<div>\n",
       "<style scoped>\n",
       "    .dataframe tbody tr th:only-of-type {\n",
       "        vertical-align: middle;\n",
       "    }\n",
       "\n",
       "    .dataframe tbody tr th {\n",
       "        vertical-align: top;\n",
       "    }\n",
       "\n",
       "    .dataframe thead th {\n",
       "        text-align: right;\n",
       "    }\n",
       "</style>\n",
       "<table border=\"1\" class=\"dataframe\">\n",
       "  <thead>\n",
       "    <tr style=\"text-align: right;\">\n",
       "      <th></th>\n",
       "      <th>NM_ORGANIZATIONESP</th>\n",
       "      <th>STD_N_HR_TYPEESP</th>\n",
       "      <th>Anyo</th>\n",
       "      <th>AnyoMes</th>\n",
       "      <th>STD_ID_PERSON</th>\n",
       "      <th>STD_N_GENDERESP</th>\n",
       "      <th>Núm. Periodo</th>\n",
       "      <th>SSP_ID_CONT_INTERN</th>\n",
       "      <th>SSP_NM_CONT_INESP</th>\n",
       "      <th>Fecha Inicio</th>\n",
       "      <th>...</th>\n",
       "      <th>STD_N_WL_TYPEESP</th>\n",
       "      <th>STD_WORK_LOCESP</th>\n",
       "      <th>CSP_N_COLECTIVO</th>\n",
       "      <th>STD_DT_BIRTH</th>\n",
       "      <th>Edad</th>\n",
       "      <th>RangoEdad</th>\n",
       "      <th>Nacionalidad</th>\n",
       "      <th>SSP_ID_MINUSVALIA</th>\n",
       "      <th>Nombre de la minusvalia : Span</th>\n",
       "      <th>Activos</th>\n",
       "    </tr>\n",
       "  </thead>\n",
       "  <tbody>\n",
       "    <tr>\n",
       "      <th>0</th>\n",
       "      <td>Hospital de TORREJON</td>\n",
       "      <td>Empleado</td>\n",
       "      <td>2018</td>\n",
       "      <td>201801</td>\n",
       "      <td>1000148</td>\n",
       "      <td>Mujer</td>\n",
       "      <td>2</td>\n",
       "      <td>189</td>\n",
       "      <td>INDEFINIDO TP COMPL TRANSF DE TEMPO</td>\n",
       "      <td>03/05/2010</td>\n",
       "      <td>...</td>\n",
       "      <td>Atención Especializada</td>\n",
       "      <td>HospitalA</td>\n",
       "      <td>Estructura</td>\n",
       "      <td>17/04/1982</td>\n",
       "      <td>41</td>\n",
       "      <td>41-50</td>\n",
       "      <td>Española</td>\n",
       "      <td>-2</td>\n",
       "      <td>Sin Valor</td>\n",
       "      <td>1</td>\n",
       "    </tr>\n",
       "    <tr>\n",
       "      <th>1</th>\n",
       "      <td>Hospital de TORREJON</td>\n",
       "      <td>Empleado</td>\n",
       "      <td>2018</td>\n",
       "      <td>201801</td>\n",
       "      <td>1001312</td>\n",
       "      <td>Varón</td>\n",
       "      <td>2</td>\n",
       "      <td>100</td>\n",
       "      <td>ORDINARIO INDEFINIDO TP COMPLETO</td>\n",
       "      <td>04/11/2010</td>\n",
       "      <td>...</td>\n",
       "      <td>Atención Especializada</td>\n",
       "      <td>HospitalA</td>\n",
       "      <td>Estructura</td>\n",
       "      <td>15/08/1966</td>\n",
       "      <td>57</td>\n",
       "      <td>Más de 50</td>\n",
       "      <td>Española</td>\n",
       "      <td>-2</td>\n",
       "      <td>Sin Valor</td>\n",
       "      <td>1</td>\n",
       "    </tr>\n",
       "    <tr>\n",
       "      <th>2</th>\n",
       "      <td>Hospital de TORREJON</td>\n",
       "      <td>Empleado</td>\n",
       "      <td>2018</td>\n",
       "      <td>201801</td>\n",
       "      <td>1002094</td>\n",
       "      <td>Varón</td>\n",
       "      <td>2</td>\n",
       "      <td>100</td>\n",
       "      <td>ORDINARIO INDEFINIDO TP COMPLETO</td>\n",
       "      <td>16/05/2011</td>\n",
       "      <td>...</td>\n",
       "      <td>Atención Especializada</td>\n",
       "      <td>HospitalA</td>\n",
       "      <td>Estructura</td>\n",
       "      <td>20/02/1983</td>\n",
       "      <td>40</td>\n",
       "      <td>25-40</td>\n",
       "      <td>Española</td>\n",
       "      <td>-2</td>\n",
       "      <td>Sin Valor</td>\n",
       "      <td>1</td>\n",
       "    </tr>\n",
       "    <tr>\n",
       "      <th>3</th>\n",
       "      <td>Hospital de TORREJON</td>\n",
       "      <td>Empleado</td>\n",
       "      <td>2018</td>\n",
       "      <td>201801</td>\n",
       "      <td>1002518</td>\n",
       "      <td>Mujer</td>\n",
       "      <td>2</td>\n",
       "      <td>189</td>\n",
       "      <td>INDEFINIDO TP COMPL TRANSF DE TEMPO</td>\n",
       "      <td>03/10/2011</td>\n",
       "      <td>...</td>\n",
       "      <td>Atención Especializada</td>\n",
       "      <td>HospitalA</td>\n",
       "      <td>Estructura</td>\n",
       "      <td>12/10/1983</td>\n",
       "      <td>40</td>\n",
       "      <td>25-40</td>\n",
       "      <td>Española</td>\n",
       "      <td>-2</td>\n",
       "      <td>Sin Valor</td>\n",
       "      <td>1</td>\n",
       "    </tr>\n",
       "    <tr>\n",
       "      <th>4</th>\n",
       "      <td>Hospital de TORREJON</td>\n",
       "      <td>Empleado</td>\n",
       "      <td>2018</td>\n",
       "      <td>201801</td>\n",
       "      <td>1003521</td>\n",
       "      <td>Varón</td>\n",
       "      <td>2</td>\n",
       "      <td>100</td>\n",
       "      <td>ORDINARIO INDEFINIDO TP COMPLETO</td>\n",
       "      <td>27/06/2011</td>\n",
       "      <td>...</td>\n",
       "      <td>Atención Especializada</td>\n",
       "      <td>HospitalA</td>\n",
       "      <td>Estructura</td>\n",
       "      <td>09/07/1966</td>\n",
       "      <td>57</td>\n",
       "      <td>Más de 50</td>\n",
       "      <td>Española</td>\n",
       "      <td>-2</td>\n",
       "      <td>Sin Valor</td>\n",
       "      <td>1</td>\n",
       "    </tr>\n",
       "    <tr>\n",
       "      <th>...</th>\n",
       "      <td>...</td>\n",
       "      <td>...</td>\n",
       "      <td>...</td>\n",
       "      <td>...</td>\n",
       "      <td>...</td>\n",
       "      <td>...</td>\n",
       "      <td>...</td>\n",
       "      <td>...</td>\n",
       "      <td>...</td>\n",
       "      <td>...</td>\n",
       "      <td>...</td>\n",
       "      <td>...</td>\n",
       "      <td>...</td>\n",
       "      <td>...</td>\n",
       "      <td>...</td>\n",
       "      <td>...</td>\n",
       "      <td>...</td>\n",
       "      <td>...</td>\n",
       "      <td>...</td>\n",
       "      <td>...</td>\n",
       "      <td>...</td>\n",
       "    </tr>\n",
       "    <tr>\n",
       "      <th>61104</th>\n",
       "      <td>Hospital de TORREJON</td>\n",
       "      <td>Empleado</td>\n",
       "      <td>2022</td>\n",
       "      <td>202207</td>\n",
       "      <td>1030771</td>\n",
       "      <td>Mujer</td>\n",
       "      <td>1</td>\n",
       "      <td>402R</td>\n",
       "      <td>EVENTUAL (REFUERZO)</td>\n",
       "      <td>05/07/2022</td>\n",
       "      <td>...</td>\n",
       "      <td>Atención Especializada</td>\n",
       "      <td>HospitalA</td>\n",
       "      <td>Refuerzos</td>\n",
       "      <td>23/07/1990</td>\n",
       "      <td>33</td>\n",
       "      <td>25-40</td>\n",
       "      <td>Española</td>\n",
       "      <td>-2</td>\n",
       "      <td>Sin Valor</td>\n",
       "      <td>1</td>\n",
       "    </tr>\n",
       "    <tr>\n",
       "      <th>61105</th>\n",
       "      <td>Hospital de TORREJON</td>\n",
       "      <td>Empleado</td>\n",
       "      <td>2022</td>\n",
       "      <td>202207</td>\n",
       "      <td>1030772</td>\n",
       "      <td>Mujer</td>\n",
       "      <td>1</td>\n",
       "      <td>402R</td>\n",
       "      <td>EVENTUAL (REFUERZO)</td>\n",
       "      <td>08/07/2022</td>\n",
       "      <td>...</td>\n",
       "      <td>Atención Especializada</td>\n",
       "      <td>HospitalA</td>\n",
       "      <td>Refuerzos</td>\n",
       "      <td>22/10/1995</td>\n",
       "      <td>28</td>\n",
       "      <td>25-40</td>\n",
       "      <td>Española</td>\n",
       "      <td>-2</td>\n",
       "      <td>Sin Valor</td>\n",
       "      <td>1</td>\n",
       "    </tr>\n",
       "    <tr>\n",
       "      <th>61106</th>\n",
       "      <td>Hospital de TORREJON</td>\n",
       "      <td>Empleado</td>\n",
       "      <td>2022</td>\n",
       "      <td>202207</td>\n",
       "      <td>1030777</td>\n",
       "      <td>Varón</td>\n",
       "      <td>1</td>\n",
       "      <td>402V</td>\n",
       "      <td>EVENTUAL (SUST. VACACIONES)</td>\n",
       "      <td>06/07/2022</td>\n",
       "      <td>...</td>\n",
       "      <td>Atención Especializada</td>\n",
       "      <td>HospitalA</td>\n",
       "      <td>Sustituciones</td>\n",
       "      <td>16/06/1981</td>\n",
       "      <td>42</td>\n",
       "      <td>41-50</td>\n",
       "      <td>Española</td>\n",
       "      <td>-2</td>\n",
       "      <td>Sin Valor</td>\n",
       "      <td>1</td>\n",
       "    </tr>\n",
       "    <tr>\n",
       "      <th>61107</th>\n",
       "      <td>Hospital de TORREJON</td>\n",
       "      <td>Empleado</td>\n",
       "      <td>2022</td>\n",
       "      <td>202207</td>\n",
       "      <td>1030782</td>\n",
       "      <td>Mujer</td>\n",
       "      <td>1</td>\n",
       "      <td>402R</td>\n",
       "      <td>EVENTUAL (REFUERZO)</td>\n",
       "      <td>08/07/2022</td>\n",
       "      <td>...</td>\n",
       "      <td>Atención Especializada</td>\n",
       "      <td>HospitalA</td>\n",
       "      <td>Refuerzos</td>\n",
       "      <td>22/05/1976</td>\n",
       "      <td>47</td>\n",
       "      <td>41-50</td>\n",
       "      <td>Española</td>\n",
       "      <td>-2</td>\n",
       "      <td>Sin Valor</td>\n",
       "      <td>1</td>\n",
       "    </tr>\n",
       "    <tr>\n",
       "      <th>61108</th>\n",
       "      <td>Hospital de TORREJON</td>\n",
       "      <td>Empleado</td>\n",
       "      <td>2022</td>\n",
       "      <td>202207</td>\n",
       "      <td>1030783</td>\n",
       "      <td>Mujer</td>\n",
       "      <td>1</td>\n",
       "      <td>402V</td>\n",
       "      <td>EVENTUAL (SUST. VACACIONES)</td>\n",
       "      <td>06/07/2022</td>\n",
       "      <td>...</td>\n",
       "      <td>Atención Especializada</td>\n",
       "      <td>HospitalA</td>\n",
       "      <td>Sustituciones</td>\n",
       "      <td>07/04/2004</td>\n",
       "      <td>19</td>\n",
       "      <td>Menos de 25</td>\n",
       "      <td>Española</td>\n",
       "      <td>-2</td>\n",
       "      <td>Sin Valor</td>\n",
       "      <td>1</td>\n",
       "    </tr>\n",
       "  </tbody>\n",
       "</table>\n",
       "<p>61104 rows × 26 columns</p>\n",
       "</div>"
      ],
      "text/plain": [
       "         NM_ORGANIZATIONESP STD_N_HR_TYPEESP  Anyo  AnyoMes  STD_ID_PERSON  \\\n",
       "0      Hospital de TORREJON         Empleado  2018   201801        1000148   \n",
       "1      Hospital de TORREJON         Empleado  2018   201801        1001312   \n",
       "2      Hospital de TORREJON         Empleado  2018   201801        1002094   \n",
       "3      Hospital de TORREJON         Empleado  2018   201801        1002518   \n",
       "4      Hospital de TORREJON         Empleado  2018   201801        1003521   \n",
       "...                     ...              ...   ...      ...            ...   \n",
       "61104  Hospital de TORREJON         Empleado  2022   202207        1030771   \n",
       "61105  Hospital de TORREJON         Empleado  2022   202207        1030772   \n",
       "61106  Hospital de TORREJON         Empleado  2022   202207        1030777   \n",
       "61107  Hospital de TORREJON         Empleado  2022   202207        1030782   \n",
       "61108  Hospital de TORREJON         Empleado  2022   202207        1030783   \n",
       "\n",
       "      STD_N_GENDERESP  Núm. Periodo SSP_ID_CONT_INTERN  \\\n",
       "0               Mujer             2                189   \n",
       "1               Varón             2                100   \n",
       "2               Varón             2                100   \n",
       "3               Mujer             2                189   \n",
       "4               Varón             2                100   \n",
       "...               ...           ...                ...   \n",
       "61104           Mujer             1               402R   \n",
       "61105           Mujer             1               402R   \n",
       "61106           Varón             1               402V   \n",
       "61107           Mujer             1               402R   \n",
       "61108           Mujer             1               402V   \n",
       "\n",
       "                         SSP_NM_CONT_INESP Fecha Inicio  ...  \\\n",
       "0      INDEFINIDO TP COMPL TRANSF DE TEMPO   03/05/2010  ...   \n",
       "1         ORDINARIO INDEFINIDO TP COMPLETO   04/11/2010  ...   \n",
       "2         ORDINARIO INDEFINIDO TP COMPLETO   16/05/2011  ...   \n",
       "3      INDEFINIDO TP COMPL TRANSF DE TEMPO   03/10/2011  ...   \n",
       "4         ORDINARIO INDEFINIDO TP COMPLETO   27/06/2011  ...   \n",
       "...                                    ...          ...  ...   \n",
       "61104                  EVENTUAL (REFUERZO)   05/07/2022  ...   \n",
       "61105                  EVENTUAL (REFUERZO)   08/07/2022  ...   \n",
       "61106          EVENTUAL (SUST. VACACIONES)   06/07/2022  ...   \n",
       "61107                  EVENTUAL (REFUERZO)   08/07/2022  ...   \n",
       "61108          EVENTUAL (SUST. VACACIONES)   06/07/2022  ...   \n",
       "\n",
       "             STD_N_WL_TYPEESP STD_WORK_LOCESP CSP_N_COLECTIVO STD_DT_BIRTH  \\\n",
       "0      Atención Especializada       HospitalA      Estructura   17/04/1982   \n",
       "1      Atención Especializada       HospitalA      Estructura   15/08/1966   \n",
       "2      Atención Especializada       HospitalA      Estructura   20/02/1983   \n",
       "3      Atención Especializada       HospitalA      Estructura   12/10/1983   \n",
       "4      Atención Especializada       HospitalA      Estructura   09/07/1966   \n",
       "...                       ...             ...             ...          ...   \n",
       "61104  Atención Especializada       HospitalA       Refuerzos   23/07/1990   \n",
       "61105  Atención Especializada       HospitalA       Refuerzos   22/10/1995   \n",
       "61106  Atención Especializada       HospitalA   Sustituciones   16/06/1981   \n",
       "61107  Atención Especializada       HospitalA       Refuerzos   22/05/1976   \n",
       "61108  Atención Especializada       HospitalA   Sustituciones   07/04/2004   \n",
       "\n",
       "      Edad    RangoEdad Nacionalidad SSP_ID_MINUSVALIA  \\\n",
       "0       41        41-50     Española                -2   \n",
       "1       57    Más de 50     Española                -2   \n",
       "2       40        25-40     Española                -2   \n",
       "3       40        25-40     Española                -2   \n",
       "4       57    Más de 50     Española                -2   \n",
       "...    ...          ...          ...               ...   \n",
       "61104   33        25-40     Española                -2   \n",
       "61105   28        25-40     Española                -2   \n",
       "61106   42        41-50     Española                -2   \n",
       "61107   47        41-50     Española                -2   \n",
       "61108   19  Menos de 25     Española                -2   \n",
       "\n",
       "      Nombre de la minusvalia : Span Activos  \n",
       "0                          Sin Valor       1  \n",
       "1                          Sin Valor       1  \n",
       "2                          Sin Valor       1  \n",
       "3                          Sin Valor       1  \n",
       "4                          Sin Valor       1  \n",
       "...                              ...     ...  \n",
       "61104                      Sin Valor       1  \n",
       "61105                      Sin Valor       1  \n",
       "61106                      Sin Valor       1  \n",
       "61107                      Sin Valor       1  \n",
       "61108                      Sin Valor       1  \n",
       "\n",
       "[61104 rows x 26 columns]"
      ]
     },
     "execution_count": 20,
     "metadata": {},
     "output_type": "execute_result"
    }
   ],
   "source": [
    "ds = ds.drop(ds[ds[\"STD_N_GENDERESP\"]=='Valor no dado de alta en maestro'].index)\n",
    "ds"
   ]
  },
  {
   "cell_type": "markdown",
   "metadata": {
    "id": "fwJyCZEeE3It"
   },
   "source": [
    "# Initial Variable Explorer"
   ]
  },
  {
   "cell_type": "markdown",
   "metadata": {
    "id": "60vnXvBzFdbI"
   },
   "source": [
    "Variable target: Activos"
   ]
  },
  {
   "cell_type": "code",
   "execution_count": 21,
   "metadata": {
    "colab": {
     "base_uri": "https://localhost:8080/",
     "height": 282
    },
    "id": "z400bCMGFpI4",
    "outputId": "fd6bc100-5afa-46e7-a41c-47b8ef3b55d1"
   },
   "outputs": [
    {
     "data": {
      "text/plain": [
       "Text(0, 0.5, 'Percentage')"
      ]
     },
     "execution_count": 21,
     "metadata": {},
     "output_type": "execute_result"
    },
    {
     "data": {
      "image/png": "[encoded data removed]",
      "text/plain": [
       "<Figure size 432x288 with 1 Axes>"
      ]
     },
     "metadata": {
      "needs_background": "light"
     },
     "output_type": "display_data"
    }
   ],
   "source": [
    "mytable = ds.groupby(['Activos']).size()\n",
    "n = mytable.sum()\n",
    "mytable = (mytable/n)*100\n",
    "barlist = ['No Activo', 'Activo']\n",
    "plt.bar(barlist, mytable)\n",
    "plt.ylabel('Percentage')"
   ]
  },
  {
   "cell_type": "markdown",
   "metadata": {
    "id": "-ENyA1CKGLTu"
   },
   "source": [
    "## Avtivos vs SSP_NO_DEFINIDO"
   ]
  },
  {
   "cell_type": "markdown",
   "metadata": {
    "id": "peTnsUWZHCu7"
   },
   "source": [
    "Variable Nominal: SSP_NO_DEFINIDO"
   ]
  },
  {
   "cell_type": "code",
   "execution_count": 22,
   "metadata": {
    "colab": {
     "base_uri": "https://localhost:8080/",
     "height": 235
    },
    "id": "BT2m8EySGSAC",
    "outputId": "bb9ca1d3-21b2-4763-ced7-08b6d759e4e6"
   },
   "outputs": [
    {
     "data": {
      "text/plain": [
       "Text(0, 0.5, 'Percentage')"
      ]
     },
     "execution_count": 22,
     "metadata": {},
     "output_type": "execute_result"
    },
    {
     "data": {
      "image/png": "[encoded data removed]",
      "text/plain": [
       "<Figure size 432x288 with 1 Axes>"
      ]
     },
     "metadata": {
      "needs_background": "light"
     },
     "output_type": "display_data"
    }
   ],
   "source": [
    "mytable = ds.groupby(['SSP_NO_DEFINIDO']).size()\n",
    "n = mytable.sum()\n",
    "mytable = (mytable/n)*100\n",
    "barlist = ['Temporal', 'Indefinido']\n",
    "plt.bar(barlist, mytable)\n",
    "plt.ylabel('Percentage')\n"
   ]
  },
  {
   "cell_type": "code",
   "execution_count": 23,
   "metadata": {
    "colab": {
     "base_uri": "https://localhost:8080/",
     "height": 282
    },
    "id": "Y7sQvB2V8-2O",
    "outputId": "e47c67cd-f1be-4bbf-be86-bf99e82e854b"
   },
   "outputs": [
    {
     "data": {
      "text/plain": [
       "<AxesSubplot:>"
      ]
     },
     "execution_count": 23,
     "metadata": {},
     "output_type": "execute_result"
    },
    {
     "data": {
      "image/png": "[encoded data removed]",
      "text/plain": [
       "<Figure size 432x288 with 1 Axes>"
      ]
     },
     "metadata": {
      "needs_background": "light"
     },
     "output_type": "display_data"
    }
   ],
   "source": [
    "plt.hist(ds.SSP_NO_DEFINIDO)\n",
    "ds.SSP_NO_DEFINIDO.hist() "
   ]
  },
  {
   "cell_type": "code",
   "execution_count": 24,
   "metadata": {
    "colab": {
     "base_uri": "https://localhost:8080/"
    },
    "id": "MeSdycGBHOwu",
    "outputId": "17058659-fc31-46ca-902e-3d8af6de175d"
   },
   "outputs": [
    {
     "data": {
      "text/plain": [
       "SSP_NO_DEFINIDO\n",
       "N    0.999228\n",
       "S    0.979530\n",
       "Name: Activos, dtype: float64"
      ]
     },
     "execution_count": 24,
     "metadata": {},
     "output_type": "execute_result"
    }
   ],
   "source": [
    "ds.groupby('SSP_NO_DEFINIDO').Activos.mean()"
   ]
  },
  {
   "cell_type": "code",
   "execution_count": 25,
   "metadata": {
    "colab": {
     "base_uri": "https://localhost:8080/",
     "height": 175
    },
    "id": "Uo882yf4HRj4",
    "outputId": "84ebf31a-961d-4ee5-8772-363c7cdfb5bc"
   },
   "outputs": [
    {
     "data": {
      "text/html": [
       "<div>\n",
       "<style scoped>\n",
       "    .dataframe tbody tr th:only-of-type {\n",
       "        vertical-align: middle;\n",
       "    }\n",
       "\n",
       "    .dataframe tbody tr th {\n",
       "        vertical-align: top;\n",
       "    }\n",
       "\n",
       "    .dataframe thead th {\n",
       "        text-align: right;\n",
       "    }\n",
       "</style>\n",
       "<table border=\"1\" class=\"dataframe\">\n",
       "  <thead>\n",
       "    <tr style=\"text-align: right;\">\n",
       "      <th>SSP_NO_DEFINIDO</th>\n",
       "      <th>N</th>\n",
       "      <th>S</th>\n",
       "      <th>All</th>\n",
       "    </tr>\n",
       "    <tr>\n",
       "      <th>Activos</th>\n",
       "      <th></th>\n",
       "      <th></th>\n",
       "      <th></th>\n",
       "    </tr>\n",
       "  </thead>\n",
       "  <tbody>\n",
       "    <tr>\n",
       "      <th>0</th>\n",
       "      <td>11</td>\n",
       "      <td>959</td>\n",
       "      <td>970</td>\n",
       "    </tr>\n",
       "    <tr>\n",
       "      <th>1</th>\n",
       "      <td>14245</td>\n",
       "      <td>45889</td>\n",
       "      <td>60134</td>\n",
       "    </tr>\n",
       "    <tr>\n",
       "      <th>All</th>\n",
       "      <td>14256</td>\n",
       "      <td>46848</td>\n",
       "      <td>61104</td>\n",
       "    </tr>\n",
       "  </tbody>\n",
       "</table>\n",
       "</div>"
      ],
      "text/plain": [
       "SSP_NO_DEFINIDO      N      S    All\n",
       "Activos                             \n",
       "0                   11    959    970\n",
       "1                14245  45889  60134\n",
       "All              14256  46848  61104"
      ]
     },
     "execution_count": 25,
     "metadata": {},
     "output_type": "execute_result"
    }
   ],
   "source": [
    "pd.crosstab(ds.Activos, ds.SSP_NO_DEFINIDO, margins=True) #1º la VD  target, 2º La predicción\n"
   ]
  },
  {
   "cell_type": "code",
   "execution_count": 26,
   "metadata": {
    "colab": {
     "base_uri": "https://localhost:8080/",
     "height": 143
    },
    "id": "Md4jjUpaHXV3",
    "outputId": "71582324-52b5-446f-b423-8a2ac4555053"
   },
   "outputs": [
    {
     "data": {
      "text/html": [
       "<div>\n",
       "<style scoped>\n",
       "    .dataframe tbody tr th:only-of-type {\n",
       "        vertical-align: middle;\n",
       "    }\n",
       "\n",
       "    .dataframe tbody tr th {\n",
       "        vertical-align: top;\n",
       "    }\n",
       "\n",
       "    .dataframe thead th {\n",
       "        text-align: right;\n",
       "    }\n",
       "</style>\n",
       "<table border=\"1\" class=\"dataframe\">\n",
       "  <thead>\n",
       "    <tr style=\"text-align: right;\">\n",
       "      <th>SSP_NO_DEFINIDO</th>\n",
       "      <th>N</th>\n",
       "      <th>S</th>\n",
       "      <th>All</th>\n",
       "    </tr>\n",
       "    <tr>\n",
       "      <th>Activos</th>\n",
       "      <th></th>\n",
       "      <th></th>\n",
       "      <th></th>\n",
       "    </tr>\n",
       "  </thead>\n",
       "  <tbody>\n",
       "    <tr>\n",
       "      <th>0</th>\n",
       "      <td>0.07716</td>\n",
       "      <td>2.047046</td>\n",
       "      <td>1.587457</td>\n",
       "    </tr>\n",
       "    <tr>\n",
       "      <th>1</th>\n",
       "      <td>99.92284</td>\n",
       "      <td>97.952954</td>\n",
       "      <td>98.412543</td>\n",
       "    </tr>\n",
       "  </tbody>\n",
       "</table>\n",
       "</div>"
      ],
      "text/plain": [
       "SSP_NO_DEFINIDO         N          S        All\n",
       "Activos                                        \n",
       "0                 0.07716   2.047046   1.587457\n",
       "1                99.92284  97.952954  98.412543"
      ]
     },
     "execution_count": 26,
     "metadata": {},
     "output_type": "execute_result"
    }
   ],
   "source": [
    "pd.crosstab(ds.Activos, ds.SSP_NO_DEFINIDO,normalize='columns', margins=True)*100    #Para que nos de en porcentajes\n"
   ]
  },
  {
   "cell_type": "code",
   "execution_count": 27,
   "metadata": {
    "id": "R6fh0NneHYov"
   },
   "outputs": [],
   "source": [
    "my_ct = pd.crosstab(ds.Activos, ds.SSP_NO_DEFINIDO,normalize='columns', margins=True)*100  \n"
   ]
  },
  {
   "cell_type": "code",
   "execution_count": 28,
   "metadata": {
    "colab": {
     "base_uri": "https://localhost:8080/"
    },
    "id": "ozcOyvtDHcBP",
    "outputId": "cdc140a9-b6f2-41ed-b446-307f58f1290d"
   },
   "outputs": [
    {
     "name": "stdout",
     "output_type": "stream",
     "text": [
      "SSP_NO_DEFINIDO     N     S   All\n",
      "Activos                          \n",
      "0                 0.1   2.0   1.6\n",
      "1                99.9  98.0  98.4\n"
     ]
    }
   ],
   "source": [
    "my_ct=round(my_ct,1)\n",
    "print(my_ct)\n"
   ]
  },
  {
   "cell_type": "code",
   "execution_count": 29,
   "metadata": {
    "colab": {
     "base_uri": "https://localhost:8080/",
     "height": 143
    },
    "id": "X78MNRQQHfwr",
    "outputId": "4e60b1ac-78b7-4027-bf89-3340b90a0c87"
   },
   "outputs": [
    {
     "data": {
      "text/html": [
       "<div>\n",
       "<style scoped>\n",
       "    .dataframe tbody tr th:only-of-type {\n",
       "        vertical-align: middle;\n",
       "    }\n",
       "\n",
       "    .dataframe tbody tr th {\n",
       "        vertical-align: top;\n",
       "    }\n",
       "\n",
       "    .dataframe thead th {\n",
       "        text-align: right;\n",
       "    }\n",
       "</style>\n",
       "<table border=\"1\" class=\"dataframe\">\n",
       "  <thead>\n",
       "    <tr style=\"text-align: right;\">\n",
       "      <th>SSP_NO_DEFINIDO</th>\n",
       "      <th>N</th>\n",
       "      <th>S</th>\n",
       "    </tr>\n",
       "    <tr>\n",
       "      <th>Activos</th>\n",
       "      <th></th>\n",
       "      <th></th>\n",
       "    </tr>\n",
       "  </thead>\n",
       "  <tbody>\n",
       "    <tr>\n",
       "      <th>0</th>\n",
       "      <td>11</td>\n",
       "      <td>959</td>\n",
       "    </tr>\n",
       "    <tr>\n",
       "      <th>1</th>\n",
       "      <td>14245</td>\n",
       "      <td>45889</td>\n",
       "    </tr>\n",
       "  </tbody>\n",
       "</table>\n",
       "</div>"
      ],
      "text/plain": [
       "SSP_NO_DEFINIDO      N      S\n",
       "Activos                      \n",
       "0                   11    959\n",
       "1                14245  45889"
      ]
     },
     "execution_count": 29,
     "metadata": {},
     "output_type": "execute_result"
    }
   ],
   "source": [
    "#Stadistical test\n",
    "ct = pd.crosstab(ds.Activos, ds.SSP_NO_DEFINIDO)\n",
    "ct"
   ]
  },
  {
   "cell_type": "code",
   "execution_count": 30,
   "metadata": {
    "colab": {
     "base_uri": "https://localhost:8080/"
    },
    "id": "MNZN0xh7HkwV",
    "outputId": "88e54ce7-cb1c-4ab0-e88a-a4a6e67ecdf6"
   },
   "outputs": [
    {
     "data": {
      "text/plain": [
       "(270.2271557599875,\n",
       " 1.0125155947699297e-60,\n",
       " 1,\n",
       " array([[  226.30793401,   743.69206599],\n",
       "        [14029.69206599, 46104.30793401]]))"
      ]
     },
     "execution_count": 30,
     "metadata": {},
     "output_type": "execute_result"
    }
   ],
   "source": [
    "stats.chi2_contingency(ct)"
   ]
  },
  {
   "cell_type": "markdown",
   "metadata": {
    "id": "GrtUjFvsID-4"
   },
   "source": [
    "pvalue = 0.000"
   ]
  },
  {
   "cell_type": "code",
   "execution_count": 31,
   "metadata": {
    "id": "4_HVW945HoNo"
   },
   "outputs": [],
   "source": [
    "#Ploting the cross tabulation\n",
    "my_ct2=my_ct.transpose()"
   ]
  },
  {
   "cell_type": "code",
   "execution_count": 32,
   "metadata": {
    "colab": {
     "base_uri": "https://localhost:8080/",
     "height": 327
    },
    "id": "NJoY40bRIhRL",
    "outputId": "d6fcb541-87c3-4f7f-c5e3-26bdcaf18f2c"
   },
   "outputs": [
    {
     "data": {
      "text/plain": [
       "(array([0, 1, 2]), [Text(0, 0, 'N'), Text(1, 0, 'S'), Text(2, 0, 'All')])"
      ]
     },
     "execution_count": 32,
     "metadata": {},
     "output_type": "execute_result"
    },
    {
     "data": {
      "image/png": "[encoded data removed]",
      "text/plain": [
       "<Figure size 432x288 with 1 Axes>"
      ]
     },
     "metadata": {
      "needs_background": "light"
     },
     "output_type": "display_data"
    }
   ],
   "source": [
    "my_ct2.plot(kind=\"bar\", edgecolor = \"black\", colormap='Blues') #Mapas de colores https://matplotlib.org/2.0.2/examples/color/colormaps_reference.html\n",
    "props = dict(boxstyle='round', facecolor='white', lw=0.5)\n",
    "plt.text(-0.4, 3, 'Chi2: 270.330''\\n''n: 61109' '\\n' 'Pval.: 0.000', bbox=props)\n",
    "plt.xlabel('Contrato Indefinido')\n",
    "plt.title('Activos vs SSP_NO_DEFINIDO.''\\n')\n",
    "plt.legend(['No Activos','Activos'])\n",
    "plt.ylim(0,4)\n",
    "plt.xticks(rotation='horizontal')"
   ]
  },
  {
   "cell_type": "markdown",
   "metadata": {
    "id": "x1hiPKL-IqcV"
   },
   "source": [
    "## Activos vs CSP_N_AG_CATEGOR'"
   ]
  },
  {
   "cell_type": "markdown",
   "metadata": {
    "id": "SmQgRQKtI001"
   },
   "source": [
    "Variable Nominal: CSP_N_AG_CATEGOR"
   ]
  },
  {
   "cell_type": "code",
   "execution_count": 33,
   "metadata": {
    "colab": {
     "base_uri": "https://localhost:8080/",
     "height": 282
    },
    "id": "2qiKWZIwIu0w",
    "outputId": "c8b971b6-8589-4675-e06d-1ac76aa7b471"
   },
   "outputs": [
    {
     "data": {
      "text/plain": [
       "Text(0, 0.5, 'Percentage')"
      ]
     },
     "execution_count": 33,
     "metadata": {},
     "output_type": "execute_result"
    },
    {
     "data": {
      "image/png": "[encoded data removed]",
      "text/plain": [
       "<Figure size 432x288 with 1 Axes>"
      ]
     },
     "metadata": {
      "needs_background": "light"
     },
     "output_type": "display_data"
    }
   ],
   "source": [
    "mytable = ds.groupby(['CSP_N_AG_CATEGOR']).size()\n",
    "n = mytable.sum()\n",
    "mytable = (mytable/n)*100\n",
    "barlist = ['ANL', 'AL', 'NA']\n",
    "plt.bar(barlist, mytable)\n",
    "plt.ylabel('Percentage')"
   ]
  },
  {
   "cell_type": "code",
   "execution_count": 34,
   "metadata": {
    "colab": {
     "base_uri": "https://localhost:8080/"
    },
    "id": "Eeu6-li-I3ZK",
    "outputId": "28cb8a7a-4573-4a28-ffff-01e758b48898"
   },
   "outputs": [
    {
     "data": {
      "text/plain": [
       "CSP_N_AG_CATEGOR\n",
       "Asistenciales No Licenciados    0.983555\n",
       "Asistenciales licenciados       0.981238\n",
       "No Asistenciales                0.992821\n",
       "Name: Activos, dtype: float64"
      ]
     },
     "execution_count": 34,
     "metadata": {},
     "output_type": "execute_result"
    }
   ],
   "source": [
    "ds.groupby('CSP_N_AG_CATEGOR').Activos.mean()"
   ]
  },
  {
   "cell_type": "code",
   "execution_count": 35,
   "metadata": {
    "colab": {
     "base_uri": "https://localhost:8080/",
     "height": 175
    },
    "id": "1XQFfV5CI7mN",
    "outputId": "4b9acb9a-670c-46c5-8bb1-cfccb2c60187"
   },
   "outputs": [
    {
     "data": {
      "text/html": [
       "<div>\n",
       "<style scoped>\n",
       "    .dataframe tbody tr th:only-of-type {\n",
       "        vertical-align: middle;\n",
       "    }\n",
       "\n",
       "    .dataframe tbody tr th {\n",
       "        vertical-align: top;\n",
       "    }\n",
       "\n",
       "    .dataframe thead th {\n",
       "        text-align: right;\n",
       "    }\n",
       "</style>\n",
       "<table border=\"1\" class=\"dataframe\">\n",
       "  <thead>\n",
       "    <tr style=\"text-align: right;\">\n",
       "      <th>CSP_N_AG_CATEGOR</th>\n",
       "      <th>Asistenciales No Licenciados</th>\n",
       "      <th>Asistenciales licenciados</th>\n",
       "      <th>No Asistenciales</th>\n",
       "      <th>All</th>\n",
       "    </tr>\n",
       "    <tr>\n",
       "      <th>Activos</th>\n",
       "      <th></th>\n",
       "      <th></th>\n",
       "      <th></th>\n",
       "      <th></th>\n",
       "    </tr>\n",
       "  </thead>\n",
       "  <tbody>\n",
       "    <tr>\n",
       "      <th>0</th>\n",
       "      <td>611</td>\n",
       "      <td>303</td>\n",
       "      <td>56</td>\n",
       "      <td>970</td>\n",
       "    </tr>\n",
       "    <tr>\n",
       "      <th>1</th>\n",
       "      <td>36543</td>\n",
       "      <td>15847</td>\n",
       "      <td>7744</td>\n",
       "      <td>60134</td>\n",
       "    </tr>\n",
       "    <tr>\n",
       "      <th>All</th>\n",
       "      <td>37154</td>\n",
       "      <td>16150</td>\n",
       "      <td>7800</td>\n",
       "      <td>61104</td>\n",
       "    </tr>\n",
       "  </tbody>\n",
       "</table>\n",
       "</div>"
      ],
      "text/plain": [
       "CSP_N_AG_CATEGOR  Asistenciales No Licenciados  Asistenciales licenciados  \\\n",
       "Activos                                                                     \n",
       "0                                          611                        303   \n",
       "1                                        36543                      15847   \n",
       "All                                      37154                      16150   \n",
       "\n",
       "CSP_N_AG_CATEGOR  No Asistenciales    All  \n",
       "Activos                                    \n",
       "0                               56    970  \n",
       "1                             7744  60134  \n",
       "All                           7800  61104  "
      ]
     },
     "execution_count": 35,
     "metadata": {},
     "output_type": "execute_result"
    }
   ],
   "source": [
    "pd.crosstab(ds.Activos, ds.CSP_N_AG_CATEGOR, margins=True) #1º la VD  target, 2º La predicción\n"
   ]
  },
  {
   "cell_type": "code",
   "execution_count": 36,
   "metadata": {
    "colab": {
     "base_uri": "https://localhost:8080/",
     "height": 143
    },
    "id": "wu0C_wMUJBW2",
    "outputId": "80343f87-a4e5-4ec8-fe4a-cfdf3501c7a5"
   },
   "outputs": [
    {
     "data": {
      "text/html": [
       "<div>\n",
       "<style scoped>\n",
       "    .dataframe tbody tr th:only-of-type {\n",
       "        vertical-align: middle;\n",
       "    }\n",
       "\n",
       "    .dataframe tbody tr th {\n",
       "        vertical-align: top;\n",
       "    }\n",
       "\n",
       "    .dataframe thead th {\n",
       "        text-align: right;\n",
       "    }\n",
       "</style>\n",
       "<table border=\"1\" class=\"dataframe\">\n",
       "  <thead>\n",
       "    <tr style=\"text-align: right;\">\n",
       "      <th>CSP_N_AG_CATEGOR</th>\n",
       "      <th>Asistenciales No Licenciados</th>\n",
       "      <th>Asistenciales licenciados</th>\n",
       "      <th>No Asistenciales</th>\n",
       "      <th>All</th>\n",
       "    </tr>\n",
       "    <tr>\n",
       "      <th>Activos</th>\n",
       "      <th></th>\n",
       "      <th></th>\n",
       "      <th></th>\n",
       "      <th></th>\n",
       "    </tr>\n",
       "  </thead>\n",
       "  <tbody>\n",
       "    <tr>\n",
       "      <th>0</th>\n",
       "      <td>1.644507</td>\n",
       "      <td>1.876161</td>\n",
       "      <td>0.717949</td>\n",
       "      <td>1.587457</td>\n",
       "    </tr>\n",
       "    <tr>\n",
       "      <th>1</th>\n",
       "      <td>98.355493</td>\n",
       "      <td>98.123839</td>\n",
       "      <td>99.282051</td>\n",
       "      <td>98.412543</td>\n",
       "    </tr>\n",
       "  </tbody>\n",
       "</table>\n",
       "</div>"
      ],
      "text/plain": [
       "CSP_N_AG_CATEGOR  Asistenciales No Licenciados  Asistenciales licenciados  \\\n",
       "Activos                                                                     \n",
       "0                                     1.644507                   1.876161   \n",
       "1                                    98.355493                  98.123839   \n",
       "\n",
       "CSP_N_AG_CATEGOR  No Asistenciales        All  \n",
       "Activos                                        \n",
       "0                         0.717949   1.587457  \n",
       "1                        99.282051  98.412543  "
      ]
     },
     "execution_count": 36,
     "metadata": {},
     "output_type": "execute_result"
    }
   ],
   "source": [
    "pd.crosstab(ds.Activos, ds.CSP_N_AG_CATEGOR,normalize='columns', margins=True)*100    #Para que nos de en porcentajes\n"
   ]
  },
  {
   "cell_type": "code",
   "execution_count": 37,
   "metadata": {
    "id": "byz9myq0JCqA"
   },
   "outputs": [],
   "source": [
    "my_ct = pd.crosstab(ds.Activos, ds.CSP_N_AG_CATEGOR,normalize='columns', margins=True)*100  \n"
   ]
  },
  {
   "cell_type": "code",
   "execution_count": 38,
   "metadata": {
    "id": "f-cOSiwUJEQd"
   },
   "outputs": [],
   "source": [
    "my_ct=round(my_ct,1)\n"
   ]
  },
  {
   "cell_type": "code",
   "execution_count": 39,
   "metadata": {
    "colab": {
     "base_uri": "https://localhost:8080/"
    },
    "id": "2Pe2SuO_JGGK",
    "outputId": "e2945721-d6a1-4b82-cbef-9ad13db9c93b"
   },
   "outputs": [
    {
     "name": "stdout",
     "output_type": "stream",
     "text": [
      "CSP_N_AG_CATEGOR  Asistenciales No Licenciados  Asistenciales licenciados  \\\n",
      "Activos                                                                     \n",
      "0                                          1.6                        1.9   \n",
      "1                                         98.4                       98.1   \n",
      "\n",
      "CSP_N_AG_CATEGOR  No Asistenciales   All  \n",
      "Activos                                   \n",
      "0                              0.7   1.6  \n",
      "1                             99.3  98.4  \n"
     ]
    }
   ],
   "source": [
    "print(my_ct)\n"
   ]
  },
  {
   "cell_type": "code",
   "execution_count": 40,
   "metadata": {
    "colab": {
     "base_uri": "https://localhost:8080/",
     "height": 143
    },
    "id": "IIqn7y8FJIBM",
    "outputId": "94218c9b-168a-4a18-d7e6-096692f24f85"
   },
   "outputs": [
    {
     "data": {
      "text/html": [
       "<div>\n",
       "<style scoped>\n",
       "    .dataframe tbody tr th:only-of-type {\n",
       "        vertical-align: middle;\n",
       "    }\n",
       "\n",
       "    .dataframe tbody tr th {\n",
       "        vertical-align: top;\n",
       "    }\n",
       "\n",
       "    .dataframe thead th {\n",
       "        text-align: right;\n",
       "    }\n",
       "</style>\n",
       "<table border=\"1\" class=\"dataframe\">\n",
       "  <thead>\n",
       "    <tr style=\"text-align: right;\">\n",
       "      <th>CSP_N_AG_CATEGOR</th>\n",
       "      <th>Asistenciales No Licenciados</th>\n",
       "      <th>Asistenciales licenciados</th>\n",
       "      <th>No Asistenciales</th>\n",
       "    </tr>\n",
       "    <tr>\n",
       "      <th>Activos</th>\n",
       "      <th></th>\n",
       "      <th></th>\n",
       "      <th></th>\n",
       "    </tr>\n",
       "  </thead>\n",
       "  <tbody>\n",
       "    <tr>\n",
       "      <th>0</th>\n",
       "      <td>611</td>\n",
       "      <td>303</td>\n",
       "      <td>56</td>\n",
       "    </tr>\n",
       "    <tr>\n",
       "      <th>1</th>\n",
       "      <td>36543</td>\n",
       "      <td>15847</td>\n",
       "      <td>7744</td>\n",
       "    </tr>\n",
       "  </tbody>\n",
       "</table>\n",
       "</div>"
      ],
      "text/plain": [
       "CSP_N_AG_CATEGOR  Asistenciales No Licenciados  Asistenciales licenciados  \\\n",
       "Activos                                                                     \n",
       "0                                          611                        303   \n",
       "1                                        36543                      15847   \n",
       "\n",
       "CSP_N_AG_CATEGOR  No Asistenciales  \n",
       "Activos                             \n",
       "0                               56  \n",
       "1                             7744  "
      ]
     },
     "execution_count": 40,
     "metadata": {},
     "output_type": "execute_result"
    }
   ],
   "source": [
    "#Stadistical test\n",
    "ct = pd.crosstab(ds.Activos, ds.CSP_N_AG_CATEGOR)\n",
    "ct"
   ]
  },
  {
   "cell_type": "code",
   "execution_count": 41,
   "metadata": {
    "colab": {
     "base_uri": "https://localhost:8080/"
    },
    "id": "Epi44MguJJ4i",
    "outputId": "ba2e2dfc-8403-4ceb-e556-a0dfc2db6921"
   },
   "outputs": [
    {
     "data": {
      "text/plain": [
       "(47.138040024605175,\n",
       " 5.809043983715923e-11,\n",
       " 2,\n",
       " array([[  589.80394082,   256.37437811,   123.82168107],\n",
       "        [36564.19605918, 15893.62562189,  7676.17831893]]))"
      ]
     },
     "execution_count": 41,
     "metadata": {},
     "output_type": "execute_result"
    }
   ],
   "source": [
    "stats.chi2_contingency(ct)\n"
   ]
  },
  {
   "cell_type": "code",
   "execution_count": 42,
   "metadata": {
    "id": "5cCWeG9EJLx0"
   },
   "outputs": [],
   "source": [
    "#Ploting the cross tabulation\n",
    "my_ct2=my_ct.transpose() #Primero hay que treansponer la tabla para poder representarla graficamente\n"
   ]
  },
  {
   "cell_type": "code",
   "execution_count": 43,
   "metadata": {
    "colab": {
     "base_uri": "https://localhost:8080/",
     "height": 327
    },
    "id": "TJV0hmJjJNyT",
    "outputId": "1e495450-e48e-4da2-9d68-29db6882f0a7"
   },
   "outputs": [
    {
     "data": {
      "text/plain": [
       "(array([0, 1, 2, 3]),\n",
       " [Text(0, 0, 'Asistenciales No Licenciados'),\n",
       "  Text(1, 0, 'Asistenciales licenciados'),\n",
       "  Text(2, 0, 'No Asistenciales'),\n",
       "  Text(3, 0, 'All')])"
      ]
     },
     "execution_count": 43,
     "metadata": {},
     "output_type": "execute_result"
    },
    {
     "data": {
      "image/png": "[encoded data removed]",
      "text/plain": [
       "<Figure size 432x288 with 1 Axes>"
      ]
     },
     "metadata": {
      "needs_background": "light"
     },
     "output_type": "display_data"
    }
   ],
   "source": [
    "my_ct2.plot(kind=\"bar\", edgecolor = \"black\", colormap='Blues') #Mapas de colores https://matplotlib.org/2.0.2/examples/color/colormaps_reference.html\n",
    "props = dict(boxstyle='round', facecolor='white', lw=0.5)\n",
    "plt.text(-0.4, 3, 'Chi2: 47.136''\\n''n: 61109' '\\n' 'Pval.: 0.000', bbox=props)\n",
    "plt.xlabel('Contrato Indefinido')\n",
    "plt.title('Activos vs CSP_N_AG_CATEGOR''\\n')\n",
    "plt.legend(['No Activos','Activos'])\n",
    "plt.ylim(0,4)\n",
    "plt.xticks(rotation='horizontal')"
   ]
  },
  {
   "cell_type": "markdown",
   "metadata": {
    "id": "xxTkS4AeJR00"
   },
   "source": [
    "## Activos vs STD_WORK_LOCESP\n"
   ]
  },
  {
   "cell_type": "markdown",
   "metadata": {
    "id": "I47Z8871JX3O"
   },
   "source": [
    "Variable Nominal: STD_WORK_LOCESP"
   ]
  },
  {
   "cell_type": "code",
   "execution_count": 44,
   "metadata": {
    "colab": {
     "base_uri": "https://localhost:8080/"
    },
    "id": "4VYE0JE4JPq0",
    "outputId": "eb8e1edc-41b0-45e7-d403-e691e5814862"
   },
   "outputs": [
    {
     "data": {
      "text/plain": [
       "Text(0, 0.5, 'Percentage')"
      ]
     },
     "execution_count": 44,
     "metadata": {},
     "output_type": "execute_result"
    },
    {
     "data": {
      "image/png": "[encoded data removed]",
      "text/plain": [
       "<Figure size 432x288 with 1 Axes>"
      ]
     },
     "metadata": {
      "needs_background": "light"
     },
     "output_type": "display_data"
    }
   ],
   "source": [
    "mytable = ds.groupby(['STD_WORK_LOCESP']).size()\n",
    "n = mytable.sum()\n",
    "mytable = (mytable/n)*100\n",
    "barlist = ['CentroA', 'HospitalA']\n",
    "plt.bar(barlist, mytable)\n",
    "plt.ylabel('Percentage')"
   ]
  },
  {
   "cell_type": "code",
   "execution_count": 45,
   "metadata": {
    "colab": {
     "base_uri": "https://localhost:8080/"
    },
    "id": "7nrQ8uuyJcwy",
    "outputId": "b9c9da59-fd6b-454a-a108-b4156c4a1ee5"
   },
   "outputs": [
    {
     "data": {
      "text/plain": [
       "STD_WORK_LOCESP\n",
       "CentroA      0.983683\n",
       "HospitalA    0.984142\n",
       "Name: Activos, dtype: float64"
      ]
     },
     "execution_count": 45,
     "metadata": {},
     "output_type": "execute_result"
    }
   ],
   "source": [
    "ds.groupby('STD_WORK_LOCESP').Activos.mean()\n"
   ]
  },
  {
   "cell_type": "code",
   "execution_count": 46,
   "metadata": {
    "colab": {
     "base_uri": "https://localhost:8080/"
    },
    "id": "3ytYnp-VJe4E",
    "outputId": "532aa963-83cf-4a50-c282-8b7c9d86cc69"
   },
   "outputs": [
    {
     "data": {
      "text/html": [
       "<div>\n",
       "<style scoped>\n",
       "    .dataframe tbody tr th:only-of-type {\n",
       "        vertical-align: middle;\n",
       "    }\n",
       "\n",
       "    .dataframe tbody tr th {\n",
       "        vertical-align: top;\n",
       "    }\n",
       "\n",
       "    .dataframe thead th {\n",
       "        text-align: right;\n",
       "    }\n",
       "</style>\n",
       "<table border=\"1\" class=\"dataframe\">\n",
       "  <thead>\n",
       "    <tr style=\"text-align: right;\">\n",
       "      <th>STD_WORK_LOCESP</th>\n",
       "      <th>CentroA</th>\n",
       "      <th>HospitalA</th>\n",
       "      <th>All</th>\n",
       "    </tr>\n",
       "    <tr>\n",
       "      <th>Activos</th>\n",
       "      <th></th>\n",
       "      <th></th>\n",
       "      <th></th>\n",
       "    </tr>\n",
       "  </thead>\n",
       "  <tbody>\n",
       "    <tr>\n",
       "      <th>0</th>\n",
       "      <td>35</td>\n",
       "      <td>935</td>\n",
       "      <td>970</td>\n",
       "    </tr>\n",
       "    <tr>\n",
       "      <th>1</th>\n",
       "      <td>2110</td>\n",
       "      <td>58024</td>\n",
       "      <td>60134</td>\n",
       "    </tr>\n",
       "    <tr>\n",
       "      <th>All</th>\n",
       "      <td>2145</td>\n",
       "      <td>58959</td>\n",
       "      <td>61104</td>\n",
       "    </tr>\n",
       "  </tbody>\n",
       "</table>\n",
       "</div>"
      ],
      "text/plain": [
       "STD_WORK_LOCESP  CentroA  HospitalA    All\n",
       "Activos                                   \n",
       "0                     35        935    970\n",
       "1                   2110      58024  60134\n",
       "All                 2145      58959  61104"
      ]
     },
     "execution_count": 46,
     "metadata": {},
     "output_type": "execute_result"
    }
   ],
   "source": [
    "pd.crosstab(ds.Activos, ds.STD_WORK_LOCESP, margins=True) #1º la VD  target, 2º La predicción\n"
   ]
  },
  {
   "cell_type": "code",
   "execution_count": 47,
   "metadata": {
    "colab": {
     "base_uri": "https://localhost:8080/"
    },
    "id": "J2J_iFxKJg5W",
    "outputId": "c02d4434-66b4-4fdd-d37b-f5e433bb4ed2"
   },
   "outputs": [
    {
     "data": {
      "text/html": [
       "<div>\n",
       "<style scoped>\n",
       "    .dataframe tbody tr th:only-of-type {\n",
       "        vertical-align: middle;\n",
       "    }\n",
       "\n",
       "    .dataframe tbody tr th {\n",
       "        vertical-align: top;\n",
       "    }\n",
       "\n",
       "    .dataframe thead th {\n",
       "        text-align: right;\n",
       "    }\n",
       "</style>\n",
       "<table border=\"1\" class=\"dataframe\">\n",
       "  <thead>\n",
       "    <tr style=\"text-align: right;\">\n",
       "      <th>STD_WORK_LOCESP</th>\n",
       "      <th>CentroA</th>\n",
       "      <th>HospitalA</th>\n",
       "      <th>All</th>\n",
       "    </tr>\n",
       "    <tr>\n",
       "      <th>Activos</th>\n",
       "      <th></th>\n",
       "      <th></th>\n",
       "      <th></th>\n",
       "    </tr>\n",
       "  </thead>\n",
       "  <tbody>\n",
       "    <tr>\n",
       "      <th>0</th>\n",
       "      <td>1.631702</td>\n",
       "      <td>1.585848</td>\n",
       "      <td>1.587457</td>\n",
       "    </tr>\n",
       "    <tr>\n",
       "      <th>1</th>\n",
       "      <td>98.368298</td>\n",
       "      <td>98.414152</td>\n",
       "      <td>98.412543</td>\n",
       "    </tr>\n",
       "  </tbody>\n",
       "</table>\n",
       "</div>"
      ],
      "text/plain": [
       "STD_WORK_LOCESP    CentroA  HospitalA        All\n",
       "Activos                                         \n",
       "0                 1.631702   1.585848   1.587457\n",
       "1                98.368298  98.414152  98.412543"
      ]
     },
     "execution_count": 47,
     "metadata": {},
     "output_type": "execute_result"
    }
   ],
   "source": [
    "pd.crosstab(ds.Activos, ds.STD_WORK_LOCESP,normalize='columns', margins=True)*100    #Para que nos de en porcentajes\n"
   ]
  },
  {
   "cell_type": "code",
   "execution_count": 48,
   "metadata": {
    "id": "67CrUm-BJiWZ"
   },
   "outputs": [],
   "source": [
    "my_ct = pd.crosstab(ds.Activos, ds.STD_WORK_LOCESP,normalize='columns', margins=True)*100  \n"
   ]
  },
  {
   "cell_type": "code",
   "execution_count": 49,
   "metadata": {
    "id": "LhG5Q6rcJklH"
   },
   "outputs": [],
   "source": [
    "my_ct=round(my_ct,1)\n"
   ]
  },
  {
   "cell_type": "code",
   "execution_count": 50,
   "metadata": {
    "colab": {
     "base_uri": "https://localhost:8080/"
    },
    "id": "w61JkRVJJl_R",
    "outputId": "eb1f353f-ef35-4139-c8a4-fbc5a2d05ef2"
   },
   "outputs": [
    {
     "name": "stdout",
     "output_type": "stream",
     "text": [
      "STD_WORK_LOCESP  CentroA  HospitalA   All\n",
      "Activos                                  \n",
      "0                    1.6        1.6   1.6\n",
      "1                   98.4       98.4  98.4\n"
     ]
    }
   ],
   "source": [
    "print(my_ct)\n"
   ]
  },
  {
   "cell_type": "code",
   "execution_count": 51,
   "metadata": {
    "colab": {
     "base_uri": "https://localhost:8080/"
    },
    "id": "mVSrOBP-JnPt",
    "outputId": "ae6ffc13-32d4-44d2-bd99-b71e2ad96d7c"
   },
   "outputs": [
    {
     "data": {
      "text/html": [
       "<div>\n",
       "<style scoped>\n",
       "    .dataframe tbody tr th:only-of-type {\n",
       "        vertical-align: middle;\n",
       "    }\n",
       "\n",
       "    .dataframe tbody tr th {\n",
       "        vertical-align: top;\n",
       "    }\n",
       "\n",
       "    .dataframe thead th {\n",
       "        text-align: right;\n",
       "    }\n",
       "</style>\n",
       "<table border=\"1\" class=\"dataframe\">\n",
       "  <thead>\n",
       "    <tr style=\"text-align: right;\">\n",
       "      <th>STD_WORK_LOCESP</th>\n",
       "      <th>CentroA</th>\n",
       "      <th>HospitalA</th>\n",
       "    </tr>\n",
       "    <tr>\n",
       "      <th>Activos</th>\n",
       "      <th></th>\n",
       "      <th></th>\n",
       "    </tr>\n",
       "  </thead>\n",
       "  <tbody>\n",
       "    <tr>\n",
       "      <th>0</th>\n",
       "      <td>35</td>\n",
       "      <td>935</td>\n",
       "    </tr>\n",
       "    <tr>\n",
       "      <th>1</th>\n",
       "      <td>2110</td>\n",
       "      <td>58024</td>\n",
       "    </tr>\n",
       "  </tbody>\n",
       "</table>\n",
       "</div>"
      ],
      "text/plain": [
       "STD_WORK_LOCESP  CentroA  HospitalA\n",
       "Activos                            \n",
       "0                     35        935\n",
       "1                   2110      58024"
      ]
     },
     "execution_count": 51,
     "metadata": {},
     "output_type": "execute_result"
    }
   ],
   "source": [
    "##Stadistical test\n",
    "ct = pd.crosstab(ds.Activos, ds.STD_WORK_LOCESP)\n",
    "ct\n"
   ]
  },
  {
   "cell_type": "code",
   "execution_count": 52,
   "metadata": {
    "colab": {
     "base_uri": "https://localhost:8080/"
    },
    "id": "nUO7mtcVJqZI",
    "outputId": "0aafddd4-8a43-47a1-884f-38133096484a"
   },
   "outputs": [
    {
     "data": {
      "text/plain": [
       "(0.006235988586514515,\n",
       " 0.9370578564634043,\n",
       " 1,\n",
       " array([[3.40509623e+01, 9.35949038e+02],\n",
       "        [2.11094904e+03, 5.80230510e+04]]))"
      ]
     },
     "execution_count": 52,
     "metadata": {},
     "output_type": "execute_result"
    }
   ],
   "source": [
    "stats.chi2_contingency(ct)\n"
   ]
  },
  {
   "cell_type": "code",
   "execution_count": 53,
   "metadata": {
    "colab": {
     "base_uri": "https://localhost:8080/"
    },
    "id": "pBuSD_d7JtTi",
    "outputId": "150273e3-0cc7-4066-8d6d-7f29bf77ffb6"
   },
   "outputs": [
    {
     "data": {
      "text/plain": [
       "(array([0, 1, 2]),\n",
       " [Text(0, 0, 'CentroA'), Text(1, 0, 'HospitalA'), Text(2, 0, 'All')])"
      ]
     },
     "execution_count": 53,
     "metadata": {},
     "output_type": "execute_result"
    },
    {
     "data": {
      "image/png": "[encoded data removed]",
      "text/plain": [
       "<Figure size 432x288 with 1 Axes>"
      ]
     },
     "metadata": {
      "needs_background": "light"
     },
     "output_type": "display_data"
    }
   ],
   "source": [
    "##Ploting the cross tabulation\n",
    "my_ct2=my_ct.transpose() #Primero hay que treansponer la tabla para poder representarla graficamente\n",
    "\n",
    "\n",
    "my_ct2.plot(kind=\"bar\", edgecolor = \"black\", colormap='Blues') #Mapas de colores https://matplotlib.org/2.0.2/examples/color/colormaps_reference.html\n",
    "props = dict(boxstyle='round', facecolor='white', lw=0.5)\n",
    "plt.text(-0.4, 3, 'Chi2: 0.006''\\n''n: 61109' '\\n' 'Pval.: 0.937', bbox=props)\n",
    "plt.xlabel('Contrato Indefinido')\n",
    "plt.title('Activos vs STD_WORK_LOCESP''\\n')\n",
    "plt.legend(['No Activos','Activos'])\n",
    "plt.ylim(0,4)\n",
    "plt.xticks(rotation='horizontal')"
   ]
  },
  {
   "cell_type": "markdown",
   "metadata": {
    "id": "DPNxGDwyJ0uH"
   },
   "source": [
    "##Activos vs CSP_N_COLECTIVO"
   ]
  },
  {
   "cell_type": "markdown",
   "metadata": {
    "id": "-C8u41QuJ4l4"
   },
   "source": [
    "Variable Nominal: CSP_N_COLECTIVO"
   ]
  },
  {
   "cell_type": "code",
   "execution_count": 54,
   "metadata": {
    "colab": {
     "base_uri": "https://localhost:8080/"
    },
    "id": "10oJ1IP6J7TZ",
    "outputId": "6e6fea94-e193-4f8e-b859-aeb2676f0223"
   },
   "outputs": [
    {
     "data": {
      "text/plain": [
       "Text(0, 0.5, 'Percentage')"
      ]
     },
     "execution_count": 54,
     "metadata": {},
     "output_type": "execute_result"
    },
    {
     "data": {
      "image/png": "[encoded data removed]",
      "text/plain": [
       "<Figure size 432x288 with 1 Axes>"
      ]
     },
     "metadata": {
      "needs_background": "light"
     },
     "output_type": "display_data"
    }
   ],
   "source": [
    "mytable = ds.groupby(['CSP_N_COLECTIVO']).size()\n",
    "n = mytable.sum()\n",
    "mytable = (mytable/n)*100\n",
    "barlist = ['Estructura', 'Refuerzos', 'Sustituciones']\n",
    "plt.bar(barlist, mytable)\n",
    "plt.ylabel('Percentage')"
   ]
  },
  {
   "cell_type": "code",
   "execution_count": 55,
   "metadata": {
    "colab": {
     "base_uri": "https://localhost:8080/"
    },
    "id": "2YRHSK2eJ-GH",
    "outputId": "95c63f96-6f3e-4cb7-b817-bdc30d05dd63"
   },
   "outputs": [
    {
     "data": {
      "text/plain": [
       "CSP_N_COLECTIVO\n",
       "Estructura       0.980402\n",
       "Refuerzos        0.998170\n",
       "Sustituciones    0.999724\n",
       "Name: Activos, dtype: float64"
      ]
     },
     "execution_count": 55,
     "metadata": {},
     "output_type": "execute_result"
    }
   ],
   "source": [
    "ds.groupby('CSP_N_COLECTIVO').Activos.mean()\n"
   ]
  },
  {
   "cell_type": "code",
   "execution_count": 56,
   "metadata": {
    "colab": {
     "base_uri": "https://localhost:8080/"
    },
    "id": "ormn-P18KAK4",
    "outputId": "4f0a36bd-785d-4eb9-b0fe-88ab521742dc"
   },
   "outputs": [
    {
     "name": "stdout",
     "output_type": "stream",
     "text": [
      "CSP_N_COLECTIVO  Estructura  Refuerzos  Sustituciones   All\n",
      "Activos                                                    \n",
      "0                       2.0        0.2            0.0   1.6\n",
      "1                      98.0       99.8          100.0  98.4\n"
     ]
    }
   ],
   "source": [
    "pd.crosstab(ds.Activos, ds.CSP_N_COLECTIVO, margins=True) #1º la VD  target, 2º La predicción\n",
    "\n",
    "pd.crosstab(ds.Activos, ds.CSP_N_COLECTIVO,normalize='columns', margins=True)*100    #Para que nos de en porcentajes\n",
    "\n",
    "my_ct = pd.crosstab(ds.Activos, ds.CSP_N_COLECTIVO,normalize='columns', margins=True)*100  \n",
    "\n",
    "my_ct=round(my_ct,1)\n",
    "\n",
    "print(my_ct)\n"
   ]
  },
  {
   "cell_type": "code",
   "execution_count": 57,
   "metadata": {
    "colab": {
     "base_uri": "https://localhost:8080/"
    },
    "id": "UbBUVi-CKCyP",
    "outputId": "75041a78-8b1a-4780-9602-1ea7837ce42e"
   },
   "outputs": [
    {
     "data": {
      "text/plain": [
       "(218.46589210406725,\n",
       " 3.6369245173058915e-48,\n",
       " 2,\n",
       " array([[  776.80642838,    78.07115737,   115.12241424],\n",
       "        [48157.19357162,  4839.92884263,  7136.87758576]]))"
      ]
     },
     "execution_count": 57,
     "metadata": {},
     "output_type": "execute_result"
    }
   ],
   "source": [
    "##Stadistical test\n",
    "ct = pd.crosstab(ds.Activos, ds.CSP_N_COLECTIVO)\n",
    "ct\n",
    "\n",
    "stats.chi2_contingency(ct)"
   ]
  },
  {
   "cell_type": "code",
   "execution_count": 58,
   "metadata": {
    "colab": {
     "base_uri": "https://localhost:8080/"
    },
    "id": "CL69N7K_KGWm",
    "outputId": "b124e32c-a594-4bba-a14e-942a3ee9647e"
   },
   "outputs": [
    {
     "data": {
      "text/plain": [
       "(array([0, 1, 2, 3]),\n",
       " [Text(0, 0, 'Estructura'),\n",
       "  Text(1, 0, 'Refuerzos'),\n",
       "  Text(2, 0, 'Sustituciones'),\n",
       "  Text(3, 0, 'All')])"
      ]
     },
     "execution_count": 58,
     "metadata": {},
     "output_type": "execute_result"
    },
    {
     "data": {
      "image/png": "[encoded data removed]",
      "text/plain": [
       "<Figure size 432x288 with 1 Axes>"
      ]
     },
     "metadata": {
      "needs_background": "light"
     },
     "output_type": "display_data"
    }
   ],
   "source": [
    "##Ploting the cross tabulation\n",
    "my_ct2=my_ct.transpose() #Primero hay que treansponer la tabla para poder representarla graficamente\n",
    "\n",
    "\n",
    "my_ct2.plot(kind=\"bar\", edgecolor = \"black\", colormap='Blues') \n",
    "props = dict(boxstyle='round', facecolor='white', lw=0.5)\n",
    "plt.text(-0.4, 4, 'Chi2: 218.466''\\n''n: 61109' '\\n' 'Pval.: 0.000', bbox=props)\n",
    "plt.xlabel('Tipo de Contrato')\n",
    "plt.title('Activos vs CSP_N_COLECTIVO''\\n')\n",
    "plt.legend(['No Activos','Activos'])\n",
    "plt.ylim(0,3)\n",
    "plt.xticks(rotation='horizontal')"
   ]
  },
  {
   "cell_type": "markdown",
   "metadata": {
    "id": "uIpjHOdjM6D0"
   },
   "source": [
    "## Activos vs Num_Periodo"
   ]
  },
  {
   "cell_type": "markdown",
   "metadata": {
    "id": "byMESjHzPTMh"
   },
   "source": [
    "Num. Periodo"
   ]
  },
  {
   "cell_type": "code",
   "execution_count": 59,
   "metadata": {
    "colab": {
     "base_uri": "https://localhost:8080/"
    },
    "id": "5U1VBbsiKKU5",
    "outputId": "073d461d-928c-4f31-b063-f696b1a7c237"
   },
   "outputs": [
    {
     "ename": "AttributeError",
     "evalue": "'DataFrame' object has no attribute 'Num_Periodo'",
     "output_type": "error",
     "traceback": [
      "\u001b[1;31m---------------------------------------------------------------------------\u001b[0m",
      "\u001b[1;31mAttributeError\u001b[0m                            Traceback (most recent call last)",
      "\u001b[1;32m<ipython-input-59-2319f1c2f40e>\u001b[0m in \u001b[0;36m<module>\u001b[1;34m\u001b[0m\n\u001b[1;32m----> 1\u001b[1;33m \u001b[0mds\u001b[0m\u001b[1;33m.\u001b[0m\u001b[0mNum_Periodo\u001b[0m\u001b[1;33m.\u001b[0m\u001b[0mdescribe\u001b[0m\u001b[1;33m(\u001b[0m\u001b[1;33m)\u001b[0m\u001b[1;33m\u001b[0m\u001b[1;33m\u001b[0m\u001b[0m\n\u001b[0m\u001b[0;32m      2\u001b[0m \u001b[0mplt\u001b[0m\u001b[1;33m.\u001b[0m\u001b[0mhist\u001b[0m\u001b[1;33m(\u001b[0m\u001b[0mds\u001b[0m\u001b[1;33m.\u001b[0m\u001b[0mNum_Periodo\u001b[0m\u001b[1;33m)\u001b[0m\u001b[1;33m\u001b[0m\u001b[1;33m\u001b[0m\u001b[0m\n",
      "\u001b[1;32m~\\anaconda3\\lib\\site-packages\\pandas\\core\\generic.py\u001b[0m in \u001b[0;36m__getattr__\u001b[1;34m(self, name)\u001b[0m\n\u001b[0;32m   5463\u001b[0m             \u001b[1;32mif\u001b[0m \u001b[0mself\u001b[0m\u001b[1;33m.\u001b[0m\u001b[0m_info_axis\u001b[0m\u001b[1;33m.\u001b[0m\u001b[0m_can_hold_identifiers_and_holds_name\u001b[0m\u001b[1;33m(\u001b[0m\u001b[0mname\u001b[0m\u001b[1;33m)\u001b[0m\u001b[1;33m:\u001b[0m\u001b[1;33m\u001b[0m\u001b[1;33m\u001b[0m\u001b[0m\n\u001b[0;32m   5464\u001b[0m                 \u001b[1;32mreturn\u001b[0m \u001b[0mself\u001b[0m\u001b[1;33m[\u001b[0m\u001b[0mname\u001b[0m\u001b[1;33m]\u001b[0m\u001b[1;33m\u001b[0m\u001b[1;33m\u001b[0m\u001b[0m\n\u001b[1;32m-> 5465\u001b[1;33m             \u001b[1;32mreturn\u001b[0m \u001b[0mobject\u001b[0m\u001b[1;33m.\u001b[0m\u001b[0m__getattribute__\u001b[0m\u001b[1;33m(\u001b[0m\u001b[0mself\u001b[0m\u001b[1;33m,\u001b[0m \u001b[0mname\u001b[0m\u001b[1;33m)\u001b[0m\u001b[1;33m\u001b[0m\u001b[1;33m\u001b[0m\u001b[0m\n\u001b[0m\u001b[0;32m   5466\u001b[0m \u001b[1;33m\u001b[0m\u001b[0m\n\u001b[0;32m   5467\u001b[0m     \u001b[1;32mdef\u001b[0m \u001b[0m__setattr__\u001b[0m\u001b[1;33m(\u001b[0m\u001b[0mself\u001b[0m\u001b[1;33m,\u001b[0m \u001b[0mname\u001b[0m\u001b[1;33m:\u001b[0m \u001b[0mstr\u001b[0m\u001b[1;33m,\u001b[0m \u001b[0mvalue\u001b[0m\u001b[1;33m)\u001b[0m \u001b[1;33m->\u001b[0m \u001b[1;32mNone\u001b[0m\u001b[1;33m:\u001b[0m\u001b[1;33m\u001b[0m\u001b[1;33m\u001b[0m\u001b[0m\n",
      "\u001b[1;31mAttributeError\u001b[0m: 'DataFrame' object has no attribute 'Num_Periodo'"
     ]
    }
   ],
   "source": [
    "ds.Num_Periodo.describe()\n",
    "plt.hist(ds.Num_Periodo)"
   ]
  },
  {
   "cell_type": "code",
   "execution_count": 63,
   "metadata": {
    "colab": {
     "base_uri": "https://localhost:8080/"
    },
    "id": "Y0P75wlnPWVP",
    "outputId": "313253a8-19a9-495c-adea-c9b7034ab564"
   },
   "outputs": [
    {
     "data": {
      "text/plain": [
       "Activos\n",
       "0    1.932990\n",
       "1    1.874613\n",
       "Name: Num_Periodo, dtype: float64"
      ]
     },
     "execution_count": 63,
     "metadata": {},
     "output_type": "execute_result"
    }
   ],
   "source": [
    "###Descrive comparison\n",
    "ds.groupby('Activos').Num_Periodo.mean()"
   ]
  },
  {
   "cell_type": "code",
   "execution_count": 64,
   "metadata": {
    "id": "dO8pw084PZHr"
   },
   "outputs": [],
   "source": [
    "#Stadistical comparison:\n",
    "activo_s = ds.loc[ds.Activos==1, \"Num_Periodo\"]  \n",
    "activo_n = ds.loc[ds.Activos==0, \"Num_Periodo\"]\n"
   ]
  },
  {
   "cell_type": "code",
   "execution_count": 65,
   "metadata": {
    "colab": {
     "base_uri": "https://localhost:8080/"
    },
    "id": "IDnWHOX3Pbi4",
    "outputId": "a0e4f7ba-c1df-4a36-8f83-cafeefb360de"
   },
   "outputs": [
    {
     "name": "stdout",
     "output_type": "stream",
     "text": [
      "0.07947004075736888\n"
     ]
    }
   ],
   "source": [
    "##Perform a t test for mean comparison\n",
    "import scipy.stats as stats\n",
    "\n",
    "stats.ttest_ind(activo_s, activo_n, equal_var = False)\n",
    "\n",
    "\n",
    "res = stats.ttest_ind(activo_s, activo_n, equal_var = False)\n",
    "res\n",
    "print(res[1]) "
   ]
  },
  {
   "cell_type": "code",
   "execution_count": 66,
   "metadata": {
    "colab": {
     "base_uri": "https://localhost:8080/"
    },
    "id": "h9i2ZB0hPfSM",
    "outputId": "b48cae6e-5110-4917-c934-b78475dd2259"
   },
   "outputs": [
    {
     "data": {
      "text/plain": [
       "Text(0.5, 1.0, 'Activos vs Num_Periodo\\n')"
      ]
     },
     "execution_count": 66,
     "metadata": {},
     "output_type": "execute_result"
    },
    {
     "data": {
      "image/png": "[encoded data removed]",
      "text/plain": [
       "<Figure size 360x360 with 1 Axes>"
      ]
     },
     "metadata": {
      "needs_background": "light"
     },
     "output_type": "display_data"
    }
   ],
   "source": [
    "#pointplot\n",
    "plt.figure(figsize=(5,5))\n",
    "ax = sns.pointplot(x=\"Activos\", y=\"Num_Periodo\", data=ds,ci=95, join=0)\n",
    "\n",
    "#ajustar eje eje y\n",
    "plt.yticks(np.arange(0, 4, step=1))\n",
    "plt.ylim(1,3)                                                            #Limite\n",
    "\n",
    "#Pintar linea en la media\n",
    "plt.axhline(y=ds.Num_Periodo.mean(),\n",
    "linewidth=1, linestyle= 'dashed', color=\"green\")\n",
    "\n",
    "#Caja de texto\n",
    "props = dict(boxstyle='round', facecolor='white', lw=0.5)\n",
    "plt.text(0.85,2.5,'Mean:1.875''\\n''n:61109' '\\n' 't:18.501' '\\n' 'Pval.:0.079', bbox=props)\n",
    "\n",
    "#Texto ejes\n",
    "plt.xlabel('Activos')\n",
    "plt.ylabel('NumPeriodo')\n",
    "plt.title('Activos vs Num_Periodo''\\n')\n",
    "\n"
   ]
  },
  {
   "cell_type": "markdown",
   "metadata": {
    "id": "sHgmMjPbP3Ve"
   },
   "source": [
    "## Activos vs edad"
   ]
  },
  {
   "cell_type": "code",
   "execution_count": 67,
   "metadata": {
    "colab": {
     "base_uri": "https://localhost:8080/"
    },
    "id": "0p-Lzcr1P7GW",
    "outputId": "1d3a8356-59a0-4eae-b59c-3ccade20caa8"
   },
   "outputs": [
    {
     "data": {
      "text/plain": [
       "(array([  377.,  4946., 10615., 16140., 14594.,  7887.,  3754.,  1695.,\n",
       "          921.,   175.]),\n",
       " array([19., 24., 29., 34., 39., 44., 49., 54., 59., 64., 69.]),\n",
       " <BarContainer object of 10 artists>)"
      ]
     },
     "execution_count": 67,
     "metadata": {},
     "output_type": "execute_result"
    },
    {
     "data": {
      "image/png": "[encoded data removed]",
      "text/plain": [
       "<Figure size 432x288 with 1 Axes>"
      ]
     },
     "metadata": {
      "needs_background": "light"
     },
     "output_type": "display_data"
    }
   ],
   "source": [
    "#Num. Periodo\n",
    "\n",
    "ds.Edad.describe()\n",
    "plt.hist(ds.Edad)"
   ]
  },
  {
   "cell_type": "code",
   "execution_count": 68,
   "metadata": {
    "colab": {
     "base_uri": "https://localhost:8080/"
    },
    "id": "Ao6twl3lP9wb",
    "outputId": "905f7328-994f-48ab-d6b9-66dd5abfe2c3"
   },
   "outputs": [
    {
     "data": {
      "text/plain": [
       "Activos\n",
       "0    39.724742\n",
       "1    38.654438\n",
       "Name: Edad, dtype: float64"
      ]
     },
     "execution_count": 68,
     "metadata": {},
     "output_type": "execute_result"
    }
   ],
   "source": [
    "###Descrive comparison\n",
    "ds.groupby('Activos').Edad.mean()"
   ]
  },
  {
   "cell_type": "code",
   "execution_count": 69,
   "metadata": {
    "id": "d5a-IVDuQBeO"
   },
   "outputs": [],
   "source": [
    "#Stadistical comparison:\n",
    "activo_s = ds.loc[ds.Activos==1, \"Edad\"]  \n",
    "activo_n = ds.loc[ds.Activos==0, \"Edad\"]"
   ]
  },
  {
   "cell_type": "code",
   "execution_count": 70,
   "metadata": {
    "colab": {
     "base_uri": "https://localhost:8080/"
    },
    "id": "CszbG8RGQDda",
    "outputId": "b9b21a3b-4a06-4059-cd2f-77dfa7c6f4c8"
   },
   "outputs": [
    {
     "name": "stdout",
     "output_type": "stream",
     "text": [
      "2.2425381828508305e-17\n"
     ]
    }
   ],
   "source": [
    "##Perform a t test for mean comparison\n",
    "import scipy.stats as stats\n",
    "\n",
    "stats.ttest_ind(activo_s, activo_n, equal_var = False)\n",
    "\n",
    "\n",
    "res = stats.ttest_ind(activo_s, activo_n, equal_var = False)\n",
    "res\n",
    "print(res[1])  "
   ]
  },
  {
   "cell_type": "code",
   "execution_count": 71,
   "metadata": {
    "colab": {
     "base_uri": "https://localhost:8080/"
    },
    "id": "EgDr3wbDQFjQ",
    "outputId": "ad648dd2-6a2d-44ac-e93a-1ab0ef8ed93f"
   },
   "outputs": [
    {
     "data": {
      "text/plain": [
       "Text(0.5, 1.0, 'Activos vs edad\\n')"
      ]
     },
     "execution_count": 71,
     "metadata": {},
     "output_type": "execute_result"
    },
    {
     "data": {
      "image/png": "[encoded data removed]",
      "text/plain": [
       "<Figure size 360x360 with 1 Axes>"
      ]
     },
     "metadata": {
      "needs_background": "light"
     },
     "output_type": "display_data"
    }
   ],
   "source": [
    "#Graficar\n",
    "\n",
    "#pointplot\n",
    "plt.figure(figsize=(5,5))\n",
    "ax = sns.pointplot(x=\"Activos\", y=\"Edad\", data=ds,ci=95, join=0)\n",
    "\n",
    "#ajustar eje eje y\n",
    "plt.yticks(np.arange(35, 42, step=1))\n",
    "plt.ylim(35,42)                                                            #Limite\n",
    "\n",
    "#Pintar linea en la media\n",
    "plt.axhline(y=ds.Edad.mean(),\n",
    "linewidth=1, linestyle= 'dashed', color=\"green\")\n",
    "\n",
    "#Caja de texto\n",
    "props = dict(boxstyle='round', facecolor='white', lw=0.5)\n",
    "plt.text(0.85,37,'Mean:38.671''\\n''n:61109' '\\n' 't:18.501' '\\n' 'Pval.:0.000', bbox=props)\n",
    "\n",
    "#Texto ejes\n",
    "plt.xlabel('Activos')\n",
    "plt.ylabel('Edad')\n",
    "plt.title('Activos vs edad''\\n')"
   ]
  },
  {
   "cell_type": "markdown",
   "metadata": {
    "id": "AVuoaFUhQTIK"
   },
   "source": [
    "## Activos vs STD_N_GENDERESP"
   ]
  },
  {
   "cell_type": "code",
   "execution_count": 72,
   "metadata": {
    "colab": {
     "base_uri": "https://localhost:8080/"
    },
    "id": "SaR3C6hATPUQ",
    "outputId": "e394dad1-0ce7-4370-b5b3-fa586cf2fd00"
   },
   "outputs": [
    {
     "data": {
      "text/plain": [
       "Text(0, 0.5, 'Percentage')"
      ]
     },
     "execution_count": 72,
     "metadata": {},
     "output_type": "execute_result"
    },
    {
     "data": {
      "image/png": "[encoded data removed]",
      "text/plain": [
       "<Figure size 432x288 with 1 Axes>"
      ]
     },
     "metadata": {
      "needs_background": "light"
     },
     "output_type": "display_data"
    }
   ],
   "source": [
    "# Variable Nominal: STD_N_GENDERESP\n",
    "\n",
    "mytable = ds.groupby(['STD_N_GENDERESP']).size()\n",
    "n = mytable.sum()\n",
    "mytable = (mytable/n)*100\n",
    "barlist = ['Mujer', 'Varon']\n",
    "plt.bar(barlist, mytable)\n",
    "plt.ylabel('Percentage')"
   ]
  },
  {
   "cell_type": "code",
   "execution_count": 73,
   "metadata": {
    "colab": {
     "base_uri": "https://localhost:8080/"
    },
    "id": "6Ic5t-E0Th1K",
    "outputId": "5c0c3b8b-5084-40a5-a563-2b3483f15c48"
   },
   "outputs": [
    {
     "data": {
      "text/plain": [
       "STD_N_GENDERESP\n",
       "Mujer    0.981202\n",
       "Varón    0.993939\n",
       "Name: Activos, dtype: float64"
      ]
     },
     "execution_count": 73,
     "metadata": {},
     "output_type": "execute_result"
    }
   ],
   "source": [
    "ds.groupby('STD_N_GENDERESP').Activos.mean()"
   ]
  },
  {
   "cell_type": "code",
   "execution_count": 74,
   "metadata": {
    "colab": {
     "base_uri": "https://localhost:8080/"
    },
    "id": "nRuP22JZTiWK",
    "outputId": "fd3a1526-58c1-4721-974e-0107ddfa38e6"
   },
   "outputs": [
    {
     "data": {
      "text/html": [
       "<div>\n",
       "<style scoped>\n",
       "    .dataframe tbody tr th:only-of-type {\n",
       "        vertical-align: middle;\n",
       "    }\n",
       "\n",
       "    .dataframe tbody tr th {\n",
       "        vertical-align: top;\n",
       "    }\n",
       "\n",
       "    .dataframe thead th {\n",
       "        text-align: right;\n",
       "    }\n",
       "</style>\n",
       "<table border=\"1\" class=\"dataframe\">\n",
       "  <thead>\n",
       "    <tr style=\"text-align: right;\">\n",
       "      <th>STD_N_GENDERESP</th>\n",
       "      <th>Mujer</th>\n",
       "      <th>Varón</th>\n",
       "      <th>All</th>\n",
       "    </tr>\n",
       "    <tr>\n",
       "      <th>Activos</th>\n",
       "      <th></th>\n",
       "      <th></th>\n",
       "      <th></th>\n",
       "    </tr>\n",
       "  </thead>\n",
       "  <tbody>\n",
       "    <tr>\n",
       "      <th>0</th>\n",
       "      <td>885</td>\n",
       "      <td>85</td>\n",
       "      <td>970</td>\n",
       "    </tr>\n",
       "    <tr>\n",
       "      <th>1</th>\n",
       "      <td>46195</td>\n",
       "      <td>13939</td>\n",
       "      <td>60134</td>\n",
       "    </tr>\n",
       "    <tr>\n",
       "      <th>All</th>\n",
       "      <td>47080</td>\n",
       "      <td>14024</td>\n",
       "      <td>61104</td>\n",
       "    </tr>\n",
       "  </tbody>\n",
       "</table>\n",
       "</div>"
      ],
      "text/plain": [
       "STD_N_GENDERESP  Mujer  Varón    All\n",
       "Activos                             \n",
       "0                  885     85    970\n",
       "1                46195  13939  60134\n",
       "All              47080  14024  61104"
      ]
     },
     "execution_count": 74,
     "metadata": {},
     "output_type": "execute_result"
    }
   ],
   "source": [
    "#Nominal vs Nominal\n",
    "\n",
    "pd.crosstab(ds.Activos, ds.STD_N_GENDERESP, margins=True) #1º la VD  target, 2º La predicción\n"
   ]
  },
  {
   "cell_type": "code",
   "execution_count": 75,
   "metadata": {
    "colab": {
     "base_uri": "https://localhost:8080/"
    },
    "id": "_Z4F4Iq9Tljj",
    "outputId": "2ae63a5a-1614-43f3-ac9f-d44fd60c7c56"
   },
   "outputs": [
    {
     "data": {
      "text/html": [
       "<div>\n",
       "<style scoped>\n",
       "    .dataframe tbody tr th:only-of-type {\n",
       "        vertical-align: middle;\n",
       "    }\n",
       "\n",
       "    .dataframe tbody tr th {\n",
       "        vertical-align: top;\n",
       "    }\n",
       "\n",
       "    .dataframe thead th {\n",
       "        text-align: right;\n",
       "    }\n",
       "</style>\n",
       "<table border=\"1\" class=\"dataframe\">\n",
       "  <thead>\n",
       "    <tr style=\"text-align: right;\">\n",
       "      <th>STD_N_GENDERESP</th>\n",
       "      <th>Mujer</th>\n",
       "      <th>Varón</th>\n",
       "      <th>All</th>\n",
       "    </tr>\n",
       "    <tr>\n",
       "      <th>Activos</th>\n",
       "      <th></th>\n",
       "      <th></th>\n",
       "      <th></th>\n",
       "    </tr>\n",
       "  </thead>\n",
       "  <tbody>\n",
       "    <tr>\n",
       "      <th>0</th>\n",
       "      <td>1.879779</td>\n",
       "      <td>0.606104</td>\n",
       "      <td>1.587457</td>\n",
       "    </tr>\n",
       "    <tr>\n",
       "      <th>1</th>\n",
       "      <td>98.120221</td>\n",
       "      <td>99.393896</td>\n",
       "      <td>98.412543</td>\n",
       "    </tr>\n",
       "  </tbody>\n",
       "</table>\n",
       "</div>"
      ],
      "text/plain": [
       "STD_N_GENDERESP      Mujer      Varón        All\n",
       "Activos                                         \n",
       "0                 1.879779   0.606104   1.587457\n",
       "1                98.120221  99.393896  98.412543"
      ]
     },
     "execution_count": 75,
     "metadata": {},
     "output_type": "execute_result"
    }
   ],
   "source": [
    "pd.crosstab(ds.Activos, ds.STD_N_GENDERESP,normalize='columns', margins=True)*100    #Para que nos de en porcentajes\n"
   ]
  },
  {
   "cell_type": "code",
   "execution_count": 76,
   "metadata": {
    "id": "jf6na6PdTnVD"
   },
   "outputs": [],
   "source": [
    "my_ct = pd.crosstab(ds.Activos, ds.STD_N_GENDERESP,normalize='columns', margins=True)*100  \n"
   ]
  },
  {
   "cell_type": "code",
   "execution_count": 77,
   "metadata": {
    "id": "jKIsSSH_To44"
   },
   "outputs": [],
   "source": [
    "my_ct=round(my_ct,1)\n"
   ]
  },
  {
   "cell_type": "code",
   "execution_count": 78,
   "metadata": {
    "colab": {
     "base_uri": "https://localhost:8080/"
    },
    "id": "4uOavxj_TqXM",
    "outputId": "326995c6-1437-44f3-eb49-786d4e67bbef"
   },
   "outputs": [
    {
     "name": "stdout",
     "output_type": "stream",
     "text": [
      "STD_N_GENDERESP  Mujer  Varón   All\n",
      "Activos                            \n",
      "0                  1.9    0.6   1.6\n",
      "1                 98.1   99.4  98.4\n"
     ]
    }
   ],
   "source": [
    "print(my_ct)\n"
   ]
  },
  {
   "cell_type": "code",
   "execution_count": 79,
   "metadata": {
    "colab": {
     "base_uri": "https://localhost:8080/"
    },
    "id": "7-iuirR-TryZ",
    "outputId": "7dd4d0c6-60d9-4f9c-e32b-db29ec90406e"
   },
   "outputs": [
    {
     "data": {
      "text/plain": [
       "(111.38897992753739,\n",
       " 4.862887756948592e-26,\n",
       " 1,\n",
       " array([[  747.37496727,   222.62503273],\n",
       "        [46332.62503273, 13801.37496727]]))"
      ]
     },
     "execution_count": 79,
     "metadata": {},
     "output_type": "execute_result"
    }
   ],
   "source": [
    "##Stadistical test\n",
    "ct = pd.crosstab(ds.Activos, ds.STD_N_GENDERESP)\n",
    "ct\n",
    "\n",
    "stats.chi2_contingency(ct)"
   ]
  },
  {
   "cell_type": "code",
   "execution_count": 80,
   "metadata": {
    "colab": {
     "base_uri": "https://localhost:8080/"
    },
    "id": "Q6N34t4fTuO6",
    "outputId": "f75041c3-1eec-40cf-e028-6ae5c2818c5a"
   },
   "outputs": [
    {
     "data": {
      "text/plain": [
       "(array([0, 1, 2]),\n",
       " [Text(0, 0, 'Mujer'), Text(1, 0, 'Varón'), Text(2, 0, 'All')])"
      ]
     },
     "execution_count": 80,
     "metadata": {},
     "output_type": "execute_result"
    },
    {
     "data": {
      "image/png": "[encoded data removed]",
      "text/plain": [
       "<Figure size 432x288 with 1 Axes>"
      ]
     },
     "metadata": {
      "needs_background": "light"
     },
     "output_type": "display_data"
    }
   ],
   "source": [
    "##Ploting the cross tabulation\n",
    "my_ct2=my_ct.transpose() #Primero hay que treansponer la tabla para poder representarla graficamente\n",
    "\n",
    "\n",
    "my_ct2.plot(kind=\"bar\", edgecolor = \"black\", colormap='Blues') #Mapas de colores https://matplotlib.org/2.0.2/examples/color/colormaps_reference.html\n",
    "props = dict(boxstyle='round', facecolor='white', lw=0.5)\n",
    "plt.text(-0.4, 3, 'Chi2: 218.466''\\n''n: 61109' '\\n' 'Pval.: 0.000', bbox=props)\n",
    "plt.xlabel('Tipo de Contrato')\n",
    "plt.title('Activos vs STD_N_GENDERESP''\\n')\n",
    "plt.legend(['No Activos','Activos'])\n",
    "plt.ylim(0,4)\n",
    "plt.xticks(rotation='horizontal')\n"
   ]
  },
  {
   "cell_type": "markdown",
   "metadata": {
    "id": "DD3rfceMmkX6"
   },
   "source": [
    "#Analisis de frecuencias\n",
    "Nos centramos en las filas en las que la variable 'Activos' es igual a 0."
   ]
  },
  {
   "cell_type": "code",
   "execution_count": 81,
   "metadata": {
    "id": "GWw6PeGym9Ic"
   },
   "outputs": [],
   "source": [
    "ds2 = ds[ds['Activos']==0]"
   ]
  },
  {
   "cell_type": "code",
   "execution_count": 82,
   "metadata": {
    "colab": {
     "base_uri": "https://localhost:8080/"
    },
    "id": "zA2-c8-Ys58D",
    "outputId": "dc50515f-a302-4e92-9c16-02b568b0914c"
   },
   "outputs": [
    {
     "data": {
      "text/html": [
       "<div>\n",
       "<style scoped>\n",
       "    .dataframe tbody tr th:only-of-type {\n",
       "        vertical-align: middle;\n",
       "    }\n",
       "\n",
       "    .dataframe tbody tr th {\n",
       "        vertical-align: top;\n",
       "    }\n",
       "\n",
       "    .dataframe thead th {\n",
       "        text-align: right;\n",
       "    }\n",
       "</style>\n",
       "<table border=\"1\" class=\"dataframe\">\n",
       "  <thead>\n",
       "    <tr style=\"text-align: right;\">\n",
       "      <th></th>\n",
       "      <th>NM_ORGANIZATIONESP</th>\n",
       "      <th>STD_N_HR_TYPEESP</th>\n",
       "      <th>Anyo</th>\n",
       "      <th>AnyoMes</th>\n",
       "      <th>STD_ID_PERSON</th>\n",
       "      <th>STD_N_GENDERESP</th>\n",
       "      <th>Num_Periodo</th>\n",
       "      <th>SSP_ID_CONT_INTERN</th>\n",
       "      <th>SSP_NM_CONT_INESP</th>\n",
       "      <th>Fecha Inicio</th>\n",
       "      <th>...</th>\n",
       "      <th>STD_N_WL_TYPEESP</th>\n",
       "      <th>STD_WORK_LOCESP</th>\n",
       "      <th>CSP_N_COLECTIVO</th>\n",
       "      <th>STD_DT_BIRTH</th>\n",
       "      <th>Edad</th>\n",
       "      <th>RangoEdad</th>\n",
       "      <th>Nacionalidad</th>\n",
       "      <th>SSP_ID_MINUSVALIA</th>\n",
       "      <th>Nombre de la minusvalia : Span</th>\n",
       "      <th>Activos</th>\n",
       "    </tr>\n",
       "  </thead>\n",
       "  <tbody>\n",
       "    <tr>\n",
       "      <th>15449</th>\n",
       "      <td>Hospital de TORREJON</td>\n",
       "      <td>Empleado</td>\n",
       "      <td>2019</td>\n",
       "      <td>201906</td>\n",
       "      <td>1007232</td>\n",
       "      <td>Mujer</td>\n",
       "      <td>2</td>\n",
       "      <td>189</td>\n",
       "      <td>INDEFINIDO TP COMPL TRANSF DE TEMPO</td>\n",
       "      <td>03/10/2014</td>\n",
       "      <td>...</td>\n",
       "      <td>Atención Especializada</td>\n",
       "      <td>HospitalA</td>\n",
       "      <td>Estructura</td>\n",
       "      <td>16/08/1989</td>\n",
       "      <td>34</td>\n",
       "      <td>25-40</td>\n",
       "      <td>Española</td>\n",
       "      <td>-2</td>\n",
       "      <td>Sin Valor</td>\n",
       "      <td>0</td>\n",
       "    </tr>\n",
       "    <tr>\n",
       "      <th>16199</th>\n",
       "      <td>Hospital de TORREJON</td>\n",
       "      <td>Empleado</td>\n",
       "      <td>2019</td>\n",
       "      <td>201907</td>\n",
       "      <td>1003914</td>\n",
       "      <td>Mujer</td>\n",
       "      <td>2</td>\n",
       "      <td>100</td>\n",
       "      <td>ORDINARIO INDEFINIDO TP COMPLETO</td>\n",
       "      <td>12/09/2011</td>\n",
       "      <td>...</td>\n",
       "      <td>Atención Especializada</td>\n",
       "      <td>HospitalA</td>\n",
       "      <td>Estructura</td>\n",
       "      <td>06/04/1978</td>\n",
       "      <td>45</td>\n",
       "      <td>41-50</td>\n",
       "      <td>Española</td>\n",
       "      <td>-2</td>\n",
       "      <td>Sin Valor</td>\n",
       "      <td>0</td>\n",
       "    </tr>\n",
       "    <tr>\n",
       "      <th>16224</th>\n",
       "      <td>Hospital de TORREJON</td>\n",
       "      <td>Empleado</td>\n",
       "      <td>2019</td>\n",
       "      <td>201907</td>\n",
       "      <td>1004038</td>\n",
       "      <td>Mujer</td>\n",
       "      <td>3</td>\n",
       "      <td>100</td>\n",
       "      <td>ORDINARIO INDEFINIDO TP COMPLETO</td>\n",
       "      <td>21/07/2018</td>\n",
       "      <td>...</td>\n",
       "      <td>Atención Especializada</td>\n",
       "      <td>HospitalA</td>\n",
       "      <td>Estructura</td>\n",
       "      <td>28/03/1972</td>\n",
       "      <td>51</td>\n",
       "      <td>Más de 50</td>\n",
       "      <td>Española</td>\n",
       "      <td>-2</td>\n",
       "      <td>Sin Valor</td>\n",
       "      <td>0</td>\n",
       "    </tr>\n",
       "    <tr>\n",
       "      <th>16346</th>\n",
       "      <td>Hospital de TORREJON</td>\n",
       "      <td>Empleado</td>\n",
       "      <td>2019</td>\n",
       "      <td>201907</td>\n",
       "      <td>1004433</td>\n",
       "      <td>Mujer</td>\n",
       "      <td>3</td>\n",
       "      <td>100</td>\n",
       "      <td>ORDINARIO INDEFINIDO TP COMPLETO</td>\n",
       "      <td>13/05/2019</td>\n",
       "      <td>...</td>\n",
       "      <td>Atención Especializada</td>\n",
       "      <td>HospitalA</td>\n",
       "      <td>Estructura</td>\n",
       "      <td>10/06/1985</td>\n",
       "      <td>38</td>\n",
       "      <td>25-40</td>\n",
       "      <td>Española</td>\n",
       "      <td>-2</td>\n",
       "      <td>Sin Valor</td>\n",
       "      <td>0</td>\n",
       "    </tr>\n",
       "    <tr>\n",
       "      <th>16348</th>\n",
       "      <td>Hospital de TORREJON</td>\n",
       "      <td>Empleado</td>\n",
       "      <td>2019</td>\n",
       "      <td>201907</td>\n",
       "      <td>1004441</td>\n",
       "      <td>Mujer</td>\n",
       "      <td>2</td>\n",
       "      <td>100</td>\n",
       "      <td>ORDINARIO INDEFINIDO TP COMPLETO</td>\n",
       "      <td>15/01/2019</td>\n",
       "      <td>...</td>\n",
       "      <td>Atención Especializada</td>\n",
       "      <td>HospitalA</td>\n",
       "      <td>Estructura</td>\n",
       "      <td>24/10/1985</td>\n",
       "      <td>38</td>\n",
       "      <td>25-40</td>\n",
       "      <td>Española</td>\n",
       "      <td>-2</td>\n",
       "      <td>Sin Valor</td>\n",
       "      <td>0</td>\n",
       "    </tr>\n",
       "    <tr>\n",
       "      <th>...</th>\n",
       "      <td>...</td>\n",
       "      <td>...</td>\n",
       "      <td>...</td>\n",
       "      <td>...</td>\n",
       "      <td>...</td>\n",
       "      <td>...</td>\n",
       "      <td>...</td>\n",
       "      <td>...</td>\n",
       "      <td>...</td>\n",
       "      <td>...</td>\n",
       "      <td>...</td>\n",
       "      <td>...</td>\n",
       "      <td>...</td>\n",
       "      <td>...</td>\n",
       "      <td>...</td>\n",
       "      <td>...</td>\n",
       "      <td>...</td>\n",
       "      <td>...</td>\n",
       "      <td>...</td>\n",
       "      <td>...</td>\n",
       "      <td>...</td>\n",
       "    </tr>\n",
       "    <tr>\n",
       "      <th>60505</th>\n",
       "      <td>Hospital de TORREJON</td>\n",
       "      <td>Empleado</td>\n",
       "      <td>2022</td>\n",
       "      <td>202207</td>\n",
       "      <td>1015544</td>\n",
       "      <td>Mujer</td>\n",
       "      <td>1</td>\n",
       "      <td>189</td>\n",
       "      <td>INDEFINIDO TP COMPL TRANSF DE TEMPO</td>\n",
       "      <td>20/06/2018</td>\n",
       "      <td>...</td>\n",
       "      <td>Atención Especializada</td>\n",
       "      <td>HospitalA</td>\n",
       "      <td>Estructura</td>\n",
       "      <td>06/11/1984</td>\n",
       "      <td>39</td>\n",
       "      <td>25-40</td>\n",
       "      <td>Española</td>\n",
       "      <td>-2</td>\n",
       "      <td>Sin Valor</td>\n",
       "      <td>0</td>\n",
       "    </tr>\n",
       "    <tr>\n",
       "      <th>60509</th>\n",
       "      <td>Hospital de TORREJON</td>\n",
       "      <td>Empleado</td>\n",
       "      <td>2022</td>\n",
       "      <td>202207</td>\n",
       "      <td>1015549</td>\n",
       "      <td>Mujer</td>\n",
       "      <td>2</td>\n",
       "      <td>189</td>\n",
       "      <td>INDEFINIDO TP COMPL TRANSF DE TEMPO</td>\n",
       "      <td>29/10/2020</td>\n",
       "      <td>...</td>\n",
       "      <td>Atención Especializada</td>\n",
       "      <td>HospitalA</td>\n",
       "      <td>Estructura</td>\n",
       "      <td>04/09/1982</td>\n",
       "      <td>41</td>\n",
       "      <td>41-50</td>\n",
       "      <td>Dominicano</td>\n",
       "      <td>-2</td>\n",
       "      <td>Sin Valor</td>\n",
       "      <td>0</td>\n",
       "    </tr>\n",
       "    <tr>\n",
       "      <th>60602</th>\n",
       "      <td>Hospital de TORREJON</td>\n",
       "      <td>Empleado</td>\n",
       "      <td>2022</td>\n",
       "      <td>202207</td>\n",
       "      <td>1015758</td>\n",
       "      <td>Mujer</td>\n",
       "      <td>1</td>\n",
       "      <td>189</td>\n",
       "      <td>INDEFINIDO TP COMPL TRANSF DE TEMPO</td>\n",
       "      <td>01/04/2019</td>\n",
       "      <td>...</td>\n",
       "      <td>Atención Especializada</td>\n",
       "      <td>HospitalA</td>\n",
       "      <td>Estructura</td>\n",
       "      <td>09/10/1986</td>\n",
       "      <td>37</td>\n",
       "      <td>25-40</td>\n",
       "      <td>Española</td>\n",
       "      <td>-2</td>\n",
       "      <td>Sin Valor</td>\n",
       "      <td>0</td>\n",
       "    </tr>\n",
       "    <tr>\n",
       "      <th>60668</th>\n",
       "      <td>Hospital de TORREJON</td>\n",
       "      <td>Empleado</td>\n",
       "      <td>2022</td>\n",
       "      <td>202207</td>\n",
       "      <td>1016618</td>\n",
       "      <td>Mujer</td>\n",
       "      <td>1</td>\n",
       "      <td>189</td>\n",
       "      <td>INDEFINIDO TP COMPL TRANSF DE TEMPO</td>\n",
       "      <td>23/09/2019</td>\n",
       "      <td>...</td>\n",
       "      <td>Atención Especializada</td>\n",
       "      <td>HospitalA</td>\n",
       "      <td>Estructura</td>\n",
       "      <td>15/09/1990</td>\n",
       "      <td>33</td>\n",
       "      <td>25-40</td>\n",
       "      <td>Española</td>\n",
       "      <td>-2</td>\n",
       "      <td>Sin Valor</td>\n",
       "      <td>0</td>\n",
       "    </tr>\n",
       "    <tr>\n",
       "      <th>60699</th>\n",
       "      <td>Hospital de TORREJON</td>\n",
       "      <td>Empleado</td>\n",
       "      <td>2022</td>\n",
       "      <td>202207</td>\n",
       "      <td>1017001</td>\n",
       "      <td>Mujer</td>\n",
       "      <td>1</td>\n",
       "      <td>189</td>\n",
       "      <td>INDEFINIDO TP COMPL TRANSF DE TEMPO</td>\n",
       "      <td>03/03/2020</td>\n",
       "      <td>...</td>\n",
       "      <td>Atención Especializada</td>\n",
       "      <td>HospitalA</td>\n",
       "      <td>Estructura</td>\n",
       "      <td>08/04/1992</td>\n",
       "      <td>31</td>\n",
       "      <td>25-40</td>\n",
       "      <td>Española</td>\n",
       "      <td>-2</td>\n",
       "      <td>Sin Valor</td>\n",
       "      <td>0</td>\n",
       "    </tr>\n",
       "  </tbody>\n",
       "</table>\n",
       "<p>970 rows × 26 columns</p>\n",
       "</div>"
      ],
      "text/plain": [
       "         NM_ORGANIZATIONESP STD_N_HR_TYPEESP  Anyo  AnyoMes  STD_ID_PERSON  \\\n",
       "15449  Hospital de TORREJON         Empleado  2019   201906        1007232   \n",
       "16199  Hospital de TORREJON         Empleado  2019   201907        1003914   \n",
       "16224  Hospital de TORREJON         Empleado  2019   201907        1004038   \n",
       "16346  Hospital de TORREJON         Empleado  2019   201907        1004433   \n",
       "16348  Hospital de TORREJON         Empleado  2019   201907        1004441   \n",
       "...                     ...              ...   ...      ...            ...   \n",
       "60505  Hospital de TORREJON         Empleado  2022   202207        1015544   \n",
       "60509  Hospital de TORREJON         Empleado  2022   202207        1015549   \n",
       "60602  Hospital de TORREJON         Empleado  2022   202207        1015758   \n",
       "60668  Hospital de TORREJON         Empleado  2022   202207        1016618   \n",
       "60699  Hospital de TORREJON         Empleado  2022   202207        1017001   \n",
       "\n",
       "      STD_N_GENDERESP  Num_Periodo SSP_ID_CONT_INTERN  \\\n",
       "15449           Mujer            2                189   \n",
       "16199           Mujer            2                100   \n",
       "16224           Mujer            3                100   \n",
       "16346           Mujer            3                100   \n",
       "16348           Mujer            2                100   \n",
       "...               ...          ...                ...   \n",
       "60505           Mujer            1                189   \n",
       "60509           Mujer            2                189   \n",
       "60602           Mujer            1                189   \n",
       "60668           Mujer            1                189   \n",
       "60699           Mujer            1                189   \n",
       "\n",
       "                         SSP_NM_CONT_INESP Fecha Inicio  ...  \\\n",
       "15449  INDEFINIDO TP COMPL TRANSF DE TEMPO   03/10/2014  ...   \n",
       "16199     ORDINARIO INDEFINIDO TP COMPLETO   12/09/2011  ...   \n",
       "16224     ORDINARIO INDEFINIDO TP COMPLETO   21/07/2018  ...   \n",
       "16346     ORDINARIO INDEFINIDO TP COMPLETO   13/05/2019  ...   \n",
       "16348     ORDINARIO INDEFINIDO TP COMPLETO   15/01/2019  ...   \n",
       "...                                    ...          ...  ...   \n",
       "60505  INDEFINIDO TP COMPL TRANSF DE TEMPO   20/06/2018  ...   \n",
       "60509  INDEFINIDO TP COMPL TRANSF DE TEMPO   29/10/2020  ...   \n",
       "60602  INDEFINIDO TP COMPL TRANSF DE TEMPO   01/04/2019  ...   \n",
       "60668  INDEFINIDO TP COMPL TRANSF DE TEMPO   23/09/2019  ...   \n",
       "60699  INDEFINIDO TP COMPL TRANSF DE TEMPO   03/03/2020  ...   \n",
       "\n",
       "             STD_N_WL_TYPEESP STD_WORK_LOCESP CSP_N_COLECTIVO STD_DT_BIRTH  \\\n",
       "15449  Atención Especializada       HospitalA      Estructura   16/08/1989   \n",
       "16199  Atención Especializada       HospitalA      Estructura   06/04/1978   \n",
       "16224  Atención Especializada       HospitalA      Estructura   28/03/1972   \n",
       "16346  Atención Especializada       HospitalA      Estructura   10/06/1985   \n",
       "16348  Atención Especializada       HospitalA      Estructura   24/10/1985   \n",
       "...                       ...             ...             ...          ...   \n",
       "60505  Atención Especializada       HospitalA      Estructura   06/11/1984   \n",
       "60509  Atención Especializada       HospitalA      Estructura   04/09/1982   \n",
       "60602  Atención Especializada       HospitalA      Estructura   09/10/1986   \n",
       "60668  Atención Especializada       HospitalA      Estructura   15/09/1990   \n",
       "60699  Atención Especializada       HospitalA      Estructura   08/04/1992   \n",
       "\n",
       "      Edad  RangoEdad Nacionalidad SSP_ID_MINUSVALIA  \\\n",
       "15449   34      25-40     Española                -2   \n",
       "16199   45      41-50     Española                -2   \n",
       "16224   51  Más de 50     Española                -2   \n",
       "16346   38      25-40     Española                -2   \n",
       "16348   38      25-40     Española                -2   \n",
       "...    ...        ...          ...               ...   \n",
       "60505   39      25-40     Española                -2   \n",
       "60509   41      41-50   Dominicano                -2   \n",
       "60602   37      25-40     Española                -2   \n",
       "60668   33      25-40     Española                -2   \n",
       "60699   31      25-40     Española                -2   \n",
       "\n",
       "      Nombre de la minusvalia : Span Activos  \n",
       "15449                      Sin Valor       0  \n",
       "16199                      Sin Valor       0  \n",
       "16224                      Sin Valor       0  \n",
       "16346                      Sin Valor       0  \n",
       "16348                      Sin Valor       0  \n",
       "...                              ...     ...  \n",
       "60505                      Sin Valor       0  \n",
       "60509                      Sin Valor       0  \n",
       "60602                      Sin Valor       0  \n",
       "60668                      Sin Valor       0  \n",
       "60699                      Sin Valor       0  \n",
       "\n",
       "[970 rows x 26 columns]"
      ]
     },
     "execution_count": 82,
     "metadata": {},
     "output_type": "execute_result"
    }
   ],
   "source": [
    "ds2"
   ]
  },
  {
   "cell_type": "markdown",
   "metadata": {
    "id": "cD3ifBtu5QXN"
   },
   "source": [
    "## SSP_NO_DEFINIDO"
   ]
  },
  {
   "cell_type": "code",
   "execution_count": 84,
   "metadata": {
    "colab": {
     "base_uri": "https://localhost:8080/"
    },
    "id": "sfyK16KGx-05",
    "outputId": "9a0f671a-22f9-42a1-8d20-c5c378e202fd"
   },
   "outputs": [
    {
     "data": {
      "text/plain": [
       "Text(0, 0.5, 'Percentage')"
      ]
     },
     "execution_count": 84,
     "metadata": {},
     "output_type": "execute_result"
    },
    {
     "data": {
      "image/png": "[encoded data removed]",
      "text/plain": [
       "<Figure size 432x288 with 1 Axes>"
      ]
     },
     "metadata": {
      "needs_background": "light"
     },
     "output_type": "display_data"
    }
   ],
   "source": [
    "#Variable Nominal: SSP_NO_DEFINIDO\n",
    "mytable = ds2.groupby(['SSP_NO_DEFINIDO']).size()\n",
    "n = mytable.sum()\n",
    "mytable = (mytable/n)*100\n",
    "barlist = ['Temporal', 'Indefinido']\n",
    "plt.bar(barlist, mytable)\n",
    "plt.ylabel('Percentage')"
   ]
  },
  {
   "cell_type": "code",
   "execution_count": 85,
   "metadata": {
    "colab": {
     "base_uri": "https://localhost:8080/"
    },
    "id": "sgDQyOHgytu_",
    "outputId": "2bdb3bf9-986c-44a7-a059-7488938aec68"
   },
   "outputs": [
    {
     "name": "stdout",
     "output_type": "stream",
     "text": [
      "SSP_NO_DEFINIDO      N      S    All\n",
      "Activos                             \n",
      "0                100.0  100.0  100.0\n"
     ]
    }
   ],
   "source": [
    "pd.crosstab(ds.Activos, ds2.SSP_NO_DEFINIDO, margins=True) #1º la VD  target, 2º La predicción\n",
    "\n",
    "pd.crosstab(ds.Activos, ds2.SSP_NO_DEFINIDO,normalize='columns', margins=True)*100    #Para que nos de en porcentajes\n",
    "\n",
    "my_ct = pd.crosstab(ds2.Activos, ds2.SSP_NO_DEFINIDO,normalize='columns', margins=True)*100  \n",
    "\n",
    "my_ct=round(my_ct,1)\n",
    "\n",
    "print(my_ct)"
   ]
  },
  {
   "cell_type": "code",
   "execution_count": 86,
   "metadata": {
    "colab": {
     "base_uri": "https://localhost:8080/"
    },
    "id": "8jqyca9qyvbA",
    "outputId": "9589d133-6ea7-46e7-9076-735484ddd013"
   },
   "outputs": [
    {
     "data": {
      "text/plain": [
       "(270.2271557599875,\n",
       " 1.0125155947699297e-60,\n",
       " 1,\n",
       " array([[  226.30793401,   743.69206599],\n",
       "        [14029.69206599, 46104.30793401]]))"
      ]
     },
     "execution_count": 86,
     "metadata": {},
     "output_type": "execute_result"
    }
   ],
   "source": [
    "#Stadistical test\n",
    "ct = pd.crosstab(ds.Activos, ds.SSP_NO_DEFINIDO)\n",
    "ct\n",
    "\n",
    "stats.chi2_contingency(ct)"
   ]
  },
  {
   "cell_type": "markdown",
   "metadata": {
    "id": "XxO26xiyy2Wp"
   },
   "source": [
    "pvalue = 0.000"
   ]
  },
  {
   "cell_type": "code",
   "execution_count": 87,
   "metadata": {
    "colab": {
     "base_uri": "https://localhost:8080/"
    },
    "id": "TNdr1Qo72JhH",
    "outputId": "8243af12-ba01-4bc5-c658-ace01e1b567e"
   },
   "outputs": [
    {
     "data": {
      "text/plain": [
       "<AxesSubplot:>"
      ]
     },
     "execution_count": 87,
     "metadata": {},
     "output_type": "execute_result"
    },
    {
     "data": {
      "image/png": "[encoded data removed]",
      "text/plain": [
       "<Figure size 432x288 with 1 Axes>"
      ]
     },
     "metadata": {
      "needs_background": "light"
     },
     "output_type": "display_data"
    }
   ],
   "source": [
    "#histograma\n",
    "plt.hist(ds2.SSP_NO_DEFINIDO)\n",
    "ds2.SSP_NO_DEFINIDO.hist() "
   ]
  },
  {
   "cell_type": "markdown",
   "metadata": {
    "id": "kE-5GLnw910W"
   },
   "source": [
    "## CSP_N_AG_CATEGOR"
   ]
  },
  {
   "cell_type": "code",
   "execution_count": 88,
   "metadata": {
    "colab": {
     "base_uri": "https://localhost:8080/"
    },
    "id": "8cQsqkCl93Og",
    "outputId": "96f6bc34-1a8a-4add-b261-3f2b120d13d0"
   },
   "outputs": [
    {
     "data": {
      "text/plain": [
       "<AxesSubplot:>"
      ]
     },
     "execution_count": 88,
     "metadata": {},
     "output_type": "execute_result"
    },
    {
     "data": {
      "image/png": "[encoded data removed]",
      "text/plain": [
       "<Figure size 432x288 with 1 Axes>"
      ]
     },
     "metadata": {
      "needs_background": "light"
     },
     "output_type": "display_data"
    }
   ],
   "source": [
    "#histograma\n",
    "plt.hist(ds2.CSP_N_AG_CATEGOR)\n",
    "ds2.CSP_N_AG_CATEGOR.hist() "
   ]
  },
  {
   "cell_type": "code",
   "execution_count": 89,
   "metadata": {
    "colab": {
     "base_uri": "https://localhost:8080/"
    },
    "id": "4RbTZ23Y97de",
    "outputId": "218dc30d-ff88-4c7b-b515-d2aad9a5655a"
   },
   "outputs": [
    {
     "data": {
      "text/plain": [
       "Text(0, 0.5, 'Percentage')"
      ]
     },
     "execution_count": 89,
     "metadata": {},
     "output_type": "execute_result"
    },
    {
     "data": {
      "image/png": "[encoded data removed]",
      "text/plain": [
       "<Figure size 432x288 with 1 Axes>"
      ]
     },
     "metadata": {
      "needs_background": "light"
     },
     "output_type": "display_data"
    }
   ],
   "source": [
    "## Variable Nominal: CSP_N_AG_CATEGOR\n",
    "\n",
    "\n",
    "mytable = ds2.groupby(['CSP_N_AG_CATEGOR']).size()\n",
    "n = mytable.sum()\n",
    "mytable = (mytable/n)*100\n",
    "barlist = ['ANL', 'AL', 'NA']\n",
    "plt.bar(barlist, mytable)\n",
    "plt.ylabel('Percentage')"
   ]
  }
 ],
 "metadata": {
  "colab": {
   "collapsed_sections": [
    "fwJyCZEeE3It",
    "x1hiPKL-IqcV",
    "xxTkS4AeJR00",
    "DPNxGDwyJ0uH",
    "uIpjHOdjM6D0",
    "sHgmMjPbP3Ve",
    "AVuoaFUhQTIK",
    "cD3ifBtu5QXN"
   ],
   "provenance": []
  },
  "kernelspec": {
   "display_name": "Python 3",
   "language": "python",
   "name": "python3"
  },
  "language_info": {
   "codemirror_mode": {
    "name": "ipython",
    "version": 3
   },
   "file_extension": ".py",
   "mimetype": "text/x-python",
   "name": "python",
   "nbconvert_exporter": "python",
   "pygments_lexer": "ipython3",
   "version": "3.8.8"
  }
 },
 "nbformat": 4,
 "nbformat_minor": 1
}
