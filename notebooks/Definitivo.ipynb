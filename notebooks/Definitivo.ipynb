{
 "cells": [
  {
   "cell_type": "markdown",
   "id": "b17b73f6",
   "metadata": {},
   "source": [
    "# Importing the Dependencies"
   ]
  },
  {
   "cell_type": "code",
   "execution_count": 1,
   "id": "187cb94e",
   "metadata": {},
   "outputs": [],
   "source": [
    "import pandas as pd                 # For dataframe handling\n",
    "import numpy as np                  # For matrix and list computations\n",
    "import matplotlib.pyplot as plt     # For advanced graphse"
   ]
  },
  {
   "cell_type": "markdown",
   "id": "0df1b96c",
   "metadata": {},
   "source": [
    "# Data Collection and Processing"
   ]
  },
  {
   "cell_type": "code",
   "execution_count": null,
   "id": "22eb272c",
   "metadata": {},
   "outputs": [],
   "source": []
  }
 ],
 "metadata": {
  "kernelspec": {
   "display_name": "Python 3",
   "language": "python",
   "name": "python3"
  },
  "language_info": {
   "codemirror_mode": {
    "name": "ipython",
    "version": 3
   },
   "file_extension": ".py",
   "mimetype": "text/x-python",
   "name": "python",
   "nbconvert_exporter": "python",
   "pygments_lexer": "ipython3",
   "version": "3.8.8"
  }
 },
 "nbformat": 4,
 "nbformat_minor": 5
}
