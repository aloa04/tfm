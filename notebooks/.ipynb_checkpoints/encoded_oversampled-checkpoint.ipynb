{
 "cells": [
  {
   "cell_type": "markdown",
   "metadata": {
    "id": "3Itwi8HW-9P6"
   },
   "source": [
    "# Importing the Dependencies"
   ]
  },
  {
   "cell_type": "code",
   "execution_count": 1,
   "metadata": {
    "id": "UH1Bgx49msIs"
   },
   "outputs": [],
   "source": [
    "import numpy as np\n",
    "import pandas as pd\n",
    "import seaborn as sns\n",
    "from sklearn.model_selection import train_test_split\n",
    "from sklearn import svm\n",
    "from sklearn.metrics import accuracy_score"
   ]
  },
  {
   "cell_type": "markdown",
   "metadata": {
    "id": "6Gvrw17q_zY5"
   },
   "source": [
    "# Data Collection and Processing"
   ]
  },
  {
   "cell_type": "code",
   "execution_count": 2,
   "metadata": {
    "id": "pdl2oWTy_xs4"
   },
   "outputs": [],
   "source": [
    "# loading the dataset to pandas DataFrame\n",
    "url = 'https://raw.githubusercontent.com/aloa04/tfm/main/data/dslf.csv'\n",
    "df = pd.read_csv(url)"
   ]
  },
  {
   "cell_type": "code",
   "execution_count": 3,
   "metadata": {
    "colab": {
     "base_uri": "https://localhost:8080/"
    },
    "id": "cbN5oo6gASZE",
    "outputId": "bf8f1089-8261-4b46-b479-2b789348ead3"
   },
   "outputs": [
    {
     "data": {
      "text/plain": [
       "pandas.core.frame.DataFrame"
      ]
     },
     "execution_count": 3,
     "metadata": {},
     "output_type": "execute_result"
    }
   ],
   "source": [
    "type(df)"
   ]
  },
  {
   "cell_type": "code",
   "execution_count": 4,
   "metadata": {
    "colab": {
     "base_uri": "https://localhost:8080/",
     "height": 508
    },
    "id": "7rif01IcAVhj",
    "outputId": "f2fc8a32-23d0-4af6-e26e-bd7f1b6b6651"
   },
   "outputs": [
    {
     "data": {
      "text/html": [
       "\n",
       "  <div id=\"df-dcbd6392-5065-4e0c-b292-cc6423c9e757\">\n",
       "    <div class=\"colab-df-container\">\n",
       "      <div>\n",
       "<style scoped>\n",
       "    .dataframe tbody tr th:only-of-type {\n",
       "        vertical-align: middle;\n",
       "    }\n",
       "\n",
       "    .dataframe tbody tr th {\n",
       "        vertical-align: top;\n",
       "    }\n",
       "\n",
       "    .dataframe thead th {\n",
       "        text-align: right;\n",
       "    }\n",
       "</style>\n",
       "<table border=\"1\" class=\"dataframe\">\n",
       "  <thead>\n",
       "    <tr style=\"text-align: right;\">\n",
       "      <th></th>\n",
       "      <th>NM_ORGANIZATIONESP</th>\n",
       "      <th>STD_N_HR_TYPEESP</th>\n",
       "      <th>STD_ID_PERSON</th>\n",
       "      <th>STD_N_GENDERESP</th>\n",
       "      <th>Num_Periodo</th>\n",
       "      <th>SSP_ID_CONT_INTERN</th>\n",
       "      <th>SSP_NM_CONT_INESP</th>\n",
       "      <th>Fecha Inicio</th>\n",
       "      <th>Fecha_Inicio_contra</th>\n",
       "      <th>Fecha_Fin_contra</th>\n",
       "      <th>...</th>\n",
       "      <th>STD_N_WL_TYPEESP</th>\n",
       "      <th>STD_WORK_LOCESP</th>\n",
       "      <th>CSP_N_COLECTIVO</th>\n",
       "      <th>STD_DT_BIRTH</th>\n",
       "      <th>Edad</th>\n",
       "      <th>RangoEdad</th>\n",
       "      <th>Nacionalidad</th>\n",
       "      <th>SSP_ID_MINUSVALIA</th>\n",
       "      <th>Nombre de la minusvalia : Span</th>\n",
       "      <th>Activos</th>\n",
       "    </tr>\n",
       "  </thead>\n",
       "  <tbody>\n",
       "    <tr>\n",
       "      <th>0</th>\n",
       "      <td>Hospital de TORREJON</td>\n",
       "      <td>Empleado</td>\n",
       "      <td>1000016</td>\n",
       "      <td>Mujer</td>\n",
       "      <td>2</td>\n",
       "      <td>200</td>\n",
       "      <td>ORDINARIO A TIEMPO PARCIAL INDEFINI</td>\n",
       "      <td>01/07/2019</td>\n",
       "      <td>01/07/2019</td>\n",
       "      <td>31/10/2021</td>\n",
       "      <td>...</td>\n",
       "      <td>Atencion Especializada</td>\n",
       "      <td>HospitalA</td>\n",
       "      <td>Estructura</td>\n",
       "      <td>01/10/1984</td>\n",
       "      <td>39</td>\n",
       "      <td>25-40</td>\n",
       "      <td>Española</td>\n",
       "      <td>-2</td>\n",
       "      <td>Sin Valor</td>\n",
       "      <td>1</td>\n",
       "    </tr>\n",
       "    <tr>\n",
       "      <th>1</th>\n",
       "      <td>Hospital de TORREJON</td>\n",
       "      <td>Empleado</td>\n",
       "      <td>1000026</td>\n",
       "      <td>Mujer</td>\n",
       "      <td>1</td>\n",
       "      <td>100</td>\n",
       "      <td>ORDINARIO INDEFINIDO TP COMPLETO</td>\n",
       "      <td>01/01/2019</td>\n",
       "      <td>01/01/2019</td>\n",
       "      <td>01/01/4000</td>\n",
       "      <td>...</td>\n",
       "      <td>Atencion Especializada</td>\n",
       "      <td>HospitalA</td>\n",
       "      <td>Estructura</td>\n",
       "      <td>22/11/1982</td>\n",
       "      <td>41</td>\n",
       "      <td>41-50</td>\n",
       "      <td>Española</td>\n",
       "      <td>-2</td>\n",
       "      <td>Sin Valor</td>\n",
       "      <td>1</td>\n",
       "    </tr>\n",
       "    <tr>\n",
       "      <th>2</th>\n",
       "      <td>Hospital de TORREJON</td>\n",
       "      <td>Empleado</td>\n",
       "      <td>1000107</td>\n",
       "      <td>Varon</td>\n",
       "      <td>2</td>\n",
       "      <td>100</td>\n",
       "      <td>ORDINARIO INDEFINIDO TP COMPLETO</td>\n",
       "      <td>01/01/2019</td>\n",
       "      <td>01/01/2019</td>\n",
       "      <td>01/01/4000</td>\n",
       "      <td>...</td>\n",
       "      <td>Atencion Especializada</td>\n",
       "      <td>HospitalA</td>\n",
       "      <td>Estructura</td>\n",
       "      <td>04/12/1972</td>\n",
       "      <td>51</td>\n",
       "      <td>Mas de 50</td>\n",
       "      <td>Española</td>\n",
       "      <td>-2</td>\n",
       "      <td>Sin Valor</td>\n",
       "      <td>1</td>\n",
       "    </tr>\n",
       "    <tr>\n",
       "      <th>3</th>\n",
       "      <td>Hospital de TORREJON</td>\n",
       "      <td>Empleado</td>\n",
       "      <td>1000125</td>\n",
       "      <td>Mujer</td>\n",
       "      <td>1</td>\n",
       "      <td>100</td>\n",
       "      <td>ORDINARIO INDEFINIDO TP COMPLETO</td>\n",
       "      <td>01/02/2020</td>\n",
       "      <td>01/02/2020</td>\n",
       "      <td>11/08/2020</td>\n",
       "      <td>...</td>\n",
       "      <td>Atencion Especializada</td>\n",
       "      <td>HospitalA</td>\n",
       "      <td>Estructura</td>\n",
       "      <td>29/01/1985</td>\n",
       "      <td>38</td>\n",
       "      <td>25-40</td>\n",
       "      <td>Española</td>\n",
       "      <td>-2</td>\n",
       "      <td>Sin Valor</td>\n",
       "      <td>1</td>\n",
       "    </tr>\n",
       "    <tr>\n",
       "      <th>4</th>\n",
       "      <td>Hospital de TORREJON</td>\n",
       "      <td>Empleado</td>\n",
       "      <td>1000146</td>\n",
       "      <td>Mujer</td>\n",
       "      <td>1</td>\n",
       "      <td>402R</td>\n",
       "      <td>EVENTUAL (REFUERZO)</td>\n",
       "      <td>03/03/2020</td>\n",
       "      <td>03/03/2020</td>\n",
       "      <td>04/03/2020</td>\n",
       "      <td>...</td>\n",
       "      <td>Atencion Especializada</td>\n",
       "      <td>HospitalA</td>\n",
       "      <td>Refuerzos</td>\n",
       "      <td>26/06/1974</td>\n",
       "      <td>49</td>\n",
       "      <td>41-50</td>\n",
       "      <td>Española</td>\n",
       "      <td>-2</td>\n",
       "      <td>Sin Valor</td>\n",
       "      <td>1</td>\n",
       "    </tr>\n",
       "  </tbody>\n",
       "</table>\n",
       "<p>5 rows × 24 columns</p>\n",
       "</div>\n",
       "      <button class=\"colab-df-convert\" onclick=\"convertToInteractive('df-dcbd6392-5065-4e0c-b292-cc6423c9e757')\"\n",
       "              title=\"Convert this dataframe to an interactive table.\"\n",
       "              style=\"display:none;\">\n",
       "        \n",
       "  <svg xmlns=\"http://www.w3.org/2000/svg\" height=\"24px\"viewBox=\"0 0 24 24\"\n",
       "       width=\"24px\">\n",
       "    <path d=\"M0 0h24v24H0V0z\" fill=\"none\"/>\n",
       "    <path d=\"M18.56 5.44l.94 2.06.94-2.06 2.06-.94-2.06-.94-.94-2.06-.94 2.06-2.06.94zm-11 1L8.5 8.5l.94-2.06 2.06-.94-2.06-.94L8.5 2.5l-.94 2.06-2.06.94zm10 10l.94 2.06.94-2.06 2.06-.94-2.06-.94-.94-2.06-.94 2.06-2.06.94z\"/><path d=\"M17.41 7.96l-1.37-1.37c-.4-.4-.92-.59-1.43-.59-.52 0-1.04.2-1.43.59L10.3 9.45l-7.72 7.72c-.78.78-.78 2.05 0 2.83L4 21.41c.39.39.9.59 1.41.59.51 0 1.02-.2 1.41-.59l7.78-7.78 2.81-2.81c.8-.78.8-2.07 0-2.86zM5.41 20L4 18.59l7.72-7.72 1.47 1.35L5.41 20z\"/>\n",
       "  </svg>\n",
       "      </button>\n",
       "      \n",
       "  <style>\n",
       "    .colab-df-container {\n",
       "      display:flex;\n",
       "      flex-wrap:wrap;\n",
       "      gap: 12px;\n",
       "    }\n",
       "\n",
       "    .colab-df-convert {\n",
       "      background-color: #E8F0FE;\n",
       "      border: none;\n",
       "      border-radius: 50%;\n",
       "      cursor: pointer;\n",
       "      display: none;\n",
       "      fill: #1967D2;\n",
       "      height: 32px;\n",
       "      padding: 0 0 0 0;\n",
       "      width: 32px;\n",
       "    }\n",
       "\n",
       "    .colab-df-convert:hover {\n",
       "      background-color: #E2EBFA;\n",
       "      box-shadow: 0px 1px 2px rgba(60, 64, 67, 0.3), 0px 1px 3px 1px rgba(60, 64, 67, 0.15);\n",
       "      fill: #174EA6;\n",
       "    }\n",
       "\n",
       "    [theme=dark] .colab-df-convert {\n",
       "      background-color: #3B4455;\n",
       "      fill: #D2E3FC;\n",
       "    }\n",
       "\n",
       "    [theme=dark] .colab-df-convert:hover {\n",
       "      background-color: #434B5C;\n",
       "      box-shadow: 0px 1px 3px 1px rgba(0, 0, 0, 0.15);\n",
       "      filter: drop-shadow(0px 1px 2px rgba(0, 0, 0, 0.3));\n",
       "      fill: #FFFFFF;\n",
       "    }\n",
       "  </style>\n",
       "\n",
       "      <script>\n",
       "        const buttonEl =\n",
       "          document.querySelector('#df-dcbd6392-5065-4e0c-b292-cc6423c9e757 button.colab-df-convert');\n",
       "        buttonEl.style.display =\n",
       "          google.colab.kernel.accessAllowed ? 'block' : 'none';\n",
       "\n",
       "        async function convertToInteractive(key) {\n",
       "          const element = document.querySelector('#df-dcbd6392-5065-4e0c-b292-cc6423c9e757');\n",
       "          const dataTable =\n",
       "            await google.colab.kernel.invokeFunction('convertToInteractive',\n",
       "                                                     [key], {});\n",
       "          if (!dataTable) return;\n",
       "\n",
       "          const docLinkHtml = 'Like what you see? Visit the ' +\n",
       "            '<a target=\"_blank\" href=https://colab.research.google.com/notebooks/data_table.ipynb>data table notebook</a>'\n",
       "            + ' to learn more about interactive tables.';\n",
       "          element.innerHTML = '';\n",
       "          dataTable['output_type'] = 'display_data';\n",
       "          await google.colab.output.renderOutput(dataTable, element);\n",
       "          const docLink = document.createElement('div');\n",
       "          docLink.innerHTML = docLinkHtml;\n",
       "          element.appendChild(docLink);\n",
       "        }\n",
       "      </script>\n",
       "    </div>\n",
       "  </div>\n",
       "  "
      ],
      "text/plain": [
       "     NM_ORGANIZATIONESP STD_N_HR_TYPEESP  STD_ID_PERSON STD_N_GENDERESP  \\\n",
       "0  Hospital de TORREJON         Empleado        1000016           Mujer   \n",
       "1  Hospital de TORREJON         Empleado        1000026           Mujer   \n",
       "2  Hospital de TORREJON         Empleado        1000107           Varon   \n",
       "3  Hospital de TORREJON         Empleado        1000125           Mujer   \n",
       "4  Hospital de TORREJON         Empleado        1000146           Mujer   \n",
       "\n",
       "   Num_Periodo SSP_ID_CONT_INTERN                    SSP_NM_CONT_INESP  \\\n",
       "0            2                200  ORDINARIO A TIEMPO PARCIAL INDEFINI   \n",
       "1            1                100     ORDINARIO INDEFINIDO TP COMPLETO   \n",
       "2            2                100     ORDINARIO INDEFINIDO TP COMPLETO   \n",
       "3            1                100     ORDINARIO INDEFINIDO TP COMPLETO   \n",
       "4            1               402R                  EVENTUAL (REFUERZO)   \n",
       "\n",
       "  Fecha Inicio Fecha_Inicio_contra Fecha_Fin_contra  ...  \\\n",
       "0   01/07/2019          01/07/2019       31/10/2021  ...   \n",
       "1   01/01/2019          01/01/2019       01/01/4000  ...   \n",
       "2   01/01/2019          01/01/2019       01/01/4000  ...   \n",
       "3   01/02/2020          01/02/2020       11/08/2020  ...   \n",
       "4   03/03/2020          03/03/2020       04/03/2020  ...   \n",
       "\n",
       "         STD_N_WL_TYPEESP STD_WORK_LOCESP CSP_N_COLECTIVO STD_DT_BIRTH Edad  \\\n",
       "0  Atencion Especializada       HospitalA      Estructura   01/10/1984   39   \n",
       "1  Atencion Especializada       HospitalA      Estructura   22/11/1982   41   \n",
       "2  Atencion Especializada       HospitalA      Estructura   04/12/1972   51   \n",
       "3  Atencion Especializada       HospitalA      Estructura   29/01/1985   38   \n",
       "4  Atencion Especializada       HospitalA       Refuerzos   26/06/1974   49   \n",
       "\n",
       "   RangoEdad Nacionalidad SSP_ID_MINUSVALIA  Nombre de la minusvalia : Span  \\\n",
       "0      25-40     Española                -2                       Sin Valor   \n",
       "1      41-50     Española                -2                       Sin Valor   \n",
       "2  Mas de 50     Española                -2                       Sin Valor   \n",
       "3      25-40     Española                -2                       Sin Valor   \n",
       "4      41-50     Española                -2                       Sin Valor   \n",
       "\n",
       "  Activos  \n",
       "0       1  \n",
       "1       1  \n",
       "2       1  \n",
       "3       1  \n",
       "4       1  \n",
       "\n",
       "[5 rows x 24 columns]"
      ]
     },
     "execution_count": 4,
     "metadata": {},
     "output_type": "execute_result"
    }
   ],
   "source": [
    "# printing the first 5 rows of the dataframe\n",
    "df.head()"
   ]
  },
  {
   "cell_type": "code",
   "execution_count": 5,
   "metadata": {
    "colab": {
     "base_uri": "https://localhost:8080/"
    },
    "id": "y_uYrJ759oPk",
    "outputId": "c65ffa91-522e-4075-9baa-a42f36b46cd9"
   },
   "outputs": [
    {
     "data": {
      "text/plain": [
       "NM_ORGANIZATIONESP                object\n",
       "STD_N_HR_TYPEESP                  object\n",
       "STD_ID_PERSON                      int64\n",
       "STD_N_GENDERESP                   object\n",
       "Num_Periodo                        int64\n",
       "SSP_ID_CONT_INTERN                object\n",
       "SSP_NM_CONT_INESP                 object\n",
       "Fecha Inicio                      object\n",
       "Fecha_Inicio_contra               object\n",
       "Fecha_Fin_contra                  object\n",
       "SSP_NO_DEFINIDO                   object\n",
       "CSP_N_AG_CATEGOR                  object\n",
       "CSP_NM_CATEGORESP                 object\n",
       "STD_N_WU_TYPEESP                  object\n",
       "STD_N_WL_TYPEESP                  object\n",
       "STD_WORK_LOCESP                   object\n",
       "CSP_N_COLECTIVO                   object\n",
       "STD_DT_BIRTH                      object\n",
       "Edad                               int64\n",
       "RangoEdad                         object\n",
       "Nacionalidad                      object\n",
       "SSP_ID_MINUSVALIA                 object\n",
       "Nombre de la minusvalia : Span    object\n",
       "Activos                            int64\n",
       "dtype: object"
      ]
     },
     "execution_count": 5,
     "metadata": {},
     "output_type": "execute_result"
    }
   ],
   "source": [
    "df.dtypes"
   ]
  },
  {
   "cell_type": "code",
   "execution_count": 6,
   "metadata": {
    "id": "ncOA54Y96Sxe"
   },
   "outputs": [],
   "source": [
    "drop=['STD_N_WL_TYPEESP', 'NM_ORGANIZATIONESP', 'STD_N_HR_TYPEESP', 'Fecha Inicio', 'Fecha_Inicio_contra', 'Fecha_Fin_contra', 'STD_DT_BIRTH', 'RangoEdad', 'Nombre de la minusvalia : Span']\n",
    "df=df.drop(drop, axis=1)"
   ]
  },
  {
   "cell_type": "code",
   "execution_count": 7,
   "metadata": {
    "colab": {
     "base_uri": "https://localhost:8080/",
     "height": 461
    },
    "id": "pUrcv_lC6cM4",
    "outputId": "ab1452c1-de98-4411-9c0b-6bad84925540"
   },
   "outputs": [
    {
     "data": {
      "text/html": [
       "\n",
       "  <div id=\"df-ec57b08b-3804-4337-9401-ad7ed3d06a47\">\n",
       "    <div class=\"colab-df-container\">\n",
       "      <div>\n",
       "<style scoped>\n",
       "    .dataframe tbody tr th:only-of-type {\n",
       "        vertical-align: middle;\n",
       "    }\n",
       "\n",
       "    .dataframe tbody tr th {\n",
       "        vertical-align: top;\n",
       "    }\n",
       "\n",
       "    .dataframe thead th {\n",
       "        text-align: right;\n",
       "    }\n",
       "</style>\n",
       "<table border=\"1\" class=\"dataframe\">\n",
       "  <thead>\n",
       "    <tr style=\"text-align: right;\">\n",
       "      <th></th>\n",
       "      <th>STD_ID_PERSON</th>\n",
       "      <th>STD_N_GENDERESP</th>\n",
       "      <th>Num_Periodo</th>\n",
       "      <th>SSP_ID_CONT_INTERN</th>\n",
       "      <th>SSP_NM_CONT_INESP</th>\n",
       "      <th>SSP_NO_DEFINIDO</th>\n",
       "      <th>CSP_N_AG_CATEGOR</th>\n",
       "      <th>CSP_NM_CATEGORESP</th>\n",
       "      <th>STD_N_WU_TYPEESP</th>\n",
       "      <th>STD_WORK_LOCESP</th>\n",
       "      <th>CSP_N_COLECTIVO</th>\n",
       "      <th>Edad</th>\n",
       "      <th>Nacionalidad</th>\n",
       "      <th>SSP_ID_MINUSVALIA</th>\n",
       "      <th>Activos</th>\n",
       "    </tr>\n",
       "  </thead>\n",
       "  <tbody>\n",
       "    <tr>\n",
       "      <th>0</th>\n",
       "      <td>1000016</td>\n",
       "      <td>Mujer</td>\n",
       "      <td>2</td>\n",
       "      <td>200</td>\n",
       "      <td>ORDINARIO A TIEMPO PARCIAL INDEFINI</td>\n",
       "      <td>S</td>\n",
       "      <td>No Asistenciales</td>\n",
       "      <td>Gr 6.A: Tecnicos no Asistenciales</td>\n",
       "      <td>area Comunicacion, Marketing y RSC (Employees)</td>\n",
       "      <td>HospitalA</td>\n",
       "      <td>Estructura</td>\n",
       "      <td>39</td>\n",
       "      <td>Española</td>\n",
       "      <td>-2</td>\n",
       "      <td>1</td>\n",
       "    </tr>\n",
       "    <tr>\n",
       "      <th>1</th>\n",
       "      <td>1000026</td>\n",
       "      <td>Mujer</td>\n",
       "      <td>1</td>\n",
       "      <td>100</td>\n",
       "      <td>ORDINARIO INDEFINIDO TP COMPLETO</td>\n",
       "      <td>S</td>\n",
       "      <td>No Asistenciales</td>\n",
       "      <td>Gr 6.A: Tecnicos no Asistenciales</td>\n",
       "      <td>area Gerencia (Employees)</td>\n",
       "      <td>HospitalA</td>\n",
       "      <td>Estructura</td>\n",
       "      <td>41</td>\n",
       "      <td>Española</td>\n",
       "      <td>-2</td>\n",
       "      <td>1</td>\n",
       "    </tr>\n",
       "    <tr>\n",
       "      <th>2</th>\n",
       "      <td>1000107</td>\n",
       "      <td>Varon</td>\n",
       "      <td>2</td>\n",
       "      <td>100</td>\n",
       "      <td>ORDINARIO INDEFINIDO TP COMPLETO</td>\n",
       "      <td>S</td>\n",
       "      <td>No Asistenciales</td>\n",
       "      <td>Gr 6.A: Tecnicos no Asistenciales</td>\n",
       "      <td>area Economico-Financiera (Employees)</td>\n",
       "      <td>HospitalA</td>\n",
       "      <td>Estructura</td>\n",
       "      <td>51</td>\n",
       "      <td>Española</td>\n",
       "      <td>-2</td>\n",
       "      <td>1</td>\n",
       "    </tr>\n",
       "    <tr>\n",
       "      <th>3</th>\n",
       "      <td>1000125</td>\n",
       "      <td>Mujer</td>\n",
       "      <td>1</td>\n",
       "      <td>100</td>\n",
       "      <td>ORDINARIO INDEFINIDO TP COMPLETO</td>\n",
       "      <td>S</td>\n",
       "      <td>No Asistenciales</td>\n",
       "      <td>Gr 6.B: Tecnicos no Asistenciales</td>\n",
       "      <td>area Sistemas Informacion (Employees)</td>\n",
       "      <td>HospitalA</td>\n",
       "      <td>Estructura</td>\n",
       "      <td>38</td>\n",
       "      <td>Española</td>\n",
       "      <td>-2</td>\n",
       "      <td>1</td>\n",
       "    </tr>\n",
       "    <tr>\n",
       "      <th>4</th>\n",
       "      <td>1000146</td>\n",
       "      <td>Mujer</td>\n",
       "      <td>1</td>\n",
       "      <td>402R</td>\n",
       "      <td>EVENTUAL (REFUERZO)</td>\n",
       "      <td>N</td>\n",
       "      <td>Asistenciales No Licenciados</td>\n",
       "      <td>Gr 3.B: Personal Grado Ciencias Salud II</td>\n",
       "      <td>E Medicina Intensiva</td>\n",
       "      <td>HospitalA</td>\n",
       "      <td>Refuerzos</td>\n",
       "      <td>49</td>\n",
       "      <td>Española</td>\n",
       "      <td>-2</td>\n",
       "      <td>1</td>\n",
       "    </tr>\n",
       "  </tbody>\n",
       "</table>\n",
       "</div>\n",
       "      <button class=\"colab-df-convert\" onclick=\"convertToInteractive('df-ec57b08b-3804-4337-9401-ad7ed3d06a47')\"\n",
       "              title=\"Convert this dataframe to an interactive table.\"\n",
       "              style=\"display:none;\">\n",
       "        \n",
       "  <svg xmlns=\"http://www.w3.org/2000/svg\" height=\"24px\"viewBox=\"0 0 24 24\"\n",
       "       width=\"24px\">\n",
       "    <path d=\"M0 0h24v24H0V0z\" fill=\"none\"/>\n",
       "    <path d=\"M18.56 5.44l.94 2.06.94-2.06 2.06-.94-2.06-.94-.94-2.06-.94 2.06-2.06.94zm-11 1L8.5 8.5l.94-2.06 2.06-.94-2.06-.94L8.5 2.5l-.94 2.06-2.06.94zm10 10l.94 2.06.94-2.06 2.06-.94-2.06-.94-.94-2.06-.94 2.06-2.06.94z\"/><path d=\"M17.41 7.96l-1.37-1.37c-.4-.4-.92-.59-1.43-.59-.52 0-1.04.2-1.43.59L10.3 9.45l-7.72 7.72c-.78.78-.78 2.05 0 2.83L4 21.41c.39.39.9.59 1.41.59.51 0 1.02-.2 1.41-.59l7.78-7.78 2.81-2.81c.8-.78.8-2.07 0-2.86zM5.41 20L4 18.59l7.72-7.72 1.47 1.35L5.41 20z\"/>\n",
       "  </svg>\n",
       "      </button>\n",
       "      \n",
       "  <style>\n",
       "    .colab-df-container {\n",
       "      display:flex;\n",
       "      flex-wrap:wrap;\n",
       "      gap: 12px;\n",
       "    }\n",
       "\n",
       "    .colab-df-convert {\n",
       "      background-color: #E8F0FE;\n",
       "      border: none;\n",
       "      border-radius: 50%;\n",
       "      cursor: pointer;\n",
       "      display: none;\n",
       "      fill: #1967D2;\n",
       "      height: 32px;\n",
       "      padding: 0 0 0 0;\n",
       "      width: 32px;\n",
       "    }\n",
       "\n",
       "    .colab-df-convert:hover {\n",
       "      background-color: #E2EBFA;\n",
       "      box-shadow: 0px 1px 2px rgba(60, 64, 67, 0.3), 0px 1px 3px 1px rgba(60, 64, 67, 0.15);\n",
       "      fill: #174EA6;\n",
       "    }\n",
       "\n",
       "    [theme=dark] .colab-df-convert {\n",
       "      background-color: #3B4455;\n",
       "      fill: #D2E3FC;\n",
       "    }\n",
       "\n",
       "    [theme=dark] .colab-df-convert:hover {\n",
       "      background-color: #434B5C;\n",
       "      box-shadow: 0px 1px 3px 1px rgba(0, 0, 0, 0.15);\n",
       "      filter: drop-shadow(0px 1px 2px rgba(0, 0, 0, 0.3));\n",
       "      fill: #FFFFFF;\n",
       "    }\n",
       "  </style>\n",
       "\n",
       "      <script>\n",
       "        const buttonEl =\n",
       "          document.querySelector('#df-ec57b08b-3804-4337-9401-ad7ed3d06a47 button.colab-df-convert');\n",
       "        buttonEl.style.display =\n",
       "          google.colab.kernel.accessAllowed ? 'block' : 'none';\n",
       "\n",
       "        async function convertToInteractive(key) {\n",
       "          const element = document.querySelector('#df-ec57b08b-3804-4337-9401-ad7ed3d06a47');\n",
       "          const dataTable =\n",
       "            await google.colab.kernel.invokeFunction('convertToInteractive',\n",
       "                                                     [key], {});\n",
       "          if (!dataTable) return;\n",
       "\n",
       "          const docLinkHtml = 'Like what you see? Visit the ' +\n",
       "            '<a target=\"_blank\" href=https://colab.research.google.com/notebooks/data_table.ipynb>data table notebook</a>'\n",
       "            + ' to learn more about interactive tables.';\n",
       "          element.innerHTML = '';\n",
       "          dataTable['output_type'] = 'display_data';\n",
       "          await google.colab.output.renderOutput(dataTable, element);\n",
       "          const docLink = document.createElement('div');\n",
       "          docLink.innerHTML = docLinkHtml;\n",
       "          element.appendChild(docLink);\n",
       "        }\n",
       "      </script>\n",
       "    </div>\n",
       "  </div>\n",
       "  "
      ],
      "text/plain": [
       "   STD_ID_PERSON STD_N_GENDERESP  Num_Periodo SSP_ID_CONT_INTERN  \\\n",
       "0        1000016           Mujer            2                200   \n",
       "1        1000026           Mujer            1                100   \n",
       "2        1000107           Varon            2                100   \n",
       "3        1000125           Mujer            1                100   \n",
       "4        1000146           Mujer            1               402R   \n",
       "\n",
       "                     SSP_NM_CONT_INESP SSP_NO_DEFINIDO  \\\n",
       "0  ORDINARIO A TIEMPO PARCIAL INDEFINI               S   \n",
       "1     ORDINARIO INDEFINIDO TP COMPLETO               S   \n",
       "2     ORDINARIO INDEFINIDO TP COMPLETO               S   \n",
       "3     ORDINARIO INDEFINIDO TP COMPLETO               S   \n",
       "4                  EVENTUAL (REFUERZO)               N   \n",
       "\n",
       "               CSP_N_AG_CATEGOR                         CSP_NM_CATEGORESP  \\\n",
       "0              No Asistenciales         Gr 6.A: Tecnicos no Asistenciales   \n",
       "1              No Asistenciales         Gr 6.A: Tecnicos no Asistenciales   \n",
       "2              No Asistenciales         Gr 6.A: Tecnicos no Asistenciales   \n",
       "3              No Asistenciales         Gr 6.B: Tecnicos no Asistenciales   \n",
       "4  Asistenciales No Licenciados  Gr 3.B: Personal Grado Ciencias Salud II   \n",
       "\n",
       "                                 STD_N_WU_TYPEESP STD_WORK_LOCESP  \\\n",
       "0  area Comunicacion, Marketing y RSC (Employees)       HospitalA   \n",
       "1                       area Gerencia (Employees)       HospitalA   \n",
       "2           area Economico-Financiera (Employees)       HospitalA   \n",
       "3           area Sistemas Informacion (Employees)       HospitalA   \n",
       "4                            E Medicina Intensiva       HospitalA   \n",
       "\n",
       "  CSP_N_COLECTIVO  Edad Nacionalidad SSP_ID_MINUSVALIA  Activos  \n",
       "0      Estructura    39     Española                -2        1  \n",
       "1      Estructura    41     Española                -2        1  \n",
       "2      Estructura    51     Española                -2        1  \n",
       "3      Estructura    38     Española                -2        1  \n",
       "4       Refuerzos    49     Española                -2        1  "
      ]
     },
     "execution_count": 7,
     "metadata": {},
     "output_type": "execute_result"
    }
   ],
   "source": [
    "df.head()"
   ]
  },
  {
   "cell_type": "code",
   "execution_count": 8,
   "metadata": {
    "colab": {
     "base_uri": "https://localhost:8080/"
    },
    "id": "cadoapvyAdp7",
    "outputId": "5faa14bd-55e9-441b-d809-9586a5eb24f8"
   },
   "outputs": [
    {
     "data": {
      "text/plain": [
       "(6776, 15)"
      ]
     },
     "execution_count": 8,
     "metadata": {},
     "output_type": "execute_result"
    }
   ],
   "source": [
    "# number of rows and columns\n",
    "df.shape"
   ]
  },
  {
   "cell_type": "code",
   "execution_count": 9,
   "metadata": {
    "colab": {
     "base_uri": "https://localhost:8080/",
     "height": 300
    },
    "id": "oCNhpj_aBZ8S",
    "outputId": "3ea02ddb-2f59-4d10-dd29-623e97fe88fc"
   },
   "outputs": [
    {
     "data": {
      "text/html": [
       "\n",
       "  <div id=\"df-8be42c14-3801-40f1-8c72-4e72d77273a4\">\n",
       "    <div class=\"colab-df-container\">\n",
       "      <div>\n",
       "<style scoped>\n",
       "    .dataframe tbody tr th:only-of-type {\n",
       "        vertical-align: middle;\n",
       "    }\n",
       "\n",
       "    .dataframe tbody tr th {\n",
       "        vertical-align: top;\n",
       "    }\n",
       "\n",
       "    .dataframe thead th {\n",
       "        text-align: right;\n",
       "    }\n",
       "</style>\n",
       "<table border=\"1\" class=\"dataframe\">\n",
       "  <thead>\n",
       "    <tr style=\"text-align: right;\">\n",
       "      <th></th>\n",
       "      <th>STD_ID_PERSON</th>\n",
       "      <th>Num_Periodo</th>\n",
       "      <th>Edad</th>\n",
       "      <th>Activos</th>\n",
       "    </tr>\n",
       "  </thead>\n",
       "  <tbody>\n",
       "    <tr>\n",
       "      <th>count</th>\n",
       "      <td>6.776000e+03</td>\n",
       "      <td>6776.000000</td>\n",
       "      <td>6776.000000</td>\n",
       "      <td>6776.000000</td>\n",
       "    </tr>\n",
       "    <tr>\n",
       "      <th>mean</th>\n",
       "      <td>1.017240e+06</td>\n",
       "      <td>2.235537</td>\n",
       "      <td>34.526564</td>\n",
       "      <td>0.978896</td>\n",
       "    </tr>\n",
       "    <tr>\n",
       "      <th>std</th>\n",
       "      <td>6.368448e+03</td>\n",
       "      <td>1.812547</td>\n",
       "      <td>7.765694</td>\n",
       "      <td>0.143741</td>\n",
       "    </tr>\n",
       "    <tr>\n",
       "      <th>min</th>\n",
       "      <td>1.000016e+06</td>\n",
       "      <td>1.000000</td>\n",
       "      <td>19.000000</td>\n",
       "      <td>0.000000</td>\n",
       "    </tr>\n",
       "    <tr>\n",
       "      <th>25%</th>\n",
       "      <td>1.015558e+06</td>\n",
       "      <td>1.000000</td>\n",
       "      <td>29.000000</td>\n",
       "      <td>1.000000</td>\n",
       "    </tr>\n",
       "    <tr>\n",
       "      <th>50%</th>\n",
       "      <td>1.016179e+06</td>\n",
       "      <td>2.000000</td>\n",
       "      <td>33.000000</td>\n",
       "      <td>1.000000</td>\n",
       "    </tr>\n",
       "    <tr>\n",
       "      <th>75%</th>\n",
       "      <td>1.017445e+06</td>\n",
       "      <td>3.000000</td>\n",
       "      <td>39.000000</td>\n",
       "      <td>1.000000</td>\n",
       "    </tr>\n",
       "    <tr>\n",
       "      <th>max</th>\n",
       "      <td>1.030783e+06</td>\n",
       "      <td>15.000000</td>\n",
       "      <td>69.000000</td>\n",
       "      <td>1.000000</td>\n",
       "    </tr>\n",
       "  </tbody>\n",
       "</table>\n",
       "</div>\n",
       "      <button class=\"colab-df-convert\" onclick=\"convertToInteractive('df-8be42c14-3801-40f1-8c72-4e72d77273a4')\"\n",
       "              title=\"Convert this dataframe to an interactive table.\"\n",
       "              style=\"display:none;\">\n",
       "        \n",
       "  <svg xmlns=\"http://www.w3.org/2000/svg\" height=\"24px\"viewBox=\"0 0 24 24\"\n",
       "       width=\"24px\">\n",
       "    <path d=\"M0 0h24v24H0V0z\" fill=\"none\"/>\n",
       "    <path d=\"M18.56 5.44l.94 2.06.94-2.06 2.06-.94-2.06-.94-.94-2.06-.94 2.06-2.06.94zm-11 1L8.5 8.5l.94-2.06 2.06-.94-2.06-.94L8.5 2.5l-.94 2.06-2.06.94zm10 10l.94 2.06.94-2.06 2.06-.94-2.06-.94-.94-2.06-.94 2.06-2.06.94z\"/><path d=\"M17.41 7.96l-1.37-1.37c-.4-.4-.92-.59-1.43-.59-.52 0-1.04.2-1.43.59L10.3 9.45l-7.72 7.72c-.78.78-.78 2.05 0 2.83L4 21.41c.39.39.9.59 1.41.59.51 0 1.02-.2 1.41-.59l7.78-7.78 2.81-2.81c.8-.78.8-2.07 0-2.86zM5.41 20L4 18.59l7.72-7.72 1.47 1.35L5.41 20z\"/>\n",
       "  </svg>\n",
       "      </button>\n",
       "      \n",
       "  <style>\n",
       "    .colab-df-container {\n",
       "      display:flex;\n",
       "      flex-wrap:wrap;\n",
       "      gap: 12px;\n",
       "    }\n",
       "\n",
       "    .colab-df-convert {\n",
       "      background-color: #E8F0FE;\n",
       "      border: none;\n",
       "      border-radius: 50%;\n",
       "      cursor: pointer;\n",
       "      display: none;\n",
       "      fill: #1967D2;\n",
       "      height: 32px;\n",
       "      padding: 0 0 0 0;\n",
       "      width: 32px;\n",
       "    }\n",
       "\n",
       "    .colab-df-convert:hover {\n",
       "      background-color: #E2EBFA;\n",
       "      box-shadow: 0px 1px 2px rgba(60, 64, 67, 0.3), 0px 1px 3px 1px rgba(60, 64, 67, 0.15);\n",
       "      fill: #174EA6;\n",
       "    }\n",
       "\n",
       "    [theme=dark] .colab-df-convert {\n",
       "      background-color: #3B4455;\n",
       "      fill: #D2E3FC;\n",
       "    }\n",
       "\n",
       "    [theme=dark] .colab-df-convert:hover {\n",
       "      background-color: #434B5C;\n",
       "      box-shadow: 0px 1px 3px 1px rgba(0, 0, 0, 0.15);\n",
       "      filter: drop-shadow(0px 1px 2px rgba(0, 0, 0, 0.3));\n",
       "      fill: #FFFFFF;\n",
       "    }\n",
       "  </style>\n",
       "\n",
       "      <script>\n",
       "        const buttonEl =\n",
       "          document.querySelector('#df-8be42c14-3801-40f1-8c72-4e72d77273a4 button.colab-df-convert');\n",
       "        buttonEl.style.display =\n",
       "          google.colab.kernel.accessAllowed ? 'block' : 'none';\n",
       "\n",
       "        async function convertToInteractive(key) {\n",
       "          const element = document.querySelector('#df-8be42c14-3801-40f1-8c72-4e72d77273a4');\n",
       "          const dataTable =\n",
       "            await google.colab.kernel.invokeFunction('convertToInteractive',\n",
       "                                                     [key], {});\n",
       "          if (!dataTable) return;\n",
       "\n",
       "          const docLinkHtml = 'Like what you see? Visit the ' +\n",
       "            '<a target=\"_blank\" href=https://colab.research.google.com/notebooks/data_table.ipynb>data table notebook</a>'\n",
       "            + ' to learn more about interactive tables.';\n",
       "          element.innerHTML = '';\n",
       "          dataTable['output_type'] = 'display_data';\n",
       "          await google.colab.output.renderOutput(dataTable, element);\n",
       "          const docLink = document.createElement('div');\n",
       "          docLink.innerHTML = docLinkHtml;\n",
       "          element.appendChild(docLink);\n",
       "        }\n",
       "      </script>\n",
       "    </div>\n",
       "  </div>\n",
       "  "
      ],
      "text/plain": [
       "       STD_ID_PERSON  Num_Periodo         Edad      Activos\n",
       "count   6.776000e+03  6776.000000  6776.000000  6776.000000\n",
       "mean    1.017240e+06     2.235537    34.526564     0.978896\n",
       "std     6.368448e+03     1.812547     7.765694     0.143741\n",
       "min     1.000016e+06     1.000000    19.000000     0.000000\n",
       "25%     1.015558e+06     1.000000    29.000000     1.000000\n",
       "50%     1.016179e+06     2.000000    33.000000     1.000000\n",
       "75%     1.017445e+06     3.000000    39.000000     1.000000\n",
       "max     1.030783e+06    15.000000    69.000000     1.000000"
      ]
     },
     "execution_count": 9,
     "metadata": {},
     "output_type": "execute_result"
    }
   ],
   "source": [
    "# statistical measures\n",
    "df.describe()"
   ]
  },
  {
   "cell_type": "code",
   "execution_count": 10,
   "metadata": {
    "colab": {
     "base_uri": "https://localhost:8080/"
    },
    "id": "8Xp06TZ3Bt6S",
    "outputId": "2a055ba2-f26e-43db-e782-98222f39a2ed"
   },
   "outputs": [
    {
     "data": {
      "text/plain": [
       "STD_ID_PERSON         0\n",
       "STD_N_GENDERESP       0\n",
       "Num_Periodo           0\n",
       "SSP_ID_CONT_INTERN    0\n",
       "SSP_NM_CONT_INESP     0\n",
       "SSP_NO_DEFINIDO       0\n",
       "CSP_N_AG_CATEGOR      0\n",
       "CSP_NM_CATEGORESP     0\n",
       "STD_N_WU_TYPEESP      0\n",
       "STD_WORK_LOCESP       0\n",
       "CSP_N_COLECTIVO       0\n",
       "Edad                  0\n",
       "Nacionalidad          0\n",
       "SSP_ID_MINUSVALIA     0\n",
       "Activos               0\n",
       "dtype: int64"
      ]
     },
     "execution_count": 10,
     "metadata": {},
     "output_type": "execute_result"
    }
   ],
   "source": [
    "# number of missing values in each column\n",
    "df.isnull().sum()"
   ]
  },
  {
   "cell_type": "code",
   "execution_count": 11,
   "metadata": {
    "colab": {
     "base_uri": "https://localhost:8080/"
    },
    "id": "mDDPZ9AcDaAL",
    "outputId": "df87ead4-e5f0-49e6-b097-63e96ee99e69"
   },
   "outputs": [
    {
     "data": {
      "text/plain": [
       "1     3129\n",
       "2     1805\n",
       "3      711\n",
       "4      444\n",
       "5      284\n",
       "6      147\n",
       "7      110\n",
       "8       51\n",
       "9       31\n",
       "10      20\n",
       "12      14\n",
       "11      14\n",
       "14       9\n",
       "13       6\n",
       "15       1\n",
       "Name: Num_Periodo, dtype: int64"
      ]
     },
     "execution_count": 11,
     "metadata": {},
     "output_type": "execute_result"
    }
   ],
   "source": [
    "# Dependent column values\n",
    "df['Num_Periodo'].value_counts()"
   ]
  },
  {
   "cell_type": "code",
   "execution_count": 12,
   "metadata": {
    "id": "WkE_kBJDEBbA"
   },
   "outputs": [],
   "source": [
    "# replacing the value of 3+ to 4\n",
    "df = df.replace(to_replace='3+', value=4)"
   ]
  },
  {
   "cell_type": "code",
   "execution_count": 13,
   "metadata": {
    "colab": {
     "base_uri": "https://localhost:8080/"
    },
    "id": "VWxrpy59Eg5m",
    "outputId": "4532e5b1-2edf-4e30-9c68-ad67708c4642"
   },
   "outputs": [
    {
     "data": {
      "text/plain": [
       "1     3129\n",
       "2     1805\n",
       "3      711\n",
       "4      444\n",
       "5      284\n",
       "6      147\n",
       "7      110\n",
       "8       51\n",
       "9       31\n",
       "10      20\n",
       "12      14\n",
       "11      14\n",
       "14       9\n",
       "13       6\n",
       "15       1\n",
       "Name: Num_Periodo, dtype: int64"
      ]
     },
     "execution_count": 13,
     "metadata": {},
     "output_type": "execute_result"
    }
   ],
   "source": [
    "# dependent values\n",
    "df['Num_Periodo'].value_counts()"
   ]
  },
  {
   "cell_type": "markdown",
   "metadata": {
    "id": "Z2MWd1XcLlGN"
   },
   "source": [
    "# Transform data"
   ]
  },
  {
   "cell_type": "code",
   "execution_count": 14,
   "metadata": {
    "id": "Flk0RHzEGWXw"
   },
   "outputs": [],
   "source": [
    "# convert categorical columns to numerical values\n",
    "df.replace({'CSP_N_COLECTIVO':{'Estructura':0,'Refuerzos':1,'Sustituciones':2}, \"STD_N_GENDERESP\":{'Mujer':0,'Varon':1}, 'STD_WORK_LOCESP':{'HospitalA':0,'CentroA':1},'SSP_NO_DEFINIDO':{'S':0,'N':1},\n",
    "            'CSP_N_AG_CATEGOR':{'Asistenciales licenciados':0,'Asistenciales No Licenciados':1,'No Asistenciales':2}}\n",
    "                     ,inplace=True)"
   ]
  },
  {
   "cell_type": "code",
   "execution_count": 15,
   "metadata": {
    "id": "5hAkA4fqFnRS"
   },
   "outputs": [],
   "source": [
    "df[\"SSP_NM_CONT_INESP\"] = df[\"SSP_NM_CONT_INESP\"].astype('category')\n",
    "df[\"SSP_NM_CONT_INESP\"] = df[\"SSP_NM_CONT_INESP\"].cat.codes"
   ]
  },
  {
   "cell_type": "code",
   "execution_count": 16,
   "metadata": {
    "id": "SnfyKLk4F695"
   },
   "outputs": [],
   "source": [
    "df[\"CSP_NM_CATEGORESP\"] = df[\"CSP_NM_CATEGORESP\"].astype('category')\n",
    "df[\"CSP_NM_CATEGORESP\"] = df[\"CSP_NM_CATEGORESP\"].cat.codes"
   ]
  },
  {
   "cell_type": "code",
   "execution_count": 17,
   "metadata": {
    "id": "yB75Cw3HGFj7"
   },
   "outputs": [],
   "source": [
    "df[\"STD_N_WU_TYPEESP\"] = df[\"STD_N_WU_TYPEESP\"].astype('category')\n",
    "df[\"STD_N_WU_TYPEESP\"] = df[\"STD_N_WU_TYPEESP\"].cat.codes"
   ]
  },
  {
   "cell_type": "code",
   "execution_count": 18,
   "metadata": {
    "id": "6M-8rkj9GOYT"
   },
   "outputs": [],
   "source": [
    "df[\"Nacionalidad\"] = df[\"Nacionalidad\"].astype('category')\n",
    "df[\"Nacionalidad\"] = df[\"Nacionalidad\"].cat.codes"
   ]
  },
  {
   "cell_type": "code",
   "execution_count": 19,
   "metadata": {
    "id": "3zA29gEzGaw-"
   },
   "outputs": [],
   "source": [
    "df[\"SSP_ID_CONT_INTERN\"] = df[\"SSP_ID_CONT_INTERN\"].astype('category')\n",
    "df[\"SSP_ID_CONT_INTERN\"] = df[\"SSP_ID_CONT_INTERN\"].cat.codes"
   ]
  },
  {
   "cell_type": "code",
   "execution_count": 20,
   "metadata": {
    "id": "m4lWG9bwHBfC"
   },
   "outputs": [],
   "source": [
    "df[\"SSP_ID_MINUSVALIA\"] = df[\"SSP_ID_MINUSVALIA\"].astype('category')\n",
    "df[\"SSP_ID_MINUSVALIA\"] = df[\"SSP_ID_MINUSVALIA\"].cat.codes"
   ]
  },
  {
   "cell_type": "code",
   "execution_count": 21,
   "metadata": {
    "colab": {
     "base_uri": "https://localhost:8080/",
     "height": 270
    },
    "id": "CqrryB06IQ3R",
    "outputId": "71a26f56-8d17-4492-d796-276439cb892e"
   },
   "outputs": [
    {
     "data": {
      "text/html": [
       "\n",
       "  <div id=\"df-ec152c49-85a1-4166-a636-68d6c20be369\">\n",
       "    <div class=\"colab-df-container\">\n",
       "      <div>\n",
       "<style scoped>\n",
       "    .dataframe tbody tr th:only-of-type {\n",
       "        vertical-align: middle;\n",
       "    }\n",
       "\n",
       "    .dataframe tbody tr th {\n",
       "        vertical-align: top;\n",
       "    }\n",
       "\n",
       "    .dataframe thead th {\n",
       "        text-align: right;\n",
       "    }\n",
       "</style>\n",
       "<table border=\"1\" class=\"dataframe\">\n",
       "  <thead>\n",
       "    <tr style=\"text-align: right;\">\n",
       "      <th></th>\n",
       "      <th>STD_ID_PERSON</th>\n",
       "      <th>STD_N_GENDERESP</th>\n",
       "      <th>Num_Periodo</th>\n",
       "      <th>SSP_ID_CONT_INTERN</th>\n",
       "      <th>SSP_NM_CONT_INESP</th>\n",
       "      <th>SSP_NO_DEFINIDO</th>\n",
       "      <th>CSP_N_AG_CATEGOR</th>\n",
       "      <th>CSP_NM_CATEGORESP</th>\n",
       "      <th>STD_N_WU_TYPEESP</th>\n",
       "      <th>STD_WORK_LOCESP</th>\n",
       "      <th>CSP_N_COLECTIVO</th>\n",
       "      <th>Edad</th>\n",
       "      <th>Nacionalidad</th>\n",
       "      <th>SSP_ID_MINUSVALIA</th>\n",
       "      <th>Activos</th>\n",
       "    </tr>\n",
       "  </thead>\n",
       "  <tbody>\n",
       "    <tr>\n",
       "      <th>0</th>\n",
       "      <td>1000016</td>\n",
       "      <td>0</td>\n",
       "      <td>2</td>\n",
       "      <td>6</td>\n",
       "      <td>39</td>\n",
       "      <td>0</td>\n",
       "      <td>2</td>\n",
       "      <td>5</td>\n",
       "      <td>66</td>\n",
       "      <td>0</td>\n",
       "      <td>0</td>\n",
       "      <td>39</td>\n",
       "      <td>9</td>\n",
       "      <td>0</td>\n",
       "      <td>1</td>\n",
       "    </tr>\n",
       "    <tr>\n",
       "      <th>1</th>\n",
       "      <td>1000026</td>\n",
       "      <td>0</td>\n",
       "      <td>1</td>\n",
       "      <td>1</td>\n",
       "      <td>40</td>\n",
       "      <td>0</td>\n",
       "      <td>2</td>\n",
       "      <td>5</td>\n",
       "      <td>70</td>\n",
       "      <td>0</td>\n",
       "      <td>0</td>\n",
       "      <td>41</td>\n",
       "      <td>9</td>\n",
       "      <td>0</td>\n",
       "      <td>1</td>\n",
       "    </tr>\n",
       "    <tr>\n",
       "      <th>2</th>\n",
       "      <td>1000107</td>\n",
       "      <td>1</td>\n",
       "      <td>2</td>\n",
       "      <td>1</td>\n",
       "      <td>40</td>\n",
       "      <td>0</td>\n",
       "      <td>2</td>\n",
       "      <td>5</td>\n",
       "      <td>68</td>\n",
       "      <td>0</td>\n",
       "      <td>0</td>\n",
       "      <td>51</td>\n",
       "      <td>9</td>\n",
       "      <td>0</td>\n",
       "      <td>1</td>\n",
       "    </tr>\n",
       "    <tr>\n",
       "      <th>3</th>\n",
       "      <td>1000125</td>\n",
       "      <td>0</td>\n",
       "      <td>1</td>\n",
       "      <td>1</td>\n",
       "      <td>40</td>\n",
       "      <td>0</td>\n",
       "      <td>2</td>\n",
       "      <td>6</td>\n",
       "      <td>76</td>\n",
       "      <td>0</td>\n",
       "      <td>0</td>\n",
       "      <td>38</td>\n",
       "      <td>9</td>\n",
       "      <td>0</td>\n",
       "      <td>1</td>\n",
       "    </tr>\n",
       "    <tr>\n",
       "      <th>4</th>\n",
       "      <td>1000146</td>\n",
       "      <td>0</td>\n",
       "      <td>1</td>\n",
       "      <td>13</td>\n",
       "      <td>2</td>\n",
       "      <td>1</td>\n",
       "      <td>1</td>\n",
       "      <td>2</td>\n",
       "      <td>26</td>\n",
       "      <td>0</td>\n",
       "      <td>1</td>\n",
       "      <td>49</td>\n",
       "      <td>9</td>\n",
       "      <td>0</td>\n",
       "      <td>1</td>\n",
       "    </tr>\n",
       "  </tbody>\n",
       "</table>\n",
       "</div>\n",
       "      <button class=\"colab-df-convert\" onclick=\"convertToInteractive('df-ec152c49-85a1-4166-a636-68d6c20be369')\"\n",
       "              title=\"Convert this dataframe to an interactive table.\"\n",
       "              style=\"display:none;\">\n",
       "        \n",
       "  <svg xmlns=\"http://www.w3.org/2000/svg\" height=\"24px\"viewBox=\"0 0 24 24\"\n",
       "       width=\"24px\">\n",
       "    <path d=\"M0 0h24v24H0V0z\" fill=\"none\"/>\n",
       "    <path d=\"M18.56 5.44l.94 2.06.94-2.06 2.06-.94-2.06-.94-.94-2.06-.94 2.06-2.06.94zm-11 1L8.5 8.5l.94-2.06 2.06-.94-2.06-.94L8.5 2.5l-.94 2.06-2.06.94zm10 10l.94 2.06.94-2.06 2.06-.94-2.06-.94-.94-2.06-.94 2.06-2.06.94z\"/><path d=\"M17.41 7.96l-1.37-1.37c-.4-.4-.92-.59-1.43-.59-.52 0-1.04.2-1.43.59L10.3 9.45l-7.72 7.72c-.78.78-.78 2.05 0 2.83L4 21.41c.39.39.9.59 1.41.59.51 0 1.02-.2 1.41-.59l7.78-7.78 2.81-2.81c.8-.78.8-2.07 0-2.86zM5.41 20L4 18.59l7.72-7.72 1.47 1.35L5.41 20z\"/>\n",
       "  </svg>\n",
       "      </button>\n",
       "      \n",
       "  <style>\n",
       "    .colab-df-container {\n",
       "      display:flex;\n",
       "      flex-wrap:wrap;\n",
       "      gap: 12px;\n",
       "    }\n",
       "\n",
       "    .colab-df-convert {\n",
       "      background-color: #E8F0FE;\n",
       "      border: none;\n",
       "      border-radius: 50%;\n",
       "      cursor: pointer;\n",
       "      display: none;\n",
       "      fill: #1967D2;\n",
       "      height: 32px;\n",
       "      padding: 0 0 0 0;\n",
       "      width: 32px;\n",
       "    }\n",
       "\n",
       "    .colab-df-convert:hover {\n",
       "      background-color: #E2EBFA;\n",
       "      box-shadow: 0px 1px 2px rgba(60, 64, 67, 0.3), 0px 1px 3px 1px rgba(60, 64, 67, 0.15);\n",
       "      fill: #174EA6;\n",
       "    }\n",
       "\n",
       "    [theme=dark] .colab-df-convert {\n",
       "      background-color: #3B4455;\n",
       "      fill: #D2E3FC;\n",
       "    }\n",
       "\n",
       "    [theme=dark] .colab-df-convert:hover {\n",
       "      background-color: #434B5C;\n",
       "      box-shadow: 0px 1px 3px 1px rgba(0, 0, 0, 0.15);\n",
       "      filter: drop-shadow(0px 1px 2px rgba(0, 0, 0, 0.3));\n",
       "      fill: #FFFFFF;\n",
       "    }\n",
       "  </style>\n",
       "\n",
       "      <script>\n",
       "        const buttonEl =\n",
       "          document.querySelector('#df-ec152c49-85a1-4166-a636-68d6c20be369 button.colab-df-convert');\n",
       "        buttonEl.style.display =\n",
       "          google.colab.kernel.accessAllowed ? 'block' : 'none';\n",
       "\n",
       "        async function convertToInteractive(key) {\n",
       "          const element = document.querySelector('#df-ec152c49-85a1-4166-a636-68d6c20be369');\n",
       "          const dataTable =\n",
       "            await google.colab.kernel.invokeFunction('convertToInteractive',\n",
       "                                                     [key], {});\n",
       "          if (!dataTable) return;\n",
       "\n",
       "          const docLinkHtml = 'Like what you see? Visit the ' +\n",
       "            '<a target=\"_blank\" href=https://colab.research.google.com/notebooks/data_table.ipynb>data table notebook</a>'\n",
       "            + ' to learn more about interactive tables.';\n",
       "          element.innerHTML = '';\n",
       "          dataTable['output_type'] = 'display_data';\n",
       "          await google.colab.output.renderOutput(dataTable, element);\n",
       "          const docLink = document.createElement('div');\n",
       "          docLink.innerHTML = docLinkHtml;\n",
       "          element.appendChild(docLink);\n",
       "        }\n",
       "      </script>\n",
       "    </div>\n",
       "  </div>\n",
       "  "
      ],
      "text/plain": [
       "   STD_ID_PERSON  STD_N_GENDERESP  Num_Periodo  SSP_ID_CONT_INTERN  \\\n",
       "0        1000016                0            2                   6   \n",
       "1        1000026                0            1                   1   \n",
       "2        1000107                1            2                   1   \n",
       "3        1000125                0            1                   1   \n",
       "4        1000146                0            1                  13   \n",
       "\n",
       "   SSP_NM_CONT_INESP  SSP_NO_DEFINIDO  CSP_N_AG_CATEGOR  CSP_NM_CATEGORESP  \\\n",
       "0                 39                0                 2                  5   \n",
       "1                 40                0                 2                  5   \n",
       "2                 40                0                 2                  5   \n",
       "3                 40                0                 2                  6   \n",
       "4                  2                1                 1                  2   \n",
       "\n",
       "   STD_N_WU_TYPEESP  STD_WORK_LOCESP  CSP_N_COLECTIVO  Edad  Nacionalidad  \\\n",
       "0                66                0                0    39             9   \n",
       "1                70                0                0    41             9   \n",
       "2                68                0                0    51             9   \n",
       "3                76                0                0    38             9   \n",
       "4                26                0                1    49             9   \n",
       "\n",
       "   SSP_ID_MINUSVALIA  Activos  \n",
       "0                  0        1  \n",
       "1                  0        1  \n",
       "2                  0        1  \n",
       "3                  0        1  \n",
       "4                  0        1  "
      ]
     },
     "execution_count": 21,
     "metadata": {},
     "output_type": "execute_result"
    }
   ],
   "source": [
    "df.head()"
   ]
  },
  {
   "cell_type": "code",
   "execution_count": 22,
   "metadata": {
    "id": "jF5D9a3aIUn5"
   },
   "outputs": [],
   "source": [
    "# separating the data and label\n",
    "X = df.drop(columns=['STD_ID_PERSON','Activos'],axis=1)\n",
    "Y = df['Activos']"
   ]
  },
  {
   "cell_type": "code",
   "execution_count": 23,
   "metadata": {
    "colab": {
     "base_uri": "https://localhost:8080/"
    },
    "id": "b-jNlYt-JIbs",
    "outputId": "54b6e0e0-ab6e-4b39-bc9d-7e1ef44365a8"
   },
   "outputs": [
    {
     "name": "stdout",
     "output_type": "stream",
     "text": [
      "      STD_N_GENDERESP  Num_Periodo  SSP_ID_CONT_INTERN  SSP_NM_CONT_INESP  \\\n",
      "0                   0            2                   6                 39   \n",
      "1                   0            1                   1                 40   \n",
      "2                   1            2                   1                 40   \n",
      "3                   0            1                   1                 40   \n",
      "4                   0            1                  13                  2   \n",
      "...               ...          ...                 ...                ...   \n",
      "6771                0            1                  13                  2   \n",
      "6772                0            1                  13                  2   \n",
      "6773                1            1                  16                  4   \n",
      "6774                0            1                  13                  2   \n",
      "6775                0            1                  16                  4   \n",
      "\n",
      "      SSP_NO_DEFINIDO  CSP_N_AG_CATEGOR  CSP_NM_CATEGORESP  STD_N_WU_TYPEESP  \\\n",
      "0                   0                 2                  5                66   \n",
      "1                   0                 2                  5                70   \n",
      "2                   0                 2                  5                68   \n",
      "3                   0                 2                  6                76   \n",
      "4                   1                 1                  2                26   \n",
      "...               ...               ...                ...               ...   \n",
      "6771                1                 1                  4                31   \n",
      "6772                1                 1                  4                31   \n",
      "6773                1                 1                  2                31   \n",
      "6774                1                 1                  4                31   \n",
      "6775                1                 1                  9                31   \n",
      "\n",
      "      STD_WORK_LOCESP  CSP_N_COLECTIVO  Edad  Nacionalidad  SSP_ID_MINUSVALIA  \n",
      "0                   0                0    39             9                  0  \n",
      "1                   0                0    41             9                  0  \n",
      "2                   0                0    51             9                  0  \n",
      "3                   0                0    38             9                  0  \n",
      "4                   0                1    49             9                  0  \n",
      "...               ...              ...   ...           ...                ...  \n",
      "6771                0                1    33             9                  0  \n",
      "6772                0                1    28             9                  0  \n",
      "6773                0                2    42             9                  0  \n",
      "6774                0                1    47             9                  0  \n",
      "6775                0                2    19             9                  0  \n",
      "\n",
      "[6776 rows x 13 columns]\n",
      "0       1\n",
      "1       1\n",
      "2       1\n",
      "3       1\n",
      "4       1\n",
      "       ..\n",
      "6771    1\n",
      "6772    1\n",
      "6773    1\n",
      "6774    1\n",
      "6775    1\n",
      "Name: Activos, Length: 6776, dtype: int64\n"
     ]
    }
   ],
   "source": [
    "print(X)\n",
    "print(Y)"
   ]
  },
  {
   "cell_type": "markdown",
   "metadata": {
    "id": "IKWZ4HJrAKp1"
   },
   "source": [
    "# Export without oversampling"
   ]
  },
  {
   "cell_type": "code",
   "execution_count": 24,
   "metadata": {
    "colab": {
     "base_uri": "https://localhost:8080/",
     "height": 17
    },
    "id": "WOhGSbvGAKp1",
    "outputId": "08fd8930-354a-4f5d-ec24-98c6026a3a7b"
   },
   "outputs": [
    {
     "data": {
      "application/javascript": [
       "\n",
       "    async function download(id, filename, size) {\n",
       "      if (!google.colab.kernel.accessAllowed) {\n",
       "        return;\n",
       "      }\n",
       "      const div = document.createElement('div');\n",
       "      const label = document.createElement('label');\n",
       "      label.textContent = `Downloading \"${filename}\": `;\n",
       "      div.appendChild(label);\n",
       "      const progress = document.createElement('progress');\n",
       "      progress.max = size;\n",
       "      div.appendChild(progress);\n",
       "      document.body.appendChild(div);\n",
       "\n",
       "      const buffers = [];\n",
       "      let downloaded = 0;\n",
       "\n",
       "      const channel = await google.colab.kernel.comms.open(id);\n",
       "      // Send a message to notify the kernel that we're ready.\n",
       "      channel.send({})\n",
       "\n",
       "      for await (const message of channel.messages) {\n",
       "        // Send a message to notify the kernel that we're ready.\n",
       "        channel.send({})\n",
       "        if (message.buffers) {\n",
       "          for (const buffer of message.buffers) {\n",
       "            buffers.push(buffer);\n",
       "            downloaded += buffer.byteLength;\n",
       "            progress.value = downloaded;\n",
       "          }\n",
       "        }\n",
       "      }\n",
       "      const blob = new Blob(buffers, {type: 'application/binary'});\n",
       "      const a = document.createElement('a');\n",
       "      a.href = window.URL.createObjectURL(blob);\n",
       "      a.download = filename;\n",
       "      div.appendChild(a);\n",
       "      a.click();\n",
       "      div.remove();\n",
       "    }\n",
       "  "
      ],
      "text/plain": [
       "<IPython.core.display.Javascript object>"
      ]
     },
     "metadata": {},
     "output_type": "display_data"
    },
    {
     "data": {
      "application/javascript": [
       "download(\"download_d4decfb2-30c9-423b-8f65-23a43f4b9053\", \"output.csv\", 300093)"
      ],
      "text/plain": [
       "<IPython.core.display.Javascript object>"
      ]
     },
     "metadata": {},
     "output_type": "display_data"
    }
   ],
   "source": [
    "from google.colab import files\n",
    "\n",
    "df.to_csv('output.csv', encoding = 'utf-8-sig') \n",
    "files.download('output.csv')\n"
   ]
  },
  {
   "cell_type": "markdown",
   "metadata": {
    "id": "gWo4pPYKRWl-"
   },
   "source": [
    "# Oversampling"
   ]
  },
  {
   "cell_type": "code",
   "execution_count": 25,
   "metadata": {
    "id": "bCEKYSyIRv2M"
   },
   "outputs": [],
   "source": [
    "import matplotlib.pyplot as plt\n",
    "from imblearn.over_sampling import SMOTE"
   ]
  },
  {
   "cell_type": "code",
   "execution_count": 26,
   "metadata": {
    "colab": {
     "base_uri": "https://localhost:8080/",
     "height": 710
    },
    "id": "RpzAfizGRkF5",
    "outputId": "753e6b75-b799-4d83-c6d5-7d426f96dda3"
   },
   "outputs": [
    {
     "data": {
      "image/png": "[encoded data removed]",
      "text/plain": [
       "<Figure size 1440x720 with 2 Axes>"
      ]
     },
     "metadata": {
      "needs_background": "light"
     },
     "output_type": "display_data"
    }
   ],
   "source": [
    "# Sample figsize in inches\n",
    "fig, ax = plt.subplots(figsize=(20,10))         \n",
    "# Imbalanced DataFrame Correlation\n",
    "corr = df.corr()\n",
    "sns.heatmap(corr, cmap='YlGnBu', annot_kws={'size':30}, ax=ax)\n",
    "ax.set_title(\"Imbalanced Correlation Matrix\", fontsize=14)\n",
    "plt.show()"
   ]
  },
  {
   "cell_type": "code",
   "execution_count": 27,
   "metadata": {
    "id": "_docnNq6RbB7"
   },
   "outputs": [],
   "source": [
    "# Resample the minority class. You can change the strategy to 'auto' if you are not sure.\n",
    "sm = SMOTE(sampling_strategy='auto', random_state=7, k_neighbors=5)\n",
    "\n",
    "# Fit the model to generate the data.\n",
    "dfX, dfY = sm.fit_resample(df.drop('Activos', axis=1), df['Activos'])\n",
    "df = pd.concat([pd.DataFrame(dfY), pd.DataFrame(dfX)], axis=1)\n",
    "df.columns = df.columns"
   ]
  },
  {
   "cell_type": "code",
   "execution_count": 28,
   "metadata": {
    "colab": {
     "base_uri": "https://localhost:8080/",
     "height": 710
    },
    "id": "IRD9ZKiPTRMb",
    "outputId": "2b37b211-424f-4d67-f23e-10428919d739"
   },
   "outputs": [
    {
     "data": {
      "image/png": "[encoded data removed]",
      "text/plain": [
       "<Figure size 1440x720 with 2 Axes>"
      ]
     },
     "metadata": {
      "needs_background": "light"
     },
     "output_type": "display_data"
    }
   ],
   "source": [
    "# Sample figsize in inches\n",
    "fig, ax = plt.subplots(figsize=(20,10))         \n",
    "# Imbalanced DataFrame Correlation\n",
    "corr = df.corr()\n",
    "sns.heatmap(corr, cmap='YlGnBu', annot_kws={'size':30}, ax=ax)\n",
    "ax.set_title(\"After SMOTE Correlation Matrix\", fontsize=14)\n",
    "plt.show()"
   ]
  },
  {
   "cell_type": "code",
   "execution_count": 29,
   "metadata": {
    "colab": {
     "base_uri": "https://localhost:8080/"
    },
    "id": "CPC_dk4xT-Hi",
    "outputId": "d82327e4-deda-40aa-bd5d-5c6e3945c104"
   },
   "outputs": [
    {
     "data": {
      "text/plain": [
       "(13266, 15)"
      ]
     },
     "execution_count": 29,
     "metadata": {},
     "output_type": "execute_result"
    }
   ],
   "source": [
    "df.shape"
   ]
  },
  {
   "cell_type": "markdown",
   "metadata": {
    "id": "eY52qymf__st"
   },
   "source": [
    "# Export"
   ]
  },
  {
   "cell_type": "code",
   "execution_count": 30,
   "metadata": {
    "colab": {
     "base_uri": "https://localhost:8080/",
     "height": 17
    },
    "id": "a4tC_a65ACc7",
    "outputId": "34b78d0b-2cca-4a12-856b-e525a4994ad9"
   },
   "outputs": [
    {
     "data": {
      "application/javascript": [
       "\n",
       "    async function download(id, filename, size) {\n",
       "      if (!google.colab.kernel.accessAllowed) {\n",
       "        return;\n",
       "      }\n",
       "      const div = document.createElement('div');\n",
       "      const label = document.createElement('label');\n",
       "      label.textContent = `Downloading \"${filename}\": `;\n",
       "      div.appendChild(label);\n",
       "      const progress = document.createElement('progress');\n",
       "      progress.max = size;\n",
       "      div.appendChild(progress);\n",
       "      document.body.appendChild(div);\n",
       "\n",
       "      const buffers = [];\n",
       "      let downloaded = 0;\n",
       "\n",
       "      const channel = await google.colab.kernel.comms.open(id);\n",
       "      // Send a message to notify the kernel that we're ready.\n",
       "      channel.send({})\n",
       "\n",
       "      for await (const message of channel.messages) {\n",
       "        // Send a message to notify the kernel that we're ready.\n",
       "        channel.send({})\n",
       "        if (message.buffers) {\n",
       "          for (const buffer of message.buffers) {\n",
       "            buffers.push(buffer);\n",
       "            downloaded += buffer.byteLength;\n",
       "            progress.value = downloaded;\n",
       "          }\n",
       "        }\n",
       "      }\n",
       "      const blob = new Blob(buffers, {type: 'application/binary'});\n",
       "      const a = document.createElement('a');\n",
       "      a.href = window.URL.createObjectURL(blob);\n",
       "      a.download = filename;\n",
       "      div.appendChild(a);\n",
       "      a.click();\n",
       "      div.remove();\n",
       "    }\n",
       "  "
      ],
      "text/plain": [
       "<IPython.core.display.Javascript object>"
      ]
     },
     "metadata": {},
     "output_type": "display_data"
    },
    {
     "data": {
      "application/javascript": [
       "download(\"download_b658c230-a9a5-4511-9c02-7561f7ccf980\", \"output_oversampling.csv\", 588847)"
      ],
      "text/plain": [
       "<IPython.core.display.Javascript object>"
      ]
     },
     "metadata": {},
     "output_type": "display_data"
    }
   ],
   "source": [
    "df.to_csv('output_oversampling.csv', encoding = 'utf-8-sig') \n",
    "files.download('output_oversampling.csv')\n"
   ]
  }
 ],
 "metadata": {
  "colab": {
   "provenance": []
  },
  "kernelspec": {
   "display_name": "Python 3",
   "language": "python",
   "name": "python3"
  },
  "language_info": {
   "codemirror_mode": {
    "name": "ipython",
    "version": 3
   },
   "file_extension": ".py",
   "mimetype": "text/x-python",
   "name": "python",
   "nbconvert_exporter": "python",
   "pygments_lexer": "ipython3",
   "version": "3.8.8"
  }
 },
 "nbformat": 4,
 "nbformat_minor": 1
}
